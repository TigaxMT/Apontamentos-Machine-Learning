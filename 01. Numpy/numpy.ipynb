{
 "cells": [
  {
   "cell_type": "markdown",
   "metadata": {},
   "source": [
    "# Numpy\n",
    "\n",
    "Esta biblioteca é utilizada para manipulação de listas(arrays/vetores) e matrizes(vetores multidimensionais/array de arrays).<br>Com ela podem aplicar cálculos entre múltiplas listas/matrizes e ainda chamar funções para modificar essas listas/matrizes.<br><br>\n",
    "Agora vocês perguntam-se:<br>\n",
    "-*Python já tem listas e nós podemos manipulá-las e aplicar cálculos, porquê usar uma biblioteca!?*<br><br>\n",
    "Apesar de tudo isso ser verdade, vocês devem ter lido na [Introdução](https://github.com/TigaxMT/Apontamentos-Machine-Learning/blob/master/00.%20Introdu%C3%A7%C3%A3o/Introdu%C3%A7%C3%A3o.pdf) que cada feature é uma dimensão, imaginem que temos 100 features, sendo assim temos 100 dimensões (100D). São muitas dimensões para o Python processar, e sendo ela uma linguagem de programação interpretada tornará o processo muito lento!<br><br>\n",
    "-*Ok ... mas se Numpy é uma biblioteca de Python, não será \"lenta\" da mesma forma?*<br><br>\n",
    "Não, e o porquê é simples, ela foi escrita em <u>Linguagem C</u> que é uma linguagem compilada (faz com que tudo seja mais rápido!).<br><br>\n",
    "E por fim, outro motivo para aprender Numpy é o facto de ele ser a base de outra biblioteca MUITO importante na análise de dados: o ***Pandas***.<br><br>\n",
    "Bora aprender um pouquinho!"
   ]
  },
  {
   "cell_type": "markdown",
   "metadata": {},
   "source": [
    "## Instalação\n",
    "Antes de tudo precisamos instalar o Numpy! E para isso vocês pode usar o `pip` ou o `conda`, eu pessoalmente utilizo o `pip`, mas irei deixar abaixo o comando de instalação para ambos:<br>\n",
    "* Pip: `pip install numpy`\n",
    "* Conda: `conda install numpy`\n",
    "\n",
    "É só correr um desses comandos no terminal e o numpy ficará instalado!<br>\n",
    "#### Nota\n",
    "* **Primeiro**: Para quem usa alguma distribuição Linux, tenha atenção ao pip! Pois pode haver ainda algumas distribuições a usar Python 2 como padrão e aí o vosso `pip` será do Python 2 (pip2). O melhor é usar `pip3 install numpy`, dessa forma reforçam que querem usar o `pip` do Python 3 (pip3).<br>Iremos usar Python 3 pelo simples motivo que o Python 2 foi descontinuado no início de 2020.\n",
    "* **Segundo**: Se der erro de permissão ao usar o `pip` usem o seguinte comando: `pip install numpy --user`."
   ]
  },
  {
   "cell_type": "markdown",
   "metadata": {},
   "source": [
    "## Básico\n",
    "Agora vamos importar o numpy"
   ]
  },
  {
   "cell_type": "code",
   "execution_count": 2,
   "metadata": {},
   "outputs": [],
   "source": [
    "import numpy as np"
   ]
  },
  {
   "cell_type": "markdown",
   "metadata": {},
   "source": [
    "Para não termos de escrever a palavra `numpy` usammos o `as` para atribuir um alias, no caso chamamos ele de `np`.<br>\n",
    "Dessa forma só temos de escrever 2 letras (np) em vez de 5 (numpy)."
   ]
  },
  {
   "cell_type": "markdown",
   "metadata": {},
   "source": [
    "### Arrays e Matrizes\n",
    "\n",
    "Comecemos pelo básico, por exemplo vamos criar um array(ou seja, uma lista ou também chamado de vetor) e depois criaremos uma matriz (que não é nada mais que uma lista com outras listas dentro dela).<br>"
   ]
  },
  {
   "cell_type": "code",
   "execution_count": 3,
   "metadata": {},
   "outputs": [
    {
     "name": "stdout",
     "output_type": "stream",
     "text": [
      "[1 2 3 4 5]\n"
     ]
    }
   ],
   "source": [
    "# Criar uma lista/array/vetor\n",
    "lista = np.array([1,2,3,4,5])\n",
    "\n",
    "print(lista)"
   ]
  },
  {
   "cell_type": "markdown",
   "metadata": {},
   "source": [
    "Como podem ver é uma lista igual ao Python. Vamos ver o tipo"
   ]
  },
  {
   "cell_type": "code",
   "execution_count": 4,
   "metadata": {},
   "outputs": [
    {
     "name": "stdout",
     "output_type": "stream",
     "text": [
      "<class 'numpy.ndarray'>\n"
     ]
    }
   ],
   "source": [
    "print( type(lista) )"
   ]
  },
  {
   "cell_type": "markdown",
   "metadata": {},
   "source": [
    "Podemos ver que já não é uma *list* do Python e sim um numpy array!<br><br>\n",
    "Agora vamos criar uma matriz, que como já disse é uma lista de listas"
   ]
  },
  {
   "cell_type": "code",
   "execution_count": 5,
   "metadata": {},
   "outputs": [
    {
     "name": "stdout",
     "output_type": "stream",
     "text": [
      "[[1 2 3]\n",
      " [4 5 6]]\n"
     ]
    }
   ],
   "source": [
    "# Criar uma matriz\n",
    "matriz = np.array([ [1,2,3],\n",
    "                    [4,5,6] ])\n",
    "\n",
    "print(matriz)"
   ]
  },
  {
   "cell_type": "markdown",
   "metadata": {},
   "source": [
    "E temos aqui uma matriz! Podemos ver que tem 2 linhas e 3 colunas. E como sabemos isso?!<br>\n",
    "Bem primeiro vejam visualmente, nós temos uma lista representada por *[ ]* e dentro dela temos mais 2 listas:<br>\n",
    "*[1 2 3]* e *[4,5,6]*<br><br>\n",
    "O número de listas dentro da lista são as **linhas**.<br><br>\n",
    "As colunas é fácil, é o **número de elementos que está dentro das listas**. Cada lista tem 3 números, logo temos 3 colunas!<br><br>\n",
    "#### Nota\n",
    "Vocês podem ter o número de linhas que quiserem, **mas** têm de ter o mesmo número de elementos em todas as listas!!<br>\n",
    "Vejam este exemplo:"
   ]
  },
  {
   "cell_type": "code",
   "execution_count": 6,
   "metadata": {},
   "outputs": [],
   "source": [
    "# Aqui eu criei uma matriz, contudo a primeira linha tem 3 colunas e a segunda 2 colunas\n",
    "\n",
    "matriz_errada = np.array([\n",
    "    [1,2,3],\n",
    "    [4,5]\n",
    "])"
   ]
  },
  {
   "cell_type": "code",
   "execution_count": 7,
   "metadata": {},
   "outputs": [
    {
     "name": "stdout",
     "output_type": "stream",
     "text": [
      "[list([1, 2, 3]) list([4, 5])]\n"
     ]
    }
   ],
   "source": [
    "print( matriz_errada )"
   ]
  },
  {
   "cell_type": "markdown",
   "metadata": {},
   "source": [
    "O que acontece aqui é que não é criado um numpy array e sim um numpy array com duas listas de Python dentro!<br>\n",
    "**Tenham atenção a isso!**<br><br>\n",
    "Agora vamos aprender como ver quantas linhas e colunas tem um numpy array/matriz"
   ]
  },
  {
   "cell_type": "code",
   "execution_count": 8,
   "metadata": {},
   "outputs": [
    {
     "name": "stdout",
     "output_type": "stream",
     "text": [
      "(5,)\n",
      "(2, 3)\n"
     ]
    }
   ],
   "source": [
    "print(lista.shape)\n",
    "print(matriz.shape)"
   ]
  },
  {
   "cell_type": "markdown",
   "metadata": {},
   "source": [
    "O `shape` é um atributo do nosso numpy array, ele retorna uma tupla onde:<br><br>\n",
    "No caso de um array/lista/vetor:\n",
    "* O primeiro e único elemento da tupla, representa o número de elementos\n",
    "\n",
    "No caso de uma matriz/array de arrays/vetor multidimensional:\n",
    "* O primeiro elemento é o número de linhas\n",
    "* O segundo elemento é o número de colunas\n",
    "\n",
    "Como podem observar o shape da lista é: `(5,)` - o que significa que só está a contar as colunas e não as linhas já que ele tem apenas 1 linha e 5 colunas(números/elementos).<br>Sempre que virem um shape neste formato `(x,)` é porque o numpy array é realmente uma lista/array e não uma matriz.<br><br>\n",
    "Já a nossa matriz retornou: `(2,3)` - o que bate certo 2 linhas e 3 colunas.<br><br>"
   ]
  },
  {
   "cell_type": "markdown",
   "metadata": {},
   "source": [
    "Há outro método para criar matrizes: `matrix()`, mas a própria documentação não recomenda o uso dele, logo não vou mostrar aqui."
   ]
  },
  {
   "cell_type": "markdown",
   "metadata": {},
   "source": [
    "### Métodos\n",
    "Numpy tem vários métodos que manipulam os nossos arrays e/ou matrizes, vou mostrar alguns aqui"
   ]
  },
  {
   "cell_type": "code",
   "execution_count": 9,
   "metadata": {},
   "outputs": [
    {
     "name": "stdout",
     "output_type": "stream",
     "text": [
      "Lista de 0 a 9:  [0 1 2 3 4 5 6 7 8 9]\n"
     ]
    }
   ],
   "source": [
    "\"\"\"\n",
    "\n",
    "    O método arange serve para criar arrays de x a y números. \n",
    "    Por exemplo um array com números de 0 a 9\n",
    "    \n",
    "\"\"\"\n",
    "\n",
    "# Vamos criar um array de 0-9\n",
    "lista = np.arange(0,10)\n",
    "print(\"Lista de 0 a 9: \", lista)"
   ]
  },
  {
   "cell_type": "code",
   "execution_count": 10,
   "metadata": {},
   "outputs": [
    {
     "name": "stdout",
     "output_type": "stream",
     "text": [
      "Lista de 0 a 9, contado de 2 em 2:  [0 2 4 6 8]\n"
     ]
    }
   ],
   "source": [
    "\"\"\" \n",
    "\n",
    "    Podemos definir os steps,ou seja, pensem num range() do Python, se eu fizer: range(0, 10, 2) - ele vai contar de 0 a 9\n",
    "    de 2 em 2: 0 2 4 6 8 - é igual no método arange\n",
    "    \n",
    "\"\"\"\n",
    "\n",
    "# Criar um array de 0-9, só que contando de 2 em 2\n",
    "lista = np.arange(0,10,2)\n",
    "print(\"Lista de 0 a 9, contado de 2 em 2: \", lista)"
   ]
  },
  {
   "cell_type": "code",
   "execution_count": 11,
   "metadata": {},
   "outputs": [
    {
     "name": "stdout",
     "output_type": "stream",
     "text": [
      "Lista com 0s:  [0. 0. 0. 0. 0.]\n",
      "Lista com 1s:  [1. 1. 1. 1. 1.]\n",
      "Matriz com 0s:\n",
      " [[0. 0. 0. 0. 0.]\n",
      " [0. 0. 0. 0. 0.]\n",
      " [0. 0. 0. 0. 0.]]\n",
      "\n",
      "Matriz com 1s:\n",
      " [[1. 1. 1. 1. 1.]\n",
      " [1. 1. 1. 1. 1.]\n",
      " [1. 1. 1. 1. 1.]]\n"
     ]
    }
   ],
   "source": [
    "\"\"\"\n",
    "\n",
    "    No caso de quererem criar arrays ou matrizes preenchidas com zeros ou com uns, há métodos para isso\n",
    "    \n",
    "\"\"\"\n",
    "\n",
    "# Criar uma array com 5 colunas preenchidas com zeros\n",
    "lista = np.zeros(5)\n",
    "\n",
    "print(\"Lista com 0s: \", lista)\n",
    "\n",
    "# Criar um array com 5 colunas preenchidas com uns\n",
    "\n",
    "lista = np.ones(5)\n",
    "print(\"Lista com 1s: \", lista)\n",
    "\n",
    "# Criar matriz com 3 linhas e 5 colunas preenchidas com zeros\n",
    "\n",
    "matriz = np.zeros((3,5))\n",
    "print(\"Matriz com 0s:\\n\", matriz)\n",
    "\n",
    "# Criar matriz com 3 linhas e 5 colunas preenchidas com uns\n",
    "\n",
    "matriz = np.ones((3,5))\n",
    "print(\"\\nMatriz com 1s:\\n\", matriz)"
   ]
  },
  {
   "cell_type": "markdown",
   "metadata": {},
   "source": [
    "Isto pode ser útil no caso de quererem inicializar um array/matriz e ainda não terem valores para colocar lá."
   ]
  },
  {
   "cell_type": "code",
   "execution_count": 12,
   "metadata": {},
   "outputs": [
    {
     "name": "stdout",
     "output_type": "stream",
     "text": [
      "Com método eye:\n",
      " [[1. 0. 0. 0.]\n",
      " [0. 1. 0. 0.]\n",
      " [0. 0. 1. 0.]\n",
      " [0. 0. 0. 1.]]\n",
      "\n",
      "Com método identity:\n",
      " [[1. 0. 0. 0.]\n",
      " [0. 1. 0. 0.]\n",
      " [0. 0. 1. 0.]\n",
      " [0. 0. 0. 1.]]\n"
     ]
    }
   ],
   "source": [
    "\"\"\"\n",
    "    Este método cria uma matriz identidade\n",
    "\n",
    "\"\"\"\n",
    "# Criar matriz identidade de 4 por 4\n",
    "matriz_identidade = np.eye(4)\n",
    "\n",
    "print(\"Com método eye:\\n\", matriz_identidade)\n",
    "\n",
    "# Criar a mesma matriz identidade com outro método\n",
    "matriz_identidade = np.identity(4)\n",
    "print(\"\\nCom método identity:\\n\", matriz_identidade)"
   ]
  },
  {
   "cell_type": "markdown",
   "metadata": {},
   "source": [
    "A diferença entre um método e outro é que o método `eye` permite que explicitemos o índice da diagonal, já o `identity` apenas usa a diagonal principal."
   ]
  },
  {
   "cell_type": "code",
   "execution_count": 13,
   "metadata": {},
   "outputs": [
    {
     "name": "stdout",
     "output_type": "stream",
     "text": [
      "Diagonal começada do índice 1:\n",
      " [[0. 1. 0. 0.]\n",
      " [0. 0. 1. 0.]\n",
      " [0. 0. 0. 1.]\n",
      " [0. 0. 0. 0.]]\n"
     ]
    }
   ],
   "source": [
    "\"\"\"\n",
    "    \n",
    "    Vamos usar o eye novamente mas agora iniciamos a diagonal do índice 1 (coluna 2)\n",
    "\n",
    "\"\"\"\n",
    "print(\"Diagonal começada do índice 1:\\n\", np.eye(4, k=1))"
   ]
  },
  {
   "cell_type": "markdown",
   "metadata": {},
   "source": [
    "Deu para ver que a diagonal começou no índice 1 (coluna 2) da primeira linha.<br>\n",
    "O porquê da criação da matriz identidade, eu explicarei mais à frente."
   ]
  },
  {
   "cell_type": "code",
   "execution_count": 14,
   "metadata": {},
   "outputs": [
    {
     "name": "stdout",
     "output_type": "stream",
     "text": [
      "Intervalo de 0 a 10, com 2 número igualmente espaçados:  [ 0. 10.]\n",
      "Intervalo de 0 a 10, com 3 número igualmente espaçados:  [ 0.  5. 10.]\n",
      "Intervalo de 0 a 10, com 4 número igualmente espaçados:  [ 0.          3.33333333  6.66666667 10.        ]\n",
      "Intervalo de 0 a 10, com 5 número igualmente espaçados:  [ 0.   2.5  5.   7.5 10. ]\n"
     ]
    }
   ],
   "source": [
    "\"\"\"\n",
    "\n",
    "    Vamos novamente criar um array, mas agora vamos fazer que nem o arange só que vamos decidir quantos valores queremos\n",
    "    passando um dado intervalo.\n",
    "    \n",
    "    É meio confuso vejam o exemplo:\n",
    "    Eu digo que quero um intervalo de 0 a 10, contudo digo que só quero 2 números ... O que ele retorna?\n",
    "    \n",
    "    Retorna: [0, 10]\n",
    "    Se eu pedisse 3 números ficaria: [0, 5, 10]\n",
    "    Se pedisse 4 número ficaria: [0, 3.3333333, 6.6666667, 10]\n",
    "    \n",
    "    Ele cria um array num dado intervalo com espaços iguais entre os números. \n",
    "    Ele conta até X (X é o número máximo do nosso intervalo) com base em quantos números nós queremos.\n",
    "\n",
    "\"\"\"\n",
    "\n",
    "# Criar array de 0 a 10 em que retorna somente 2 números igualmente espaçados\n",
    "\n",
    "lista = np.linspace(0, 10, 2)\n",
    "print(\"Intervalo de 0 a 10, com 2 número igualmente espaçados: \", lista)\n",
    "\n",
    "# Criar array de 0 a 10 em que retorna somente 3 números igualmente espaçados\n",
    "\n",
    "lista = np.linspace(0, 10, 3)\n",
    "print(\"Intervalo de 0 a 10, com 3 número igualmente espaçados: \", lista)\n",
    "\n",
    "# Criar array de 0 a 10 em que retorna somente 4 números igualmente espaçados\n",
    "\n",
    "lista = np.linspace(0, 10, 4)\n",
    "print(\"Intervalo de 0 a 10, com 4 número igualmente espaçados: \", lista)\n",
    "\n",
    "# Criar array de 0 a 10 em que retorna somente 5 números igualmente espaçados\n",
    "\n",
    "lista = np.linspace(0, 10, 5)\n",
    "print(\"Intervalo de 0 a 10, com 5 número igualmente espaçados: \", lista)"
   ]
  },
  {
   "cell_type": "markdown",
   "metadata": {},
   "source": [
    "Espero que tenha dado para entender o que este método faz. Alguma dúvida é só dizer!"
   ]
  },
  {
   "cell_type": "code",
   "execution_count": 15,
   "metadata": {},
   "outputs": [
    {
     "name": "stdout",
     "output_type": "stream",
     "text": [
      "Array com 10 números aleatórios[entre 0-1]:\n",
      " [0.3963623  0.45566789 0.64552633 0.46928107 0.87712831 0.41264246\n",
      " 0.4734964  0.60565797 0.47325691 0.91364698]\n"
     ]
    }
   ],
   "source": [
    "\"\"\"\n",
    "\n",
    "    Vamos criar alguns arrays/matrizes com números aleatórios \n",
    "\n",
    "\n",
    "\"\"\"\n",
    "\n",
    "# Criar um array com 10 números ENTRE 0 e 1 aleatórios\n",
    "\n",
    "lista = np.random.rand(10)\n",
    "print(\"Array com 10 números aleatórios[entre 0-1]:\\n\", lista)"
   ]
  },
  {
   "cell_type": "markdown",
   "metadata": {},
   "source": [
    "Se multiplicarmos por 100 por exemplo obterão resultado entre 0 e 100. "
   ]
  },
  {
   "cell_type": "code",
   "execution_count": 16,
   "metadata": {},
   "outputs": [
    {
     "name": "stdout",
     "output_type": "stream",
     "text": [
      "Array com 10 números aleatórios[entre 0-100]:\n",
      " [98.88409111 77.08163941 13.39588549 39.31987717 44.05597644 69.86620336\n",
      " 82.0887926  64.90913717 86.30652569 36.49765819]\n"
     ]
    }
   ],
   "source": [
    "# Criar um array com 10 números ENTRE 0 e 100 aleatórios\n",
    "\n",
    "lista = np.random.rand(10) * 100\n",
    "print(\"Array com 10 números aleatórios[entre 0-100]:\\n\", lista)"
   ]
  },
  {
   "cell_type": "code",
   "execution_count": 17,
   "metadata": {},
   "outputs": [
    {
     "name": "stdout",
     "output_type": "stream",
     "text": [
      "Matriz 10x2 com número aleatórios:\n",
      " [[0.28045499 0.04371162]\n",
      " [0.06217862 0.10621033]\n",
      " [0.41178721 0.4444485 ]\n",
      " [0.32144277 0.19412138]\n",
      " [0.81610997 0.7750304 ]\n",
      " [0.07181731 0.39100106]\n",
      " [0.15522744 0.42852564]\n",
      " [0.43875585 0.31843559]\n",
      " [0.47384322 0.58550299]\n",
      " [0.83193642 0.52203983]]\n"
     ]
    }
   ],
   "source": [
    "\"\"\"\n",
    "\n",
    "    Também podemos criar matrizes de números aleatórios\n",
    "\n",
    "\"\"\"\n",
    "\n",
    "# Criar matriz de 10 linhas por 2 colunas (10x2) com número aleatórios de 0 a 1\n",
    "matriz = np.random.rand(10,2)\n",
    "\n",
    "print(\"Matriz 10x2 com número aleatórios:\\n\", matriz)"
   ]
  },
  {
   "cell_type": "code",
   "execution_count": 18,
   "metadata": {},
   "outputs": [
    {
     "name": "stdout",
     "output_type": "stream",
     "text": [
      "Array de 5 inteiros com inteiros de 0 a 20:  [ 3 17 17  5  0]\n",
      "Matriz 3x2 com inteiros de 0 a 20:\n",
      " [[13 12]\n",
      " [ 2 15]\n",
      " [14 12]]\n"
     ]
    }
   ],
   "source": [
    "\"\"\"\n",
    "\n",
    "    Podemos criar arrays/matrizes com números inteiros aleatórios\n",
    "    \n",
    "    Aqui é um pouco diferente, porque temos que passar um intervalo de números, onde o primeiro argumento é o número mínimo, \n",
    "    ou seja, de onde parte o intervalo, e o segundo argumento é o número máximo (o fim do intervalo).\n",
    "    \n",
    "    Ainda temos o argumento \"size\", se especificarem apenas um número, obteremos um array (array de 1 dimensão). \n",
    "    No caso de especificarem uma tupla, definem o número de linhas e colunas (no caso de ser uma matriz 2D, como nos exemplos\n",
    "    que tenho mostrado).\n",
    "    \n",
    "    Imaginem que passamos: size=(3,2) - Então teremos uma matriz com 3 linhas e 2 colunas\n",
    "    Agora se passarmos: size=(3,2,4) - Temos uma matriz, que neste caso é melhor pensarmos que tem um X=3, um Y=2, e um Z=4, \n",
    "    ou seja, aqui temos uma matriz de 3 dimensões (3D).\n",
    "    \n",
    "    E assim vai, eu vou ficar pelas 2 Dimensões(Linhas e Colunas) fica muito mais fácil de visualizarem!\n",
    "\n",
    "\"\"\"\n",
    "\n",
    "# Criar um array com 5 inteiros com inteiros de 0 a 20\n",
    "\n",
    "lista = np.random.randint(0, 20, size=5)\n",
    "print(\"Array de 5 inteiros com inteiros de 0 a 20: \", lista)\n",
    "\n",
    "# Criar uma matriz com 3 linhas e 2 colunas de 0 a 20\n",
    "\n",
    "matriz = np.random.randint(0, 20, (3,2))\n",
    "print(\"Matriz 3x2 com inteiros de 0 a 20:\\n\", matriz)"
   ]
  },
  {
   "cell_type": "markdown",
   "metadata": {},
   "source": [
    "Se repararem eu omiti o `size=` no caso da matriz. Isto para vos mostrar que é indiferente, neste caso, especificar explicitamente o `size=`<br><br>\n",
    "#### Nota\n",
    "Se omitirem o valor máximo, por exemplo: `np.random.randint(5, size=(3,2))` - neste caso os inteiros vão de 0 a 5, e somos obrigados a passar o `size=` explicitamente, **NÃO podemos omitir**. "
   ]
  },
  {
   "cell_type": "code",
   "execution_count": 19,
   "metadata": {},
   "outputs": [
    {
     "name": "stdout",
     "output_type": "stream",
     "text": [
      "Array original:  [ 0  1  2  3  4  5  6  7  8  9 10 11 12 13 14]\n",
      "\n",
      "Array transformado em uma matriz 5x3:\n",
      " [[ 0  1  2]\n",
      " [ 3  4  5]\n",
      " [ 6  7  8]\n",
      " [ 9 10 11]\n",
      " [12 13 14]]\n"
     ]
    }
   ],
   "source": [
    "\"\"\"\n",
    "\n",
    "    Outro método extremamente importante é o reshape. Ele permite alterar a estrutura de um array/matriz\n",
    "\n",
    "\"\"\"\n",
    "\n",
    "# Vamos criar um array de 0 a 15\n",
    "lista = np.arange(15)\n",
    "\n",
    "# Agora vamos transformar este array de 1 dimensão em uma matriz de 5 linhas por 3 colunas\n",
    "# Já que 5 x 3 = 15\n",
    "print(\"Array original: \", lista)\n",
    "print(\"\\nArray transformado em uma matriz 5x3:\\n\", lista.reshape((5,3)))"
   ]
  },
  {
   "cell_type": "markdown",
   "metadata": {},
   "source": [
    "Atenção que têm de passar valores válidos para o número de linhas e colunas!!<br>Para saberem se é um valor válido simplesmente multipliquem ambos, o resultado tem que dar o tamanho do vosso array inicial!<br><br>\n",
    "\n",
    "Agora imaginem que uma função está a reclamar porque vocês passaram um array de 1 dimensão e não uma matriz. O que vocês podem fazer??<br>\n",
    "Bem se fizerem isto abaixo, vocês convertem um array para uma matriz:"
   ]
  },
  {
   "cell_type": "code",
   "execution_count": 20,
   "metadata": {},
   "outputs": [
    {
     "name": "stdout",
     "output_type": "stream",
     "text": [
      "[[ 0  1  2  3  4  5  6  7  8  9 10 11 12 13 14]]\n"
     ]
    }
   ],
   "source": [
    "print( lista.reshape(1, -1) )"
   ]
  },
  {
   "cell_type": "markdown",
   "metadata": {},
   "source": [
    "Como podemos confirmar ???<br>Bem, podem comparar o `shape` da lista original com o shape da lista transformada"
   ]
  },
  {
   "cell_type": "code",
   "execution_count": 21,
   "metadata": {},
   "outputs": [
    {
     "name": "stdout",
     "output_type": "stream",
     "text": [
      "Shape original:  (15,)\n",
      "Shape após a lista ser transformada em matriz:  (1, 15)\n"
     ]
    }
   ],
   "source": [
    "print(\"Shape original: \", lista.shape)\n",
    "print(\"Shape após a lista ser transformada em matriz: \", lista.reshape(1, -1).shape)"
   ]
  },
  {
   "cell_type": "markdown",
   "metadata": {},
   "source": [
    "Aqui dá para ver que a lista tinha simplesmente 15 elementos dentro dela. Logo depois que foi feito o `reshape` ela passou a ser uma matriz de 1 linha com 15 colunas.<br><br>\n",
    "Agora vocês perguntam:<br>\n",
    "-*Certo, então e se eu fizer reshape(-1, 1)? Muda alguma coisa??*<br><br>\n",
    "Vamos testar!"
   ]
  },
  {
   "cell_type": "code",
   "execution_count": 22,
   "metadata": {},
   "outputs": [
    {
     "name": "stdout",
     "output_type": "stream",
     "text": [
      "reshape(1, -1) =  [[ 0  1  2  3  4  5  6  7  8  9 10 11 12 13 14]]\n",
      "reshape(-1, 1) = \n",
      " [[ 0]\n",
      " [ 1]\n",
      " [ 2]\n",
      " [ 3]\n",
      " [ 4]\n",
      " [ 5]\n",
      " [ 6]\n",
      " [ 7]\n",
      " [ 8]\n",
      " [ 9]\n",
      " [10]\n",
      " [11]\n",
      " [12]\n",
      " [13]\n",
      " [14]]\n"
     ]
    }
   ],
   "source": [
    "print(\"reshape(1, -1) = \", lista.reshape(1, -1))\n",
    "print(\"reshape(-1, 1) = \\n\", lista.reshape(-1, 1))"
   ]
  },
  {
   "cell_type": "markdown",
   "metadata": {},
   "source": [
    "Dá para ver que a primeira matriz tem simplesmente 1 linha e 15 colunas. Já a segunda tem o contrário, 15 linhas e 1 coluna.<br>\n",
    "Acho que deu para entender que inverter os valores faz com que o número de linhas troque com o número de colunas.<br><br>\n",
    "\n",
    "Este último exemplo fez me lembrar de um atributo dos `numpy.ndarray` (classe de arrays que estamos a usar).<br>Este atributo é chamado de `T`, que no caso siginfica \"Transpose\", ou seja, **Transposição**.<br><br>\n",
    "*Para que serve a transposição? E o que é transposição?*<br><br>\n",
    "Para que serve é algo que vocês entenderão mais à frente (nas aritméticas). Vamos ver então o que ele faz:"
   ]
  },
  {
   "cell_type": "code",
   "execution_count": 23,
   "metadata": {},
   "outputs": [],
   "source": [
    "\"\"\" \n",
    "\n",
    "    Vou criar 2 matrizes\n",
    "\n",
    "\"\"\"\n",
    "\n",
    "# Matriz de 1 linha e 5 colunas\n",
    "matriz1 = np.array([[1,2,3,4,5]])\n",
    "\n",
    "# Matriz de 5 linhas e 1 coluna\n",
    "matriz2 = np.array([\n",
    "    [1],\n",
    "    [2],\n",
    "    [3],\n",
    "    [4],\n",
    "    [5]\n",
    "])"
   ]
  },
  {
   "cell_type": "code",
   "execution_count": 24,
   "metadata": {},
   "outputs": [
    {
     "name": "stdout",
     "output_type": "stream",
     "text": [
      "matriz1 original:  [[1 2 3 4 5]]\n",
      "matriz1 transposta:\n",
      " [[1]\n",
      " [2]\n",
      " [3]\n",
      " [4]\n",
      " [5]]\n"
     ]
    }
   ],
   "source": [
    "# Agora vamos transpor a primeira matriz\n",
    "\n",
    "print(\"matriz1 original: \", matriz1)\n",
    "print(\"matriz1 transposta:\\n\", matriz1.T)"
   ]
  },
  {
   "cell_type": "markdown",
   "metadata": {},
   "source": [
    "Deu para ver?! Passamos de uma matriz de 1 linha e 5 colunas, para uma matriz de 5 linhas e 1 coluna!!!!<br>\n",
    "Literalmente fizemos o mesmo que `reshape(1, -1)`"
   ]
  },
  {
   "cell_type": "code",
   "execution_count": 25,
   "metadata": {},
   "outputs": [
    {
     "name": "stdout",
     "output_type": "stream",
     "text": [
      "matriz2 original: \n",
      " [[1]\n",
      " [2]\n",
      " [3]\n",
      " [4]\n",
      " [5]]\n",
      "matriz2 transposta:  [[1 2 3 4 5]]\n"
     ]
    }
   ],
   "source": [
    "# Agora vamos transpor a segunda matriz\n",
    "\n",
    "print(\"matriz2 original: \\n\", matriz2)\n",
    "print(\"matriz2 transposta: \", matriz2.T)"
   ]
  },
  {
   "cell_type": "markdown",
   "metadata": {},
   "source": [
    "Aconteceu o mesmo novamente, só que na situação oposta! Neste caso fizemos o mesmo que um `reshape(-1, 1)`<br><br>\n",
    "\n",
    "#### Nota\n",
    "Quando temos uma matriz com 1 linha e N colunas, chamamos essa matriz de, **matriz Linha**(em inglês, row matrix).<br>\n",
    "Uma matriz com N linhas e 1 coluna, chama-se de **matriz Coluna**(em inglês, column matrix)<br><br>\n",
    "É bom saber isto porque é útil quando se faz cálculos entre matrizes."
   ]
  },
  {
   "cell_type": "markdown",
   "metadata": {},
   "source": [
    "E agora vamos para os últimos métodos \"básicos\", estes permitem-nos obter os mínimos e os máximos."
   ]
  },
  {
   "cell_type": "code",
   "execution_count": 26,
   "metadata": {},
   "outputs": [
    {
     "name": "stdout",
     "output_type": "stream",
     "text": [
      "Máximo da matriz:  56\n",
      "Mínimos da matriz:  12\n"
     ]
    }
   ],
   "source": [
    "\"\"\"\n",
    "\n",
    "    Vamos obter os máximos e os mínimos de uma dada matriz também se aplica a arrays)\n",
    "\n",
    "\"\"\"\n",
    "\n",
    "matriz = np.array([\n",
    "    [24, 35],\n",
    "    [12, 56]\n",
    "])\n",
    "\n",
    "print(\"Máximo da matriz: \", matriz.max())\n",
    "print(\"Mínimos da matriz: \", matriz.min())"
   ]
  },
  {
   "cell_type": "code",
   "execution_count": 27,
   "metadata": {},
   "outputs": [
    {
     "name": "stdout",
     "output_type": "stream",
     "text": [
      "Índice do máximo da matriz:  3\n",
      "Índice do mínimo da matriz:  2\n"
     ]
    }
   ],
   "source": [
    "\"\"\"\n",
    "\n",
    "    Vamos obter os índices dos máximos e mínimos da matriz\n",
    "\n",
    "\"\"\"\n",
    "print(\"Índice do máximo da matriz: \", matriz.argmax())\n",
    "print(\"Índice do mínimo da matriz: \", matriz.argmin())"
   ]
  },
  {
   "cell_type": "markdown",
   "metadata": {},
   "source": [
    "<br>\n",
    "Já mostrei alguns métodos úteis que o numpy disponibiliza e ainda irei mostrar mais.<br>\n",
    "No entanto, os próximo são mais usados em aritméticas, portanto mostrarei quando estiver nas aritméticas.<br>\n"
   ]
  },
  {
   "cell_type": "markdown",
   "metadata": {},
   "source": [
    "## Fatiamento e índices de arrays e matrizes\n",
    "\n",
    "Já sabemos criar arrays/matrizes e aplicar alguns métodos para retirar algumas informações deles. Está a faltar uma coisa:<br>-*Então e se quisermos apenas os valores de uma parte do array/matriz?*<br><br>\n",
    "É isso que vamos aprender aqui, como retirar uma \"fatia\" do nosso array/matriz"
   ]
  },
  {
   "cell_type": "code",
   "execution_count": 28,
   "metadata": {},
   "outputs": [
    {
     "name": "stdout",
     "output_type": "stream",
     "text": [
      "[[ 1  2  3  4]\n",
      " [ 5  6  7  8]\n",
      " [ 9 10 11 12]\n",
      " [13 14 15 16]]\n"
     ]
    }
   ],
   "source": [
    "# Vamos criar uma matriz com 5 linhas e 4 colunas\n",
    "\n",
    "matriz = np.array([\n",
    "    [1,2,3,4],\n",
    "    [5,6,7,8],\n",
    "    [9,10,11,12],\n",
    "    [13,14,15,16]\n",
    "])\n",
    "\n",
    "print(matriz)"
   ]
  },
  {
   "cell_type": "markdown",
   "metadata": {},
   "source": [
    "Ok, agora que temos a nossa matriz, vamos começar a \"fatiá-la\".<br><br>\n",
    "Vamos começar pelas linhas, eu quero apenas mostrar a linha 2 e 3.\n",
    "\n",
    "#### Nota\n",
    "Lembrem-se que a linha 2 tem índice 1, e a linha 3 tem índice 2, normalmente em programação começamos a contar a partir do 0 e não do 1."
   ]
  },
  {
   "cell_type": "code",
   "execution_count": 29,
   "metadata": {},
   "outputs": [
    {
     "name": "stdout",
     "output_type": "stream",
     "text": [
      "[[ 5  6  7  8]\n",
      " [ 9 10 11 12]]\n"
     ]
    }
   ],
   "source": [
    "# Mostrar apenas as linhas 2 e 3\n",
    "print(matriz[1:3])"
   ]
  },
  {
   "cell_type": "markdown",
   "metadata": {},
   "source": [
    "Funcionou!!! Mas secalhar vocês perguntam-se:<br>\n",
    "*Porquê [1:3]?? Não deveria ser [1:2]??*<br><br>\n",
    "Realmente eu disse acima que o índice da linha 3 era 2, contudo eu coloquei 3 ... Porquê?<br>\n",
    "Assim como no `range()` o número máximo nunca é contado, ou seja, se o nosso número máximo é 10, ele contará somente até ao 9!<br>\n",
    "Por essa razão eu passei o índice limite como 3 (que refere-se à linha 4), porque ele vai só contar até ao índice 2 (que refere-se à linha 3).<br><br>\n",
    "\n",
    "**Recapitulando**<br>\n",
    "Nós queremos ver a linha 2 e 3, então nós passamos o índice 1 que é a linha de partida, e passamos o índice 3 para ver a linha 3 (não esquecendo que a linha 3 tem índice 2 e **NÃO** 3!<br>\n",
    "Fica assim: `matriz[1:3]`<br><br><br>\n",
    "Agora vamos às colunas. Eu quero ver todas as linhas, mas só quero ver os valores das colunas 1 e 2 (ou seja, índices 0 e 1).<br>"
   ]
  },
  {
   "cell_type": "code",
   "execution_count": 30,
   "metadata": {},
   "outputs": [
    {
     "name": "stdout",
     "output_type": "stream",
     "text": [
      "[[ 1  2]\n",
      " [ 5  6]\n",
      " [ 9 10]\n",
      " [13 14]]\n"
     ]
    }
   ],
   "source": [
    "# Mostrar todas as linhas, mas apenas as colunas 1 e 2\n",
    "\n",
    "print( matriz[:, 0:2] )"
   ]
  },
  {
   "cell_type": "markdown",
   "metadata": {},
   "source": [
    "Vamos observar isto bem de perto:<br><br>\n",
    "Comecemos pelos primeiros dois pontos -> matriz[ ***:*** , 0:2] - Passar os dois pontos sem qualquer valor é o mesmo que: `matriz[0:-1, 0:2]`, ou seja, o ponto de partida é no primeiro valor da matriz (índice 0) e o ponto de chegada é no último valor da matriz (índice -1). Logo ele percorre todas as linhas desde da 0 até à última(-1).<br><br>\n",
    "Agora vem uma vírgula, essa vírgula separa o fatiamento das linhas e das colunas. Portanto à esquerda da vírgula estamos a definir que linhas queremos ver (no caso queremos ver todas, do índice 0 ao -1), à direita da vírgula vamos definir que colunas queremos ver.<br><br>\n",
    "Por fim o nosso: matriz[:, ***0:2***] - este tem a mesma lógica que as linhas. Estou a definir que quero ver a partir da linha 1 (índice 0) até à linha 2 (índice 1, mas passamos 2 porque o python não conta com ele). Uma pergunta pertinente seria:<br>\n",
    "*Então e neste caso, podemos omitir o 0?*<br><br>\n",
    "E a reposta é ... **CLARO!**, 0 e -1 podem sempre ser omitidos, portanto ficaria assim: `matriz[:, :2]`."
   ]
  },
  {
   "cell_type": "markdown",
   "metadata": {},
   "source": [
    "<br>\n",
    "Eu sei, isto por escrito é muito confuso, a melhor forma de entender isto de fatiamento e índices, é colocar na prática e ver os resultados. Vão ver que depois de uns testes vão entender a lógica."
   ]
  },
  {
   "cell_type": "markdown",
   "metadata": {},
   "source": [
    "## Aritméticas\n",
    "\n",
    "Por fim chegamos às aritméticas. E é para isso que o numpy serve, para fazer aritméticas em matrizes gigantes! Por essa razão é muito importante saber como aplicá-las e também saber como funcionam."
   ]
  },
  {
   "cell_type": "markdown",
   "metadata": {},
   "source": [
    "### Soma de arrays/matrizes por números\n",
    "\n",
    "Caso tenhamos um array/matriz e um número, podemos somá-los facilmente."
   ]
  },
  {
   "cell_type": "code",
   "execution_count": 31,
   "metadata": {},
   "outputs": [
    {
     "name": "stdout",
     "output_type": "stream",
     "text": [
      "lista + 5 =  [6 7 8]\n",
      "matriz + 5 =\n",
      " [[ 6  7  8]\n",
      " [ 9 10 11]]\n"
     ]
    }
   ],
   "source": [
    "# Criar um array com 3 elementos\n",
    "\n",
    "lista = np.array([1,2,3])\n",
    "\n",
    "# Criar uma matriz de 2 linhas e 3 colunas\n",
    "\n",
    "matriz = np.array([\n",
    "    [1,2,3],\n",
    "    [4,5,6]\n",
    "])\n",
    "\n",
    "print( \"lista + 5 = \", lista + 5 )\n",
    "print( \"matriz + 5 =\\n\", matriz + 5 )"
   ]
  },
  {
   "cell_type": "markdown",
   "metadata": {},
   "source": [
    "Funcionou certinho! Basicamente o que acontece é que o 5 é somado a cada elemento do array/matriz"
   ]
  },
  {
   "cell_type": "markdown",
   "metadata": {},
   "source": [
    "### Soma de arrays/matrizes por outros arrays/matrizes\n",
    "\n",
    "Também é possível somar 2 arrays/matrizes ou mesmo 1 array e 1 matriz."
   ]
  },
  {
   "cell_type": "code",
   "execution_count": 32,
   "metadata": {},
   "outputs": [
    {
     "name": "stdout",
     "output_type": "stream",
     "text": [
      "lista + lista =  [2 4 6]\n",
      "\n",
      "lista + matriz =\n",
      " [[2 4 6]\n",
      " [5 7 9]]\n",
      "\n",
      "matriz + matriz =\n",
      " [[ 2  4  6]\n",
      " [ 8 10 12]]\n"
     ]
    }
   ],
   "source": [
    "# Vou usar a lista e matriz já criada no último exemplo\n",
    "\n",
    "print( \"lista + lista = \", lista + lista )\n",
    "print( \"\\nlista + matriz =\\n\", lista + matriz )\n",
    "print( \"\\nmatriz + matriz =\\n\", matriz + matriz )"
   ]
  },
  {
   "cell_type": "markdown",
   "metadata": {},
   "source": [
    "Então *lista + lista* é nada mais nada menos que pegar no valor de índice 0 da 1ª lista e somar ao valor de índice 0 da 2ª lista. E assim sucessivamente<br><br>\n",
    "A *matriz + matriz* é a mesma coisa, só que aqui temos múltiplas linhas, pegamos na 1ª linha e 1º valor (índice 0) e somamos à 1ª linha e 1º valor da outra matriz, assim sucessivamente.<br><br>\n",
    "A *lista + matriz*, é pegar no array/lista e somar o valor de índice 0 ao valor de índice 0 de cada linha da matriz. Depois o valor de índice 1 ao valor de índice 1 de cada lista ... E assim vai. **Mas espera!**, há uma senão ... O tamanho da lista tem que ser **igual** ao número de colunas, caso contrário vai dar um erro, porque vai sobrar ou faltar valores para somar!<br>\n",
    "Poderá haver vezes que fazer um `reshape` ao array (para assim tornar-se uma matriz) pode ajudar caso ambas as matrizes fiquem com o mesmo número de colunas."
   ]
  },
  {
   "cell_type": "markdown",
   "metadata": {},
   "source": [
    "### Subtração de arrays/matrizes por números\n",
    "\n",
    "É exatamente o mesmo que na soma, portanto é só ler as explicações acima e substituir \"soma\" por \"subtração\"."
   ]
  },
  {
   "cell_type": "code",
   "execution_count": 33,
   "metadata": {},
   "outputs": [
    {
     "name": "stdout",
     "output_type": "stream",
     "text": [
      "lista - 5 =  [-4 -3 -2]\n",
      "matriz - 5 =\n",
      " [[-4 -3 -2]\n",
      " [-1  0  1]]\n"
     ]
    }
   ],
   "source": [
    "print( \"lista - 5 = \", lista - 5 )\n",
    "print( \"matriz - 5 =\\n\", matriz - 5 )"
   ]
  },
  {
   "cell_type": "markdown",
   "metadata": {},
   "source": [
    "### Subtração de arrays/matrizes por outros arrays/matrizes\n",
    "\n",
    "Digo o mesmo, é tudo igual à soma."
   ]
  },
  {
   "cell_type": "code",
   "execution_count": 34,
   "metadata": {},
   "outputs": [
    {
     "name": "stdout",
     "output_type": "stream",
     "text": [
      "lista - lista =  [0 0 0]\n",
      "\n",
      "lista - matriz =\n",
      " [[ 0  0  0]\n",
      " [-3 -3 -3]]\n",
      "\n",
      "matriz - matriz =\n",
      " [[0 0 0]\n",
      " [0 0 0]]\n"
     ]
    }
   ],
   "source": [
    "print( \"lista - lista = \", lista - lista )\n",
    "print( \"\\nlista - matriz =\\n\", lista - matriz )\n",
    "print( \"\\nmatriz - matriz =\\n\", matriz - matriz )"
   ]
  },
  {
   "cell_type": "markdown",
   "metadata": {},
   "source": [
    "### Multiplicação de arrays/matrizes por números\n",
    "\n",
    "Exatamente o mesmo que soma e subtração, só que agora vamos multiplicar.<br><br>\n",
    "#### Nota\n",
    "Eu tenho falado: \"Soma/Subtração/Multiplicação de arrays/matrizes por números\" - mas uma forma de o dizer mais \"corretamente\", é substituir *números* por *escalares*."
   ]
  },
  {
   "cell_type": "code",
   "execution_count": 35,
   "metadata": {},
   "outputs": [
    {
     "name": "stdout",
     "output_type": "stream",
     "text": [
      "lista * 5 =  [ 5 10 15]\n",
      "matriz * 5 =\n",
      " [[ 5 10 15]\n",
      " [20 25 30]]\n"
     ]
    }
   ],
   "source": [
    "print( \"lista * 5 = \", lista * 5 )\n",
    "print( \"matriz * 5 =\\n\", matriz * 5 )"
   ]
  },
  {
   "cell_type": "markdown",
   "metadata": {},
   "source": [
    "### Multiplicação de arrays/matrizes por arrays/matrizes\n",
    "\n",
    "Este é outro caso que é igual a todos os outros. **Não se habituem que a seguir vem um tipo de multplicação diferente!**"
   ]
  },
  {
   "cell_type": "code",
   "execution_count": 36,
   "metadata": {},
   "outputs": [
    {
     "name": "stdout",
     "output_type": "stream",
     "text": [
      "lista * lista =  [1 4 9]\n",
      "\n",
      "lista * matriz =\n",
      " [[ 1  4  9]\n",
      " [ 4 10 18]]\n",
      "\n",
      "matriz * matriz =\n",
      " [[ 1  4  9]\n",
      " [16 25 36]]\n"
     ]
    }
   ],
   "source": [
    "print( \"lista * lista = \", lista * lista )\n",
    "print( \"\\nlista * matriz =\\n\", lista * matriz )\n",
    "print( \"\\nmatriz * matriz =\\n\", matriz * matriz )"
   ]
  },
  {
   "cell_type": "markdown",
   "metadata": {},
   "source": [
    "### Produto Escalar entre matrizes\n",
    "\n",
    "Aqui é um pouco diferente, mas vamos primeiro ao exemplo."
   ]
  },
  {
   "cell_type": "code",
   "execution_count": 37,
   "metadata": {},
   "outputs": [
    {
     "name": "stdout",
     "output_type": "stream",
     "text": [
      "Matriz a =\n",
      " [[ 1  2  3  4]\n",
      " [ 5  6  7  8]\n",
      " [ 9 10 11 12]]\n",
      "\n",
      "Matriz b =\n",
      " [[13 14 15 16]\n",
      " [17 18 19 20]\n",
      " [21 22 23 24]]\n"
     ]
    }
   ],
   "source": [
    "# Criar uma matriz de 3 linhas e 4 colunas\n",
    "a = np.array([\n",
    "    [1,2,3,4],\n",
    "    [5,6,7,8],\n",
    "    [9,10,11,12]\n",
    "])\n",
    "\n",
    "# Criar outra matriz de 3 linhas e 4 colunas\n",
    "b = np.array([\n",
    "    [13,14,15,16],\n",
    "    [17,18,19,20],\n",
    "    [21,22,23,24]\n",
    "])\n",
    "\n",
    "print( \"Matriz a =\\n\", a)\n",
    "print( \"\\nMatriz b =\\n\", b)"
   ]
  },
  {
   "cell_type": "code",
   "execution_count": 38,
   "metadata": {},
   "outputs": [
    {
     "name": "stdout",
     "output_type": "stream",
     "text": [
      "Produto escalar entre a e b =\n",
      " [[150 190 230]\n",
      " [382 486 590]\n",
      " [614 782 950]]\n"
     ]
    }
   ],
   "source": [
    "print( \"Produto escalar entre a e b =\\n\", a.dot(b.T))"
   ]
  },
  {
   "cell_type": "markdown",
   "metadata": {},
   "source": [
    "**HORA DA MATEMÁTICA!**<br><br>\n",
    "Não se assustem, com calma vamos todos entender isto.<br><br>\n",
    "Primeiramente, um array é um vetor. E uma matriz é um vetor multidimensional.<br><br>\n",
    "Aqui o que se aplica é a regra **RC - Row by Column**, que em português ficaria **LC - Linha por Coluna**. Nós pegamos a primeira linha da matriz *a* = [1,2,3,4] e pegamos a primeira coluna da matriz *b* =<br><br>\n",
    "&nbsp;[13,<br>\n",
    "&nbsp;14,<br>\n",
    "&nbsp;15,<br>\n",
    "&nbsp;16]"
   ]
  },
  {
   "cell_type": "markdown",
   "metadata": {},
   "source": [
    "-*Espera lá! A primeira coluna do vetor b não tem os valores: 13, 17 e 21 ?!?!*<br><br>\n",
    "É verdade, mas se repararem nós aplicamos um `.T` (uma transposição). Observem abaixo:"
   ]
  },
  {
   "cell_type": "code",
   "execution_count": 39,
   "metadata": {},
   "outputs": [
    {
     "name": "stdout",
     "output_type": "stream",
     "text": [
      "\n",
      "Matriz b transposta =\n",
      " [[13 17 21]\n",
      " [14 18 22]\n",
      " [15 19 23]\n",
      " [16 20 24]]\n"
     ]
    }
   ],
   "source": [
    "print( \"\\nMatriz b transposta =\\n\", b.T)"
   ]
  },
  {
   "cell_type": "markdown",
   "metadata": {},
   "source": [
    "Temos de fazer isto porque a regra **LC ou RC** obriga-nos a que **a matriz** ***a*** **tenha tantas linhas quanto a matriz** ***b*** **tenha de colunas**. Isto é, se *a* tem 3 linhas, a matriz *b* tem de ter 3 colunas.<br><br>\n",
    "Vamos confirmar abaixo:"
   ]
  },
  {
   "cell_type": "code",
   "execution_count": 40,
   "metadata": {},
   "outputs": [
    {
     "name": "stdout",
     "output_type": "stream",
     "text": [
      "Shape da matriz a =  (3, 4)\n",
      "Shape da matriz b transposta =  (4, 3)\n"
     ]
    }
   ],
   "source": [
    "print(\"Shape da matriz a = \", a.shape)\n",
    "print(\"Shape da matriz b transposta = \", b.T.shape)"
   ]
  },
  {
   "cell_type": "markdown",
   "metadata": {},
   "source": [
    "Confirma-se, *a* tem 3 linhas e *b transposto* tem 3 colunas."
   ]
  },
  {
   "cell_type": "markdown",
   "metadata": {},
   "source": [
    "Continuando a explicação do produto escalar ... Após termos 2 matrizes: uma com N linhas e outra com N colunas - pegamos na 1ª linha e 1º valor da matriz *a* e multplicamos pelo 1º valor da 1ª coluna da matriz *b*.<br><br>Depois pegamos na 1ª linha e 2º valor da matriz *a* e multiplicamos pelo 2º valor da 1ª coluna da matriz *b*... e assim vamos.<br><br>No fim, somamos todos os produtos gerados entre a 1ª linha de uma matriz e 1ª coluna da outra matriz. Esse valor é o produto escalar da linha 1, da matriz *a*, pela coluna 1 da matriz *b*.<br><br>\n",
    "De seguida pegamos novamente na 1ª linha e no 1º valor da matriz *a* e multplicamos pela 2ª coluna e 1ª valor da matriz *b*. E vamos multplicar valor por valor, para no fim fazermos novamente a soma de produtos.<br><br>\n",
    "Após a 1ª linha da matriz *a* multplicar por todas as colunas da matriz *b*, partimos para a 2ª linha da matriz *a* e repetimos todo o processo...<br><br>\n",
    "No fim obtemos uma **matriz quadrada**, isto é, uma matriz com o mesmo número de linhas e colunas. Isto devido à tal regra de **Linha por Coluna**, pois o número de linhas de *a* tem de ser o mesmo que o número das colunas de *b*.<br><br><br>\n",
    "\n",
    "Por ser algo difícil de explicar por palavras, vou mostrar uma imagem que poderá ajudar"
   ]
  },
  {
   "cell_type": "markdown",
   "metadata": {},
   "source": [
    "<img src=\"img/produto_escalar_matrizes.jpg\" width=1280 height=720>"
   ]
  },
  {
   "cell_type": "markdown",
   "metadata": {},
   "source": [
    "Peço desculpa pelas minhas habilidades de esboço serem quase nulas, mas espero que assim dê para esclarecer alguma confusão.<br><br>\n",
    "Podemos confirmar os resultados que o numpy obteve e os resultados que calculei manualmente ... e deu exatamente o mesmo!\n",
    "\n",
    "#### Nota\n",
    "O vetor *b* tem expoente *T*, porque é a forma de assinalar transposição em matemática. No numpy limitamo-nos a: `b.T`"
   ]
  },
  {
   "cell_type": "markdown",
   "metadata": {},
   "source": [
    "### Multiplicação de arrays/matrizes por matriz identidade\n",
    "\n",
    "Eu disse que explicaria o que é matriz identidade mais para a frente, e aqui está."
   ]
  },
  {
   "cell_type": "code",
   "execution_count": 62,
   "metadata": {},
   "outputs": [
    {
     "name": "stdout",
     "output_type": "stream",
     "text": [
      "Matriz 3x2 =\n",
      " [[1 2]\n",
      " [3 4]\n",
      " [5 6]]\n",
      "\n",
      "Matriz Identidade 2x2 =\n",
      " [[1. 0.]\n",
      " [0. 1.]]\n"
     ]
    }
   ],
   "source": [
    "# Criar uma matriz de 3 linhas e 2 colunas\n",
    "matriz = np.arange(1,7).reshape((3,2))\n",
    "\n",
    "# Criar uma matriz identidade com 2 linhas e 2 colunas\n",
    "matriz_identidade = np.identity(2)\n",
    "\n",
    "print(\"Matriz 3x2 =\\n\", matriz)\n",
    "print(\"\\nMatriz Identidade 2x2 =\\n\", matriz_identidade)"
   ]
  },
  {
   "cell_type": "code",
   "execution_count": 156,
   "metadata": {},
   "outputs": [
    {
     "name": "stdout",
     "output_type": "stream",
     "text": [
      "Produto escalar entre matriz e matriz identidade =\n",
      " [[1. 2.]\n",
      " [3. 4.]\n",
      " [5. 6.]]\n"
     ]
    }
   ],
   "source": [
    "print(\"Produto escalar entre matriz e matriz identidade =\\n\", matriz.dot(matriz_identidade))"
   ]
  },
  {
   "cell_type": "markdown",
   "metadata": {},
   "source": [
    "Parece que multiplicar a nossa *matriz* pela *matriz identidade*, resulta na própria *matriz*!<br>\n",
    "O que podemos concluir é que a matriz identidade é como o 1 na multiplicação!<br><br>\n",
    "**MAS ATENÇÃO**: A matriz identidade é uma matriz quadrada (número de linhas = número de colunas), e esse número de linhas e colunas tem que ser **igual** ao número de colunas da matriz em que estão a calcular o produto escalar! Caso contrário obterão erros."
   ]
  },
  {
   "cell_type": "markdown",
   "metadata": {},
   "source": [
    "Eu não dei nenhum exemplo com arrays nas últimas explicações, mas é exatamente o mesmo, a diferença que em vez de linhas e colunas, temos apenas elementos (1 linha com N elementos/colunas). O produto escalar no caso não irá ser uma matriz quadrada e sim um número/escalar."
   ]
  },
  {
   "cell_type": "markdown",
   "metadata": {},
   "source": [
    "### Divisão de arrays/matrizes por escalares\n",
    "\n",
    "Novamente, é tudo igual às restantes operações. O escalar divide cada elemento do array/matriz."
   ]
  },
  {
   "cell_type": "code",
   "execution_count": 70,
   "metadata": {},
   "outputs": [
    {
     "name": "stdout",
     "output_type": "stream",
     "text": [
      "matriz / 2 =\n",
      " [[0.5 1. ]\n",
      " [1.5 2. ]\n",
      " [2.5 3. ]]\n"
     ]
    }
   ],
   "source": [
    "# Crirar uma matriz 3x2\n",
    "matriz = np.arange(1,7).reshape((3,2))\n",
    "\n",
    "print(\"matriz / 2 =\\n\", matriz/2)"
   ]
  },
  {
   "cell_type": "markdown",
   "metadata": {},
   "source": [
    "### Divisão de arrays/matrizes por arrays/matrizes\n",
    "\n",
    "Bem aqui o caso já muda. Não existe divisão de arrays/matrizes, mas é possível dividí-los.<br>\n",
    "-*O quê!?*<br><br>\n",
    "Já vamos entender isso, primeiro vamos dividir 2 matrizes e ver o resultado."
   ]
  },
  {
   "cell_type": "code",
   "execution_count": 81,
   "metadata": {},
   "outputs": [],
   "source": [
    "# Criar uma matriz 3x3\n",
    "matriz1 = np.arange(1,10).reshape((3,3))\n",
    "\n",
    "# Criar outra matriz 3x3\n",
    "matriz2 = np.arange(10, 19).reshape((3,3))"
   ]
  },
  {
   "cell_type": "code",
   "execution_count": 85,
   "metadata": {},
   "outputs": [
    {
     "name": "stdout",
     "output_type": "stream",
     "text": [
      "matriz1 / matriz2 =\n",
      " [[0.1        0.18181818 0.25      ]\n",
      " [0.30769231 0.35714286 0.4       ]\n",
      " [0.4375     0.47058824 0.5       ]]\n"
     ]
    }
   ],
   "source": [
    "print(\"matriz1 / matriz2 =\\n\", matriz1 / matriz2)"
   ]
  },
  {
   "cell_type": "markdown",
   "metadata": {},
   "source": [
    "Parece que dividiu (mesmo não \"existindo\" divisão)!!<br> Na verdade o que se passou aqui foi uma divisão elemento por elemento (como na multiplicação sem ser com produto escalar). Nós queremos realmente dividir a matriz por outra matriz e não elemento por elemento. E é isso que vou explicar daqui para a frente.\n",
    "#### Nota\n",
    "Os arrays/matrizes têm de ter o mesmo shape (número de linhas, colunas etc).<br><br>\n",
    "\n",
    "**HORA DA MATEMÁTICA**<br>\n",
    "Agora eu vou explicar isso de \"Não haver divisão\".<br><br>\n",
    "Primeiro quero que pensem em um número, vou usar o 14. E quero que se lembrem que o 14 parece que está sozinho, mas na realidade não está.<br>\n",
    "<img src=\"img/14.png\" />"
   ]
  },
  {
   "cell_type": "markdown",
   "metadata": {},
   "source": [
    "Podemos ver que o número 14 tem expoente 1 e está a ser dividido por 1. Nós omitimos isso, porque 14 elevado a expoente 1 = 14 e 14 dividido por 1 = 14.<br><br>\n",
    "Muito bem, agora imaginem que estão num mundo onde não há divisão direta, ou seja, não podem fazer isto: *14 / 7*<br><br>\n",
    "No entanto, vocês querem dividir 14 tarefas por 7 pessoas, por exemplo. Como podem fazer isto ?!<br><br>\n",
    "A resposta é ... **Multiplicação de um número pelo inverso de outro número**!<br>\n",
    "Se 7 é o mesmo que 7 dividido por 1, o inverso seria 1 / 7 !<br>\n",
    "<img src=\"img/1_7.png\"/>"
   ]
  },
  {
   "cell_type": "markdown",
   "metadata": {},
   "source": [
    "Vamos testar então!<br>\n",
    "<img src=\"img/inv_numero.jpg\"/>"
   ]
  },
  {
   "cell_type": "markdown",
   "metadata": {},
   "source": [
    "Bateu certo ! 14 / 7 = 7<br><br>\n",
    "Tudo isto para explicar que a divisão de 2 matrizes: *a / b* = *a . b*<sup>-1</sup><br>\n",
    "<img src=\"img/mult_inv.jpg\"/>"
   ]
  },
  {
   "cell_type": "code",
   "execution_count": 132,
   "metadata": {},
   "outputs": [
    {
     "name": "stdout",
     "output_type": "stream",
     "text": [
      "Matriz a =\n",
      " [[1 2]\n",
      " [3 4]]\n",
      "\n",
      "Matriz b =\n",
      " [[5 6]\n",
      " [7 8]]\n",
      "\n",
      "Matriz b inversa =\n",
      " [[-4.   3. ]\n",
      " [ 3.5 -2.5]]\n"
     ]
    }
   ],
   "source": [
    "# Criar matriz 2x2\n",
    "a = np.array([\n",
    "    [1,2],\n",
    "    [3,4]\n",
    "])\n",
    "\n",
    "# Criar outra matriz\n",
    "b = np.array([\n",
    "    [5,6],\n",
    "    [7,8]\n",
    "])\n",
    "\n",
    "# Vamos inverter a matriz b usando o método linalg.inv()\n",
    "b_inv = np.linalg.inv(b)\n",
    "\n",
    "print(\"Matriz a =\\n\", a)\n",
    "print(\"\\nMatriz b =\\n\", b)\n",
    "print(\"\\nMatriz b inversa =\\n\", b_inv)"
   ]
  },
  {
   "cell_type": "markdown",
   "metadata": {},
   "source": [
    "Para comprovarmos se a matriz inversa foi corretamente calculada, basta fazer o produto escalar da matriz original pela sua inversa, e o resultado é a matriz identidade!<br>\n",
    "<img src=\"img/verify_inv.jpg\"/>"
   ]
  },
  {
   "cell_type": "code",
   "execution_count": 134,
   "metadata": {},
   "outputs": [
    {
     "name": "stdout",
     "output_type": "stream",
     "text": [
      "Produto escalar entre b e b inversa =\n",
      " [[1. 0.]\n",
      " [0. 1.]]\n"
     ]
    }
   ],
   "source": [
    "print(\"Produto escalar entre b e b inversa =\\n\", np.round( b.dot(b_inv) ))"
   ]
  },
  {
   "cell_type": "markdown",
   "metadata": {},
   "source": [
    "Parece que deu certo!! Eu apliquei um arredondamento, porque nem sempre os valores dão 1 ou 0!<br>Devido aos arrendondamentos e aos formatos dos números (inteiros, decimais etc), há certas imprecisões (0.00000000000000000000000000234 ou 1,000000000000000004), ao aplicar arredondamento a 0 casas decimais eu escondi essas imprecisões."
   ]
  },
  {
   "cell_type": "code",
   "execution_count": 148,
   "metadata": {},
   "outputs": [
    {
     "name": "stdout",
     "output_type": "stream",
     "text": [
      "Produto escalar entre a e b inversa =\n",
      " [[ 3. -2.]\n",
      " [ 2. -1.]]\n"
     ]
    }
   ],
   "source": [
    "print(\"Produto escalar entre a e b inversa =\\n\", a.dot(b_inv) )"
   ]
  },
  {
   "cell_type": "markdown",
   "metadata": {},
   "source": [
    "Bem aplicá-mos a fórmula para calcular a divisão entre 2 matrizes. Têm de ter atenção que há matrizes que não são **inversíveis**, portanto não a podemos dividir por outra matriz. Chamamos a essas matrizes, **matrizes singulares**"
   ]
  },
  {
   "cell_type": "markdown",
   "metadata": {},
   "source": [
    "-*Como podemos calcular a matriz inversa??*<br><br>\n",
    "Há uma fórmula para isso, mas eu só vou mostrar utilizando uma matriz 2x2, porque à medida que a matriz cresce mais difícil fica aplicar a fórmula (é necessário fazer muitos mais cálculos).<br><br>\n",
    "Tendo uma matriz como a seguinte:<br>\n",
    "<img src=\"img/eq.jpg\"/>"
   ]
  },
  {
   "cell_type": "markdown",
   "metadata": {},
   "source": [
    "A inversa é calculada através da seguinte fórmula:<br>\n",
    "<img src=\"img/formula_inv.jpg\"/>    "
   ]
  },
  {
   "cell_type": "markdown",
   "metadata": {},
   "source": [
    "Se aplicarmos a fórmula à nossa matriz, resulta em:<br>\n",
    "<img src=\"img/applied_formula.jpg\"/>"
   ]
  },
  {
   "cell_type": "markdown",
   "metadata": {},
   "source": [
    "E assim obtemos a matriz inversa da nossa matriz original."
   ]
  },
  {
   "cell_type": "markdown",
   "metadata": {},
   "source": [
    "### Outras operações em arrays/matrizes\n",
    "\n",
    "Podemos também calcular raízes quadradas e aplicar expoentes nos elementos do array/matriz."
   ]
  },
  {
   "cell_type": "code",
   "execution_count": 150,
   "metadata": {},
   "outputs": [
    {
     "name": "stdout",
     "output_type": "stream",
     "text": [
      "Matriz a =\n",
      " [[1 2]\n",
      " [3 4]]\n"
     ]
    }
   ],
   "source": [
    "print(\"Matriz a =\\n\", a)"
   ]
  },
  {
   "cell_type": "code",
   "execution_count": 153,
   "metadata": {},
   "outputs": [
    {
     "name": "stdout",
     "output_type": "stream",
     "text": [
      "Raíz quadrada da Matriz a =\n",
      " [[1.         1.41421356]\n",
      " [1.73205081 2.        ]]\n",
      "\n",
      "Matriz a expoente 2 =\n",
      " [[ 1  4]\n",
      " [ 9 16]]\n"
     ]
    }
   ],
   "source": [
    "print(\"Raíz quadrada da Matriz a =\\n\", np.sqrt(a))\n",
    "print(\"\\nMatriz a expoente 2 =\\n\", a ** 2)"
   ]
  },
  {
   "cell_type": "markdown",
   "metadata": {},
   "source": [
    "# Conclusão\n",
    "\n",
    "Aqui pudemos ver um pouco do potencial do numpy. Lembro que não há mal algum não quererem já focar na matemática por detrás dos métodos. Primeiro de tudo brinquem com tudo isto, façam os vossos próprios testes, releiam etc.<br><br>\n",
    "Isto não é um curso, mas sim um conjunto de apontamentos, portanto levem isto como um dicionário com alguns métodos e explicações de Numpy.<br><br>\n",
    "Talvez ainda adicione e explique outros métodos que me recorde e que ache importante vocês terem em mente.<br>Finalizo pedindo que caso haja dúvidas ou queiram inserir algo, é só contactar-me (todos os meus contactos estão aqui abaixo).<br><br>\n",
    "Deixo aqui alguns links para vídeo aulas da khan academy para ajudar-vos com  a matemática:<br><br>\n",
    "[Soma e subtração de matrizes](https://pt.khanacademy.org/math/algebra-home/alg-matrices/alg-adding-and-subtracting-matrices/v/matrix-addition-and-subtraction-1)<br>\n",
    "[Multiplicação de matrizes por escalares](https://pt.khanacademy.org/math/algebra-home/alg-matrices/alg-multiplying-matrices-by-scalars/v/scalar-multiplication)<br>\n",
    "[Multiplicação de matrizes por matrizes](https://pt.khanacademy.org/math/algebra-home/alg-matrices/alg-multiplying-matrices-by-matrices/v/matrix-multiplication-intro)<br>\n",
    "[Introdução às matrizes inversas](https://pt.khanacademy.org/math/algebra-home/alg-matrices/alg-intro-to-matrix-inverses/v/inverse-matrix-part-1)<br>\n",
    "\n",
    "# Contactos\n",
    "[Twitter](https://twitter.com/iN127pkt)<br>\n",
    "[Instagram](https://www.instagram.com/t_1g4_x/)<br>\n",
    "[Email](tiagodeha@protonmail.com)<br>"
   ]
  }
 ],
 "metadata": {
  "kernelspec": {
   "display_name": "Python 3",
   "language": "python",
   "name": "python3"
  },
  "language_info": {
   "codemirror_mode": {
    "name": "ipython",
    "version": 3
   },
   "file_extension": ".py",
   "mimetype": "text/x-python",
   "name": "python",
   "nbconvert_exporter": "python",
   "pygments_lexer": "ipython3",
   "version": "3.8.2"
  }
 },
 "nbformat": 4,
 "nbformat_minor": 4
}
