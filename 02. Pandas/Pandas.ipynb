{
 "cells": [
  {
   "cell_type": "markdown",
   "metadata": {},
   "source": [
    "# Pandas\n",
    "\n",
    "Aqui vamos falar de uma biblioteca muito importante na análise e tratamento de dados!<br>\n",
    "O Pandas permite converter aquelas matrizes/arrays de numpy, cheias de números e sem estética nenhuma, em uma tabela tabulada e organizada. Claro que ele não serve apenas para isso, ele permite a manipualção dessas mesmas matrizes de forma eficiente, permite aplicar cálculos, fórmulas, gráficos e até funções criadas por nós e que interagem com os dados!"
   ]
  },
  {
   "cell_type": "markdown",
   "metadata": {},
   "source": [
    "## Como instalar\n",
    "\n",
    "Assim como mostrei a instalação de [Numpy](https://github.com/TigaxMT/Apontamentos-Machine-Learning/tree/master/01.%20Numpy), aqui não mudará muito, apenas o nome do pacote:<br>\n",
    "* Pip: `pip install pandas`\n",
    "* Conda: `conda install pandas`\n",
    "\n",
    "Use o comando que corresponde ao gestor de pacotes que você utiliza.<br><br>\n",
    "\n",
    "**Nota**: Lembro, novamente, que é preferível, para utilizadores de distros Linux, utilizar o pip3 e no caso de dar algum erro com o pip, tente adicionar a flag: `--user` - depois do comando<br>"
   ]
  },
  {
   "cell_type": "markdown",
   "metadata": {},
   "source": [
    "## Básico\n",
    "\n",
    "Comecemos por importar o pandas"
   ]
  },
  {
   "cell_type": "code",
   "execution_count": 1,
   "metadata": {},
   "outputs": [],
   "source": [
    "import pandas as pd"
   ]
  },
  {
   "cell_type": "markdown",
   "metadata": {},
   "source": [
    "Assim como no numpy nós importámos o pandas e utilizando o: `as` - definimos um alias (um outro nome mais curto) para referir-nos ao pandas.<br><br>\n",
    "Agora vamos criar um DataFrame, mas afinal o que é isso ??<br><br>\n",
    "Bem um DataFrame é nada mais nada menos que a tabela tabulada e linda que falei acima! Nós podemos criar um array/matriz numpy e colocá-la em um DataFrame. Podemos pegar numa lista, num dicionário e colocá-lo num DataFrame.<br>\n",
    "Essa é a beleza e a facilidade do pandas, e ainda só começámos!<br><br>\n",
    "Antes de começar logo com um numpy array, deixem-me começar por definir um dicionário."
   ]
  },
  {
   "cell_type": "code",
   "execution_count": 2,
   "metadata": {},
   "outputs": [],
   "source": [
    "## Dicionário com uma lista de minutos de estudo de cada aluno por disciplina\n",
    "\n",
    "dicionario = {\n",
    "    \"Matemática\": [90, 180, 45, 360, 920, 15],\n",
    "    \"Física e Química\": [70, 120, 160, 360, 420, 87],\n",
    "    \"Português\": [610, 10, 32, 531,763, 234],\n",
    "    \"Inglês\": [12, 812, 123, 321, 631, 34]\n",
    "}"
   ]
  },
  {
   "cell_type": "markdown",
   "metadata": {},
   "source": [
    "Como falei, decidi criar um dicionário. Nele temos, como chaves, as disciplinas e como valores, temos um lista de minutos de estudo de cada aluno, por dia.<br><br>\n",
    "Agora vamos criar um **Pandas DataFrame** e passar o dicionário como o nosso input."
   ]
  },
  {
   "cell_type": "code",
   "execution_count": 3,
   "metadata": {},
   "outputs": [],
   "source": [
    "dataframe = pd.DataFrame(dicionario)"
   ]
  },
  {
   "cell_type": "code",
   "execution_count": 4,
   "metadata": {},
   "outputs": [
    {
     "data": {
      "text/html": [
       "<div>\n",
       "<style scoped>\n",
       "    .dataframe tbody tr th:only-of-type {\n",
       "        vertical-align: middle;\n",
       "    }\n",
       "\n",
       "    .dataframe tbody tr th {\n",
       "        vertical-align: top;\n",
       "    }\n",
       "\n",
       "    .dataframe thead th {\n",
       "        text-align: right;\n",
       "    }\n",
       "</style>\n",
       "<table border=\"1\" class=\"dataframe\">\n",
       "  <thead>\n",
       "    <tr style=\"text-align: right;\">\n",
       "      <th></th>\n",
       "      <th>Matemática</th>\n",
       "      <th>Física e Química</th>\n",
       "      <th>Português</th>\n",
       "      <th>Inglês</th>\n",
       "    </tr>\n",
       "  </thead>\n",
       "  <tbody>\n",
       "    <tr>\n",
       "      <th>0</th>\n",
       "      <td>90</td>\n",
       "      <td>70</td>\n",
       "      <td>610</td>\n",
       "      <td>12</td>\n",
       "    </tr>\n",
       "    <tr>\n",
       "      <th>1</th>\n",
       "      <td>180</td>\n",
       "      <td>120</td>\n",
       "      <td>10</td>\n",
       "      <td>812</td>\n",
       "    </tr>\n",
       "    <tr>\n",
       "      <th>2</th>\n",
       "      <td>45</td>\n",
       "      <td>160</td>\n",
       "      <td>32</td>\n",
       "      <td>123</td>\n",
       "    </tr>\n",
       "    <tr>\n",
       "      <th>3</th>\n",
       "      <td>360</td>\n",
       "      <td>360</td>\n",
       "      <td>531</td>\n",
       "      <td>321</td>\n",
       "    </tr>\n",
       "    <tr>\n",
       "      <th>4</th>\n",
       "      <td>920</td>\n",
       "      <td>420</td>\n",
       "      <td>763</td>\n",
       "      <td>631</td>\n",
       "    </tr>\n",
       "    <tr>\n",
       "      <th>5</th>\n",
       "      <td>15</td>\n",
       "      <td>87</td>\n",
       "      <td>234</td>\n",
       "      <td>34</td>\n",
       "    </tr>\n",
       "  </tbody>\n",
       "</table>\n",
       "</div>"
      ],
      "text/plain": [
       "   Matemática  Física e Química  Português  Inglês\n",
       "0          90                70        610      12\n",
       "1         180               120         10     812\n",
       "2          45               160         32     123\n",
       "3         360               360        531     321\n",
       "4         920               420        763     631\n",
       "5          15                87        234      34"
      ]
     },
     "execution_count": 4,
     "metadata": {},
     "output_type": "execute_result"
    }
   ],
   "source": [
    "dataframe"
   ]
  },
  {
   "cell_type": "markdown",
   "metadata": {},
   "source": [
    "E voilá, temos tabela!<br>\n",
    "Como podemos observar as chaves do dicionário viraram colunas e o elemento N de cada lista fico em um linha da tabela ... Agora vocês perguntam-se:\n",
    "*Mas que elemento N?! Não entendi ...*<br><br>\n",
    "Vamos analisar as listas:<br>\n",
    "[90, 180, 45, 360, 920, 15]<br>\n",
    "[70, 120, 160, 360, 420, 87]<br>\n",
    "[610, 10, 32, 531,763, 234]<br>\n",
    "[12, 812, 123, 321, 631, 34]<br><br>\n",
    "Reparem que todas as lista têm 6 elementos/números. Se eu pedir para dizerem-me o primeiro elemento de cada lista, ou seja, o elemento de índice 0, vocês diriam:<br>\n",
    "***90, 70, 610 e 12***<br>\n",
    "E estaria correto! Se eu dissesse o 4 elemento de cada lista, vocês diriam:\n",
    "***360, 360, 763, 631***<br>\n",
    "Esse é o N que falei acima, vocês pegaram o N elemento de cada lista. O Pandas faz exatamente isso e coloca numa linha da tabela."
   ]
  },
  {
   "cell_type": "markdown",
   "metadata": {},
   "source": [
    "## O que são aqueles número de 0 a 5 na esquerda da tabela ??\n",
    "\n",
    "Bem esses número é o índice da nossa linha na tabela. Por exemplo, sabemos que a linha 3 tem os valores: 360, 360, 531, 321<br><br>\n",
    "Eles podem ser úteis para localizar e alterar valores na tabela, mas isso falaremos mais à frente."
   ]
  },
  {
   "cell_type": "markdown",
   "metadata": {},
   "source": [
    "## E se passarmos só uma lista ou só um Numpy array ??\n",
    "\n",
    "Vamos testar para ver o que acontece!"
   ]
  },
  {
   "cell_type": "code",
   "execution_count": 5,
   "metadata": {},
   "outputs": [
    {
     "data": {
      "text/html": [
       "<div>\n",
       "<style scoped>\n",
       "    .dataframe tbody tr th:only-of-type {\n",
       "        vertical-align: middle;\n",
       "    }\n",
       "\n",
       "    .dataframe tbody tr th {\n",
       "        vertical-align: top;\n",
       "    }\n",
       "\n",
       "    .dataframe thead th {\n",
       "        text-align: right;\n",
       "    }\n",
       "</style>\n",
       "<table border=\"1\" class=\"dataframe\">\n",
       "  <thead>\n",
       "    <tr style=\"text-align: right;\">\n",
       "      <th></th>\n",
       "      <th>0</th>\n",
       "      <th>1</th>\n",
       "      <th>2</th>\n",
       "      <th>3</th>\n",
       "    </tr>\n",
       "  </thead>\n",
       "  <tbody>\n",
       "    <tr>\n",
       "      <th>0</th>\n",
       "      <td>1</td>\n",
       "      <td>2</td>\n",
       "      <td>3</td>\n",
       "      <td>4</td>\n",
       "    </tr>\n",
       "    <tr>\n",
       "      <th>1</th>\n",
       "      <td>5</td>\n",
       "      <td>6</td>\n",
       "      <td>7</td>\n",
       "      <td>8</td>\n",
       "    </tr>\n",
       "    <tr>\n",
       "      <th>2</th>\n",
       "      <td>9</td>\n",
       "      <td>10</td>\n",
       "      <td>11</td>\n",
       "      <td>12</td>\n",
       "    </tr>\n",
       "  </tbody>\n",
       "</table>\n",
       "</div>"
      ],
      "text/plain": [
       "   0   1   2   3\n",
       "0  1   2   3   4\n",
       "1  5   6   7   8\n",
       "2  9  10  11  12"
      ]
     },
     "execution_count": 5,
     "metadata": {},
     "output_type": "execute_result"
    }
   ],
   "source": [
    "import numpy as np\n",
    "\n",
    "matriz = np.array([\n",
    "    [1,2,3,4],\n",
    "    [5,6,7,8],\n",
    "    [9, 10, 11, 12]\n",
    "])\n",
    "\n",
    "dataframe = pd.DataFrame(matriz)\n",
    "\n",
    "dataframe"
   ]
  },
  {
   "cell_type": "markdown",
   "metadata": {},
   "source": [
    "Funcionou! Porém o nome das nossas colunas ficaram com o índice das colunas no numpy array, dá para mudar isso ?<br>\n",
    "A resposta é CLARO QUE SIM!"
   ]
  },
  {
   "cell_type": "code",
   "execution_count": 6,
   "metadata": {},
   "outputs": [],
   "source": [
    "dataframe.columns = [\"A\", \"B\", \"C\", \"D\"]"
   ]
  },
  {
   "cell_type": "code",
   "execution_count": 7,
   "metadata": {},
   "outputs": [
    {
     "data": {
      "text/html": [
       "<div>\n",
       "<style scoped>\n",
       "    .dataframe tbody tr th:only-of-type {\n",
       "        vertical-align: middle;\n",
       "    }\n",
       "\n",
       "    .dataframe tbody tr th {\n",
       "        vertical-align: top;\n",
       "    }\n",
       "\n",
       "    .dataframe thead th {\n",
       "        text-align: right;\n",
       "    }\n",
       "</style>\n",
       "<table border=\"1\" class=\"dataframe\">\n",
       "  <thead>\n",
       "    <tr style=\"text-align: right;\">\n",
       "      <th></th>\n",
       "      <th>A</th>\n",
       "      <th>B</th>\n",
       "      <th>C</th>\n",
       "      <th>D</th>\n",
       "    </tr>\n",
       "  </thead>\n",
       "  <tbody>\n",
       "    <tr>\n",
       "      <th>0</th>\n",
       "      <td>1</td>\n",
       "      <td>2</td>\n",
       "      <td>3</td>\n",
       "      <td>4</td>\n",
       "    </tr>\n",
       "    <tr>\n",
       "      <th>1</th>\n",
       "      <td>5</td>\n",
       "      <td>6</td>\n",
       "      <td>7</td>\n",
       "      <td>8</td>\n",
       "    </tr>\n",
       "    <tr>\n",
       "      <th>2</th>\n",
       "      <td>9</td>\n",
       "      <td>10</td>\n",
       "      <td>11</td>\n",
       "      <td>12</td>\n",
       "    </tr>\n",
       "  </tbody>\n",
       "</table>\n",
       "</div>"
      ],
      "text/plain": [
       "   A   B   C   D\n",
       "0  1   2   3   4\n",
       "1  5   6   7   8\n",
       "2  9  10  11  12"
      ]
     },
     "execution_count": 7,
     "metadata": {},
     "output_type": "execute_result"
    }
   ],
   "source": [
    "dataframe"
   ]
  },
  {
   "cell_type": "markdown",
   "metadata": {},
   "source": [
    "Se atribuirmos ao atributo `columns`, uma lista com os nomes que queremos para cada coluna, podemos observar que funciona.<br>\n",
    "Vamos testar passar apenas uma lista com 2 nomes(strings)."
   ]
  },
  {
   "cell_type": "code",
   "execution_count": 8,
   "metadata": {},
   "outputs": [
    {
     "ename": "ValueError",
     "evalue": "Length mismatch: Expected axis has 4 elements, new values have 2 elements",
     "output_type": "error",
     "traceback": [
      "\u001b[1;31m---------------------------------------------------------------------------\u001b[0m",
      "\u001b[1;31mValueError\u001b[0m                                Traceback (most recent call last)",
      "\u001b[1;32m<ipython-input-8-4dddaa30f561>\u001b[0m in \u001b[0;36m<module>\u001b[1;34m\u001b[0m\n\u001b[1;32m----> 1\u001b[1;33m \u001b[0mdataframe\u001b[0m\u001b[1;33m.\u001b[0m\u001b[0mcolumns\u001b[0m \u001b[1;33m=\u001b[0m \u001b[1;33m[\u001b[0m\u001b[1;34m\"Test1\"\u001b[0m\u001b[1;33m,\u001b[0m \u001b[1;34m\"Test2\"\u001b[0m\u001b[1;33m]\u001b[0m\u001b[1;33m\u001b[0m\u001b[1;33m\u001b[0m\u001b[0m\n\u001b[0m\u001b[0;32m      2\u001b[0m \u001b[0mdataframe\u001b[0m\u001b[1;33m\u001b[0m\u001b[1;33m\u001b[0m\u001b[0m\n",
      "\u001b[1;32mc:\\users\\tigax\\appdata\\local\\programs\\python\\python37\\lib\\site-packages\\pandas\\core\\generic.py\u001b[0m in \u001b[0;36m__setattr__\u001b[1;34m(self, name, value)\u001b[0m\n\u001b[0;32m   5141\u001b[0m         \u001b[1;32mtry\u001b[0m\u001b[1;33m:\u001b[0m\u001b[1;33m\u001b[0m\u001b[1;33m\u001b[0m\u001b[0m\n\u001b[0;32m   5142\u001b[0m             \u001b[0mobject\u001b[0m\u001b[1;33m.\u001b[0m\u001b[0m__getattribute__\u001b[0m\u001b[1;33m(\u001b[0m\u001b[0mself\u001b[0m\u001b[1;33m,\u001b[0m \u001b[0mname\u001b[0m\u001b[1;33m)\u001b[0m\u001b[1;33m\u001b[0m\u001b[1;33m\u001b[0m\u001b[0m\n\u001b[1;32m-> 5143\u001b[1;33m             \u001b[1;32mreturn\u001b[0m \u001b[0mobject\u001b[0m\u001b[1;33m.\u001b[0m\u001b[0m__setattr__\u001b[0m\u001b[1;33m(\u001b[0m\u001b[0mself\u001b[0m\u001b[1;33m,\u001b[0m \u001b[0mname\u001b[0m\u001b[1;33m,\u001b[0m \u001b[0mvalue\u001b[0m\u001b[1;33m)\u001b[0m\u001b[1;33m\u001b[0m\u001b[1;33m\u001b[0m\u001b[0m\n\u001b[0m\u001b[0;32m   5144\u001b[0m         \u001b[1;32mexcept\u001b[0m \u001b[0mAttributeError\u001b[0m\u001b[1;33m:\u001b[0m\u001b[1;33m\u001b[0m\u001b[1;33m\u001b[0m\u001b[0m\n\u001b[0;32m   5145\u001b[0m             \u001b[1;32mpass\u001b[0m\u001b[1;33m\u001b[0m\u001b[1;33m\u001b[0m\u001b[0m\n",
      "\u001b[1;32mpandas\\_libs\\properties.pyx\u001b[0m in \u001b[0;36mpandas._libs.properties.AxisProperty.__set__\u001b[1;34m()\u001b[0m\n",
      "\u001b[1;32mc:\\users\\tigax\\appdata\\local\\programs\\python\\python37\\lib\\site-packages\\pandas\\core\\generic.py\u001b[0m in \u001b[0;36m_set_axis\u001b[1;34m(self, axis, labels)\u001b[0m\n\u001b[0;32m    562\u001b[0m     \u001b[1;32mdef\u001b[0m \u001b[0m_set_axis\u001b[0m\u001b[1;33m(\u001b[0m\u001b[0mself\u001b[0m\u001b[1;33m,\u001b[0m \u001b[0maxis\u001b[0m\u001b[1;33m:\u001b[0m \u001b[0mint\u001b[0m\u001b[1;33m,\u001b[0m \u001b[0mlabels\u001b[0m\u001b[1;33m:\u001b[0m \u001b[0mIndex\u001b[0m\u001b[1;33m)\u001b[0m \u001b[1;33m->\u001b[0m \u001b[1;32mNone\u001b[0m\u001b[1;33m:\u001b[0m\u001b[1;33m\u001b[0m\u001b[1;33m\u001b[0m\u001b[0m\n\u001b[0;32m    563\u001b[0m         \u001b[0mlabels\u001b[0m \u001b[1;33m=\u001b[0m \u001b[0mensure_index\u001b[0m\u001b[1;33m(\u001b[0m\u001b[0mlabels\u001b[0m\u001b[1;33m)\u001b[0m\u001b[1;33m\u001b[0m\u001b[1;33m\u001b[0m\u001b[0m\n\u001b[1;32m--> 564\u001b[1;33m         \u001b[0mself\u001b[0m\u001b[1;33m.\u001b[0m\u001b[0m_mgr\u001b[0m\u001b[1;33m.\u001b[0m\u001b[0mset_axis\u001b[0m\u001b[1;33m(\u001b[0m\u001b[0maxis\u001b[0m\u001b[1;33m,\u001b[0m \u001b[0mlabels\u001b[0m\u001b[1;33m)\u001b[0m\u001b[1;33m\u001b[0m\u001b[1;33m\u001b[0m\u001b[0m\n\u001b[0m\u001b[0;32m    565\u001b[0m         \u001b[0mself\u001b[0m\u001b[1;33m.\u001b[0m\u001b[0m_clear_item_cache\u001b[0m\u001b[1;33m(\u001b[0m\u001b[1;33m)\u001b[0m\u001b[1;33m\u001b[0m\u001b[1;33m\u001b[0m\u001b[0m\n\u001b[0;32m    566\u001b[0m \u001b[1;33m\u001b[0m\u001b[0m\n",
      "\u001b[1;32mc:\\users\\tigax\\appdata\\local\\programs\\python\\python37\\lib\\site-packages\\pandas\\core\\internals\\managers.py\u001b[0m in \u001b[0;36mset_axis\u001b[1;34m(self, axis, new_labels)\u001b[0m\n\u001b[0;32m    215\u001b[0m         \u001b[1;32mif\u001b[0m \u001b[0mnew_len\u001b[0m \u001b[1;33m!=\u001b[0m \u001b[0mold_len\u001b[0m\u001b[1;33m:\u001b[0m\u001b[1;33m\u001b[0m\u001b[1;33m\u001b[0m\u001b[0m\n\u001b[0;32m    216\u001b[0m             raise ValueError(\n\u001b[1;32m--> 217\u001b[1;33m                 \u001b[1;34mf\"Length mismatch: Expected axis has {old_len} elements, new \"\u001b[0m\u001b[1;33m\u001b[0m\u001b[1;33m\u001b[0m\u001b[0m\n\u001b[0m\u001b[0;32m    218\u001b[0m                 \u001b[1;34mf\"values have {new_len} elements\"\u001b[0m\u001b[1;33m\u001b[0m\u001b[1;33m\u001b[0m\u001b[0m\n\u001b[0;32m    219\u001b[0m             )\n",
      "\u001b[1;31mValueError\u001b[0m: Length mismatch: Expected axis has 4 elements, new values have 2 elements"
     ]
    }
   ],
   "source": [
    "dataframe.columns = [\"Test1\", \"Test2\"]\n",
    "dataframe"
   ]
  },
  {
   "cell_type": "markdown",
   "metadata": {},
   "source": [
    "Ups! Parece que temos que passar todos os nomes, ou talvez não ..."
   ]
  },
  {
   "cell_type": "code",
   "execution_count": 9,
   "metadata": {},
   "outputs": [
    {
     "data": {
      "text/html": [
       "<div>\n",
       "<style scoped>\n",
       "    .dataframe tbody tr th:only-of-type {\n",
       "        vertical-align: middle;\n",
       "    }\n",
       "\n",
       "    .dataframe tbody tr th {\n",
       "        vertical-align: top;\n",
       "    }\n",
       "\n",
       "    .dataframe thead th {\n",
       "        text-align: right;\n",
       "    }\n",
       "</style>\n",
       "<table border=\"1\" class=\"dataframe\">\n",
       "  <thead>\n",
       "    <tr style=\"text-align: right;\">\n",
       "      <th></th>\n",
       "      <th>A</th>\n",
       "      <th>TesteB</th>\n",
       "      <th>TesteC</th>\n",
       "      <th>D</th>\n",
       "    </tr>\n",
       "  </thead>\n",
       "  <tbody>\n",
       "    <tr>\n",
       "      <th>0</th>\n",
       "      <td>1</td>\n",
       "      <td>2</td>\n",
       "      <td>3</td>\n",
       "      <td>4</td>\n",
       "    </tr>\n",
       "    <tr>\n",
       "      <th>1</th>\n",
       "      <td>5</td>\n",
       "      <td>6</td>\n",
       "      <td>7</td>\n",
       "      <td>8</td>\n",
       "    </tr>\n",
       "    <tr>\n",
       "      <th>2</th>\n",
       "      <td>9</td>\n",
       "      <td>10</td>\n",
       "      <td>11</td>\n",
       "      <td>12</td>\n",
       "    </tr>\n",
       "  </tbody>\n",
       "</table>\n",
       "</div>"
      ],
      "text/plain": [
       "   A  TesteB  TesteC   D\n",
       "0  1       2       3   4\n",
       "1  5       6       7   8\n",
       "2  9      10      11  12"
      ]
     },
     "execution_count": 9,
     "metadata": {},
     "output_type": "execute_result"
    }
   ],
   "source": [
    "dataframe = dataframe.rename(columns={\"B\": \"TesteB\", \"C\": \"TesteC\"})\n",
    "\n",
    "dataframe"
   ]
  },
  {
   "cell_type": "markdown",
   "metadata": {},
   "source": [
    "Bem parece que consegui renomear apenas as colunas \"B\" e \"C\" (nomeadas anteriormente), mas ainda há outra forma de aplicar isto."
   ]
  },
  {
   "cell_type": "code",
   "execution_count": 10,
   "metadata": {},
   "outputs": [
    {
     "data": {
      "text/html": [
       "<div>\n",
       "<style scoped>\n",
       "    .dataframe tbody tr th:only-of-type {\n",
       "        vertical-align: middle;\n",
       "    }\n",
       "\n",
       "    .dataframe tbody tr th {\n",
       "        vertical-align: top;\n",
       "    }\n",
       "\n",
       "    .dataframe thead th {\n",
       "        text-align: right;\n",
       "    }\n",
       "</style>\n",
       "<table border=\"1\" class=\"dataframe\">\n",
       "  <thead>\n",
       "    <tr style=\"text-align: right;\">\n",
       "      <th></th>\n",
       "      <th>TesteA</th>\n",
       "      <th>TesteB</th>\n",
       "      <th>TesteC</th>\n",
       "      <th>TesteD</th>\n",
       "    </tr>\n",
       "  </thead>\n",
       "  <tbody>\n",
       "    <tr>\n",
       "      <th>0</th>\n",
       "      <td>1</td>\n",
       "      <td>2</td>\n",
       "      <td>3</td>\n",
       "      <td>4</td>\n",
       "    </tr>\n",
       "    <tr>\n",
       "      <th>1</th>\n",
       "      <td>5</td>\n",
       "      <td>6</td>\n",
       "      <td>7</td>\n",
       "      <td>8</td>\n",
       "    </tr>\n",
       "    <tr>\n",
       "      <th>2</th>\n",
       "      <td>9</td>\n",
       "      <td>10</td>\n",
       "      <td>11</td>\n",
       "      <td>12</td>\n",
       "    </tr>\n",
       "  </tbody>\n",
       "</table>\n",
       "</div>"
      ],
      "text/plain": [
       "   TesteA  TesteB  TesteC  TesteD\n",
       "0       1       2       3       4\n",
       "1       5       6       7       8\n",
       "2       9      10      11      12"
      ]
     },
     "execution_count": 10,
     "metadata": {},
     "output_type": "execute_result"
    }
   ],
   "source": [
    "dataframe.rename(columns={\"A\": \"TesteA\", \"D\": \"TesteD\"}, inplace=True)\n",
    "\n",
    "dataframe"
   ]
  },
  {
   "cell_type": "markdown",
   "metadata": {},
   "source": [
    "Consegui modificar o nome da coluna \"A\" e \"D\" sem precisar atribuir o resultado ao nosso `dataframe` ! Como isso é possivel?!<br><br>\n",
    "O truque é o parâmetro `inplace` que por defeito é definido como `False` mas se nós colocarmos como `True` ele atribui as modificações ao nosso dataframe sem a necessidade do: `dataframe = `<br><br>\n",
    "Eu acho uma boa prática usar o `inplace` no lugar do `variavel = ` e ele está disponível na maioria dos métodos do pandas, então mais uma razão para utilizá-lo!"
   ]
  },
  {
   "cell_type": "markdown",
   "metadata": {},
   "source": [
    "Podemos, também, definir o nome das colunas assim que criamos o dataframe"
   ]
  },
  {
   "cell_type": "code",
   "execution_count": 11,
   "metadata": {},
   "outputs": [
    {
     "data": {
      "text/html": [
       "<div>\n",
       "<style scoped>\n",
       "    .dataframe tbody tr th:only-of-type {\n",
       "        vertical-align: middle;\n",
       "    }\n",
       "\n",
       "    .dataframe tbody tr th {\n",
       "        vertical-align: top;\n",
       "    }\n",
       "\n",
       "    .dataframe thead th {\n",
       "        text-align: right;\n",
       "    }\n",
       "</style>\n",
       "<table border=\"1\" class=\"dataframe\">\n",
       "  <thead>\n",
       "    <tr style=\"text-align: right;\">\n",
       "      <th></th>\n",
       "      <th>TesteA</th>\n",
       "      <th>TesteB</th>\n",
       "      <th>TesteC</th>\n",
       "      <th>TesteD</th>\n",
       "    </tr>\n",
       "  </thead>\n",
       "  <tbody>\n",
       "    <tr>\n",
       "      <th>0</th>\n",
       "      <td>1</td>\n",
       "      <td>2</td>\n",
       "      <td>3</td>\n",
       "      <td>4</td>\n",
       "    </tr>\n",
       "    <tr>\n",
       "      <th>1</th>\n",
       "      <td>5</td>\n",
       "      <td>6</td>\n",
       "      <td>7</td>\n",
       "      <td>8</td>\n",
       "    </tr>\n",
       "    <tr>\n",
       "      <th>2</th>\n",
       "      <td>9</td>\n",
       "      <td>10</td>\n",
       "      <td>11</td>\n",
       "      <td>12</td>\n",
       "    </tr>\n",
       "  </tbody>\n",
       "</table>\n",
       "</div>"
      ],
      "text/plain": [
       "   TesteA  TesteB  TesteC  TesteD\n",
       "0       1       2       3       4\n",
       "1       5       6       7       8\n",
       "2       9      10      11      12"
      ]
     },
     "execution_count": 11,
     "metadata": {},
     "output_type": "execute_result"
    }
   ],
   "source": [
    "novo_dataframe = pd.DataFrame(matriz, columns=[\"TesteA\", \"TesteB\", \"TesteC\", \"TesteD\"])\n",
    "\n",
    "novo_dataframe"
   ]
  },
  {
   "cell_type": "markdown",
   "metadata": {},
   "source": [
    "É só utilizar o parâmetro `columns` e passar a lista com o NÚMERO CERTO de nomes para cada coluna."
   ]
  },
  {
   "cell_type": "markdown",
   "metadata": {},
   "source": [
    "## Carregar ficheiros num DataFrame\n",
    "\n",
    "Sim, também é possível ler o seu ficheiro excel ou csv para um dataframe, basta usar o método `read_excel` ou `read_csv` "
   ]
  },
  {
   "cell_type": "code",
   "execution_count": 12,
   "metadata": {},
   "outputs": [
    {
     "data": {
      "text/html": [
       "<div>\n",
       "<style scoped>\n",
       "    .dataframe tbody tr th:only-of-type {\n",
       "        vertical-align: middle;\n",
       "    }\n",
       "\n",
       "    .dataframe tbody tr th {\n",
       "        vertical-align: top;\n",
       "    }\n",
       "\n",
       "    .dataframe thead th {\n",
       "        text-align: right;\n",
       "    }\n",
       "</style>\n",
       "<table border=\"1\" class=\"dataframe\">\n",
       "  <thead>\n",
       "    <tr style=\"text-align: right;\">\n",
       "      <th></th>\n",
       "      <th>0</th>\n",
       "      <th>1</th>\n",
       "      <th>2</th>\n",
       "      <th>3</th>\n",
       "    </tr>\n",
       "  </thead>\n",
       "  <tbody>\n",
       "    <tr>\n",
       "      <th>0</th>\n",
       "      <td>1</td>\n",
       "      <td>2</td>\n",
       "      <td>3</td>\n",
       "      <td>4</td>\n",
       "    </tr>\n",
       "    <tr>\n",
       "      <th>1</th>\n",
       "      <td>5</td>\n",
       "      <td>6</td>\n",
       "      <td>7</td>\n",
       "      <td>8</td>\n",
       "    </tr>\n",
       "    <tr>\n",
       "      <th>2</th>\n",
       "      <td>9</td>\n",
       "      <td>10</td>\n",
       "      <td>11</td>\n",
       "      <td>12</td>\n",
       "    </tr>\n",
       "  </tbody>\n",
       "</table>\n",
       "</div>"
      ],
      "text/plain": [
       "   0   1   2   3\n",
       "0  1   2   3   4\n",
       "1  5   6   7   8\n",
       "2  9  10  11  12"
      ]
     },
     "execution_count": 12,
     "metadata": {},
     "output_type": "execute_result"
    }
   ],
   "source": [
    "excel_df = pd.read_excel(\"assets/teste.xlsx\", header=None)\n",
    "\n",
    "excel_df"
   ]
  },
  {
   "cell_type": "markdown",
   "metadata": {},
   "source": [
    "Criei um .xlsx (Ficheiro Excel) com uma sequência de 1 a 12 e carreguei-o com o método citado anteriormente.<br>\n",
    "-*Mas porque usaste o parâmetro header?*<br><br>\n",
    "Por defeito o `header = 0` - isso significa que os valores da linha índice 0 (1ª linha da tabela), serão utilizados como cabeçalho (nome das colunas). Como eu não pretendo isso, definiu como `None`.<br><br>\n",
    "Agora vamos tentar carregar um ficheiro CSV (Comma-Separated Values)"
   ]
  },
  {
   "cell_type": "code",
   "execution_count": 13,
   "metadata": {},
   "outputs": [
    {
     "data": {
      "text/html": [
       "<div>\n",
       "<style scoped>\n",
       "    .dataframe tbody tr th:only-of-type {\n",
       "        vertical-align: middle;\n",
       "    }\n",
       "\n",
       "    .dataframe tbody tr th {\n",
       "        vertical-align: top;\n",
       "    }\n",
       "\n",
       "    .dataframe thead th {\n",
       "        text-align: right;\n",
       "    }\n",
       "</style>\n",
       "<table border=\"1\" class=\"dataframe\">\n",
       "  <thead>\n",
       "    <tr style=\"text-align: right;\">\n",
       "      <th></th>\n",
       "      <th>A;B;C;D</th>\n",
       "    </tr>\n",
       "  </thead>\n",
       "  <tbody>\n",
       "    <tr>\n",
       "      <th>0</th>\n",
       "      <td>1;2;3;4</td>\n",
       "    </tr>\n",
       "    <tr>\n",
       "      <th>1</th>\n",
       "      <td>5;6;7;8</td>\n",
       "    </tr>\n",
       "  </tbody>\n",
       "</table>\n",
       "</div>"
      ],
      "text/plain": [
       "   A;B;C;D\n",
       "0  1;2;3;4\n",
       "1  5;6;7;8"
      ]
     },
     "execution_count": 13,
     "metadata": {},
     "output_type": "execute_result"
    }
   ],
   "source": [
    "csv_df = pd.read_csv(\"assets/teste2.csv\")\n",
    "\n",
    "csv_df"
   ]
  },
  {
   "cell_type": "markdown",
   "metadata": {},
   "source": [
    "Ele carregou certo o nome das colunas e os valores, mas porquê os \";\" ??<br><br>\n",
    "Este CSV não é separado por vírgula e sim por ponto e vírgula. Quando o CSV não é separado por vírgula, temos que especificar qual é o caracter separador e para isso usamos o `sep`."
   ]
  },
  {
   "cell_type": "code",
   "execution_count": 14,
   "metadata": {},
   "outputs": [
    {
     "data": {
      "text/html": [
       "<div>\n",
       "<style scoped>\n",
       "    .dataframe tbody tr th:only-of-type {\n",
       "        vertical-align: middle;\n",
       "    }\n",
       "\n",
       "    .dataframe tbody tr th {\n",
       "        vertical-align: top;\n",
       "    }\n",
       "\n",
       "    .dataframe thead th {\n",
       "        text-align: right;\n",
       "    }\n",
       "</style>\n",
       "<table border=\"1\" class=\"dataframe\">\n",
       "  <thead>\n",
       "    <tr style=\"text-align: right;\">\n",
       "      <th></th>\n",
       "      <th>A</th>\n",
       "      <th>B</th>\n",
       "      <th>C</th>\n",
       "      <th>D</th>\n",
       "    </tr>\n",
       "  </thead>\n",
       "  <tbody>\n",
       "    <tr>\n",
       "      <th>0</th>\n",
       "      <td>1</td>\n",
       "      <td>2</td>\n",
       "      <td>3</td>\n",
       "      <td>4</td>\n",
       "    </tr>\n",
       "    <tr>\n",
       "      <th>1</th>\n",
       "      <td>5</td>\n",
       "      <td>6</td>\n",
       "      <td>7</td>\n",
       "      <td>8</td>\n",
       "    </tr>\n",
       "  </tbody>\n",
       "</table>\n",
       "</div>"
      ],
      "text/plain": [
       "   A  B  C  D\n",
       "0  1  2  3  4\n",
       "1  5  6  7  8"
      ]
     },
     "execution_count": 14,
     "metadata": {},
     "output_type": "execute_result"
    }
   ],
   "source": [
    "csv_df = pd.read_csv(\"assets/teste2.csv\", sep=\";\")\n",
    "\n",
    "csv_df"
   ]
  },
  {
   "cell_type": "markdown",
   "metadata": {},
   "source": [
    "Agora já ficou bom! Outra coisa que não mostrei, mas pode ser útil, é que vocês podem especificar como os número decimais são mostrados.<br><br>\n",
    "Se tiver no Brasil, por exemplo, números decimais serão mostrados com ponto(\".\"), aqui vão alguns exemplos:<br>\n",
    "1.13<br>\n",
    "2643.761<br>\n",
    "12.12<br><br>\n",
    "Em Portugal é mais utilizado a vírgula(\",\") logo:<br>\n",
    "1,13<br>\n",
    "2643,761<br>\n",
    "12,12<br><br>\n",
    "Devido a essas diferenças, nós podemos especificar qual caracter é usado nos decimais. No caso de querer usar a \",\" passamos o parâmetro: `dec=\",\"`"
   ]
  },
  {
   "cell_type": "markdown",
   "metadata": {},
   "source": [
    "## Condições em DataFrames\n",
    "\n",
    "Imaginemos que queremos ver só as linhas de uma dada tabela, onde os valores de uma dada coluna são = X<br><br>\n",
    "Isto é possível de fazer com o Pandas e para demonstrar vou usar o nosso dicionário de horas diárias de estudo."
   ]
  },
  {
   "cell_type": "code",
   "execution_count": 15,
   "metadata": {},
   "outputs": [
    {
     "data": {
      "text/html": [
       "<div>\n",
       "<style scoped>\n",
       "    .dataframe tbody tr th:only-of-type {\n",
       "        vertical-align: middle;\n",
       "    }\n",
       "\n",
       "    .dataframe tbody tr th {\n",
       "        vertical-align: top;\n",
       "    }\n",
       "\n",
       "    .dataframe thead th {\n",
       "        text-align: right;\n",
       "    }\n",
       "</style>\n",
       "<table border=\"1\" class=\"dataframe\">\n",
       "  <thead>\n",
       "    <tr style=\"text-align: right;\">\n",
       "      <th></th>\n",
       "      <th>Matemática</th>\n",
       "      <th>Física e Química</th>\n",
       "      <th>Português</th>\n",
       "      <th>Inglês</th>\n",
       "    </tr>\n",
       "  </thead>\n",
       "  <tbody>\n",
       "    <tr>\n",
       "      <th>0</th>\n",
       "      <td>90</td>\n",
       "      <td>70</td>\n",
       "      <td>610</td>\n",
       "      <td>12</td>\n",
       "    </tr>\n",
       "    <tr>\n",
       "      <th>1</th>\n",
       "      <td>180</td>\n",
       "      <td>120</td>\n",
       "      <td>10</td>\n",
       "      <td>812</td>\n",
       "    </tr>\n",
       "    <tr>\n",
       "      <th>2</th>\n",
       "      <td>45</td>\n",
       "      <td>160</td>\n",
       "      <td>32</td>\n",
       "      <td>123</td>\n",
       "    </tr>\n",
       "    <tr>\n",
       "      <th>3</th>\n",
       "      <td>360</td>\n",
       "      <td>360</td>\n",
       "      <td>531</td>\n",
       "      <td>321</td>\n",
       "    </tr>\n",
       "    <tr>\n",
       "      <th>4</th>\n",
       "      <td>920</td>\n",
       "      <td>420</td>\n",
       "      <td>763</td>\n",
       "      <td>631</td>\n",
       "    </tr>\n",
       "    <tr>\n",
       "      <th>5</th>\n",
       "      <td>15</td>\n",
       "      <td>87</td>\n",
       "      <td>234</td>\n",
       "      <td>34</td>\n",
       "    </tr>\n",
       "  </tbody>\n",
       "</table>\n",
       "</div>"
      ],
      "text/plain": [
       "   Matemática  Física e Química  Português  Inglês\n",
       "0          90                70        610      12\n",
       "1         180               120         10     812\n",
       "2          45               160         32     123\n",
       "3         360               360        531     321\n",
       "4         920               420        763     631\n",
       "5          15                87        234      34"
      ]
     },
     "execution_count": 15,
     "metadata": {},
     "output_type": "execute_result"
    }
   ],
   "source": [
    "dicionario = {\n",
    "    \"Matemática\": [90, 180, 45, 360, 920, 15],\n",
    "    \"Física e Química\": [70, 120, 160, 360, 420, 87],\n",
    "    \"Português\": [610, 10, 32, 531,763, 234],\n",
    "    \"Inglês\": [12, 812, 123, 321, 631, 34]\n",
    "}\n",
    "\n",
    "df = pd.DataFrame(dicionario)\n",
    "\n",
    "df"
   ]
  },
  {
   "cell_type": "markdown",
   "metadata": {},
   "source": [
    "Suponhamos que eu só quero ver as horas de estudo de alunos que estudam pelo menos 80 minutos de Física e Química por dia.<br><br>\n",
    "Bem este \"pelo menos\" pode ser traduzido num \"maior ou igual a 80\"."
   ]
  },
  {
   "cell_type": "code",
   "execution_count": 16,
   "metadata": {},
   "outputs": [
    {
     "data": {
      "text/plain": [
       "0    False\n",
       "1     True\n",
       "2     True\n",
       "3     True\n",
       "4     True\n",
       "5     True\n",
       "Name: Física e Química, dtype: bool"
      ]
     },
     "execution_count": 16,
     "metadata": {},
     "output_type": "execute_result"
    }
   ],
   "source": [
    "df[\"Física e Química\"] >= 80"
   ]
  },
  {
   "cell_type": "markdown",
   "metadata": {},
   "source": [
    "Bem parece que temos aqui um DataFrame booleano, onde apenas a 1ª linha tem o valor Falso. E se observarmos na tabela acima, apenas a 1ª linha estuda menos de 80 minutos por dia, portanto está certo!<br><br>\n",
    "Mas nós não queremos um DataFrame booleano, nós queremos um DataFrame igual ao original só que apenas com os alunos que estudam 80 minutos ou mais de Física e Química por dia."
   ]
  },
  {
   "cell_type": "code",
   "execution_count": 17,
   "metadata": {},
   "outputs": [
    {
     "data": {
      "text/html": [
       "<div>\n",
       "<style scoped>\n",
       "    .dataframe tbody tr th:only-of-type {\n",
       "        vertical-align: middle;\n",
       "    }\n",
       "\n",
       "    .dataframe tbody tr th {\n",
       "        vertical-align: top;\n",
       "    }\n",
       "\n",
       "    .dataframe thead th {\n",
       "        text-align: right;\n",
       "    }\n",
       "</style>\n",
       "<table border=\"1\" class=\"dataframe\">\n",
       "  <thead>\n",
       "    <tr style=\"text-align: right;\">\n",
       "      <th></th>\n",
       "      <th>Matemática</th>\n",
       "      <th>Física e Química</th>\n",
       "      <th>Português</th>\n",
       "      <th>Inglês</th>\n",
       "    </tr>\n",
       "  </thead>\n",
       "  <tbody>\n",
       "    <tr>\n",
       "      <th>1</th>\n",
       "      <td>180</td>\n",
       "      <td>120</td>\n",
       "      <td>10</td>\n",
       "      <td>812</td>\n",
       "    </tr>\n",
       "    <tr>\n",
       "      <th>2</th>\n",
       "      <td>45</td>\n",
       "      <td>160</td>\n",
       "      <td>32</td>\n",
       "      <td>123</td>\n",
       "    </tr>\n",
       "    <tr>\n",
       "      <th>3</th>\n",
       "      <td>360</td>\n",
       "      <td>360</td>\n",
       "      <td>531</td>\n",
       "      <td>321</td>\n",
       "    </tr>\n",
       "    <tr>\n",
       "      <th>4</th>\n",
       "      <td>920</td>\n",
       "      <td>420</td>\n",
       "      <td>763</td>\n",
       "      <td>631</td>\n",
       "    </tr>\n",
       "    <tr>\n",
       "      <th>5</th>\n",
       "      <td>15</td>\n",
       "      <td>87</td>\n",
       "      <td>234</td>\n",
       "      <td>34</td>\n",
       "    </tr>\n",
       "  </tbody>\n",
       "</table>\n",
       "</div>"
      ],
      "text/plain": [
       "   Matemática  Física e Química  Português  Inglês\n",
       "1         180               120         10     812\n",
       "2          45               160         32     123\n",
       "3         360               360        531     321\n",
       "4         920               420        763     631\n",
       "5          15                87        234      34"
      ]
     },
     "execution_count": 17,
     "metadata": {},
     "output_type": "execute_result"
    }
   ],
   "source": [
    "df[ df[\"Física e Química\"] >= 80 ]"
   ]
  },
  {
   "cell_type": "markdown",
   "metadata": {},
   "source": [
    "Voilá! Aqui temos o DataFrame que queriamos. Basicamente o que se passou aqui é que passamos o nosso DataFrame booleano (que nada mais é que um array, uma lista de valores: Verdadeiro/Falso) como índice do nosso DataFrame, e todos os índices onde o valor é True e ele mostra e tudo que é False ele omite."
   ]
  },
  {
   "cell_type": "markdown",
   "metadata": {},
   "source": [
    "*-É tudo muito bonito, mas e se quisermos fazer mais que uma condição?? Dá para fazer?*<br><br>\n",
    "Sim, claro que dá, só temos que mudar um pouco a estrutura. Vamos agora querer não só alunos com 80 minutos ou mais de FQ, mas também vamos querer alunos com 90 ou mais minutos de Português."
   ]
  },
  {
   "cell_type": "code",
   "execution_count": 18,
   "metadata": {},
   "outputs": [
    {
     "data": {
      "text/html": [
       "<div>\n",
       "<style scoped>\n",
       "    .dataframe tbody tr th:only-of-type {\n",
       "        vertical-align: middle;\n",
       "    }\n",
       "\n",
       "    .dataframe tbody tr th {\n",
       "        vertical-align: top;\n",
       "    }\n",
       "\n",
       "    .dataframe thead th {\n",
       "        text-align: right;\n",
       "    }\n",
       "</style>\n",
       "<table border=\"1\" class=\"dataframe\">\n",
       "  <thead>\n",
       "    <tr style=\"text-align: right;\">\n",
       "      <th></th>\n",
       "      <th>Matemática</th>\n",
       "      <th>Física e Química</th>\n",
       "      <th>Português</th>\n",
       "      <th>Inglês</th>\n",
       "    </tr>\n",
       "  </thead>\n",
       "  <tbody>\n",
       "    <tr>\n",
       "      <th>3</th>\n",
       "      <td>360</td>\n",
       "      <td>360</td>\n",
       "      <td>531</td>\n",
       "      <td>321</td>\n",
       "    </tr>\n",
       "    <tr>\n",
       "      <th>4</th>\n",
       "      <td>920</td>\n",
       "      <td>420</td>\n",
       "      <td>763</td>\n",
       "      <td>631</td>\n",
       "    </tr>\n",
       "    <tr>\n",
       "      <th>5</th>\n",
       "      <td>15</td>\n",
       "      <td>87</td>\n",
       "      <td>234</td>\n",
       "      <td>34</td>\n",
       "    </tr>\n",
       "  </tbody>\n",
       "</table>\n",
       "</div>"
      ],
      "text/plain": [
       "   Matemática  Física e Química  Português  Inglês\n",
       "3         360               360        531     321\n",
       "4         920               420        763     631\n",
       "5          15                87        234      34"
      ]
     },
     "execution_count": 18,
     "metadata": {},
     "output_type": "execute_result"
    }
   ],
   "source": [
    "df[ (df[\"Física e Química\"] >= 80) & (df[\"Português\"] >= 90)]"
   ]
  },
  {
   "cell_type": "markdown",
   "metadata": {},
   "source": [
    "E cá temos eles! A única coisa que temos de fazer é envolver cada condição em: `()` - e usar o operador: `&` - que neste caso significa \"e\", logo isto só retornar Verdadeiro se ambas as condições forem verdadeiras (lembrem-se das aulas de lógica e das tabelas de verdade)"
   ]
  },
  {
   "cell_type": "markdown",
   "metadata": {},
   "source": [
    "Também dá para aplicar um \"ou\", usando o operador: `|` - E neste caso basta uma condição ser verdadeira para retornar Verdadeira."
   ]
  },
  {
   "cell_type": "code",
   "execution_count": 19,
   "metadata": {},
   "outputs": [
    {
     "data": {
      "text/html": [
       "<div>\n",
       "<style scoped>\n",
       "    .dataframe tbody tr th:only-of-type {\n",
       "        vertical-align: middle;\n",
       "    }\n",
       "\n",
       "    .dataframe tbody tr th {\n",
       "        vertical-align: top;\n",
       "    }\n",
       "\n",
       "    .dataframe thead th {\n",
       "        text-align: right;\n",
       "    }\n",
       "</style>\n",
       "<table border=\"1\" class=\"dataframe\">\n",
       "  <thead>\n",
       "    <tr style=\"text-align: right;\">\n",
       "      <th></th>\n",
       "      <th>Matemática</th>\n",
       "      <th>Física e Química</th>\n",
       "      <th>Português</th>\n",
       "      <th>Inglês</th>\n",
       "    </tr>\n",
       "  </thead>\n",
       "  <tbody>\n",
       "    <tr>\n",
       "      <th>0</th>\n",
       "      <td>90</td>\n",
       "      <td>70</td>\n",
       "      <td>610</td>\n",
       "      <td>12</td>\n",
       "    </tr>\n",
       "    <tr>\n",
       "      <th>3</th>\n",
       "      <td>360</td>\n",
       "      <td>360</td>\n",
       "      <td>531</td>\n",
       "      <td>321</td>\n",
       "    </tr>\n",
       "    <tr>\n",
       "      <th>4</th>\n",
       "      <td>920</td>\n",
       "      <td>420</td>\n",
       "      <td>763</td>\n",
       "      <td>631</td>\n",
       "    </tr>\n",
       "    <tr>\n",
       "      <th>5</th>\n",
       "      <td>15</td>\n",
       "      <td>87</td>\n",
       "      <td>234</td>\n",
       "      <td>34</td>\n",
       "    </tr>\n",
       "  </tbody>\n",
       "</table>\n",
       "</div>"
      ],
      "text/plain": [
       "   Matemática  Física e Química  Português  Inglês\n",
       "0          90                70        610      12\n",
       "3         360               360        531     321\n",
       "4         920               420        763     631\n",
       "5          15                87        234      34"
      ]
     },
     "execution_count": 19,
     "metadata": {},
     "output_type": "execute_result"
    }
   ],
   "source": [
    "df[ (df[\"Matemática\"] >= 190) | (df[\"Português\"] >= 100)]"
   ]
  },
  {
   "cell_type": "markdown",
   "metadata": {},
   "source": [
    "Outra coisa que pode ser interessante é pegarmos somente nos valores de 1 ou mais colunas.<br>\n",
    "Vamos usar a mesma condição, só que agora só quero ver valores da coluna \"Inglês\"."
   ]
  },
  {
   "cell_type": "code",
   "execution_count": 20,
   "metadata": {},
   "outputs": [
    {
     "data": {
      "text/plain": [
       "0     12\n",
       "3    321\n",
       "4    631\n",
       "5     34\n",
       "Name: Inglês, dtype: int64"
      ]
     },
     "execution_count": 20,
     "metadata": {},
     "output_type": "execute_result"
    }
   ],
   "source": [
    "df[ (df[\"Matemática\"] >= 190) | (df[\"Português\"] >= 100)][\"Inglês\"]"
   ]
  },
  {
   "cell_type": "markdown",
   "metadata": {},
   "source": [
    "Basta passar os `[]` com o nome da coluna que queremos ver os valores.<br>\n",
    "E podemos passar uma lista com mais que um nome, por exemplo, se quisermos os valores para a coluna \"Inglês\" e \"Matemática\", fazemos assim."
   ]
  },
  {
   "cell_type": "code",
   "execution_count": 21,
   "metadata": {},
   "outputs": [
    {
     "data": {
      "text/html": [
       "<div>\n",
       "<style scoped>\n",
       "    .dataframe tbody tr th:only-of-type {\n",
       "        vertical-align: middle;\n",
       "    }\n",
       "\n",
       "    .dataframe tbody tr th {\n",
       "        vertical-align: top;\n",
       "    }\n",
       "\n",
       "    .dataframe thead th {\n",
       "        text-align: right;\n",
       "    }\n",
       "</style>\n",
       "<table border=\"1\" class=\"dataframe\">\n",
       "  <thead>\n",
       "    <tr style=\"text-align: right;\">\n",
       "      <th></th>\n",
       "      <th>Inglês</th>\n",
       "      <th>Matemática</th>\n",
       "    </tr>\n",
       "  </thead>\n",
       "  <tbody>\n",
       "    <tr>\n",
       "      <th>0</th>\n",
       "      <td>12</td>\n",
       "      <td>90</td>\n",
       "    </tr>\n",
       "    <tr>\n",
       "      <th>3</th>\n",
       "      <td>321</td>\n",
       "      <td>360</td>\n",
       "    </tr>\n",
       "    <tr>\n",
       "      <th>4</th>\n",
       "      <td>631</td>\n",
       "      <td>920</td>\n",
       "    </tr>\n",
       "    <tr>\n",
       "      <th>5</th>\n",
       "      <td>34</td>\n",
       "      <td>15</td>\n",
       "    </tr>\n",
       "  </tbody>\n",
       "</table>\n",
       "</div>"
      ],
      "text/plain": [
       "   Inglês  Matemática\n",
       "0      12          90\n",
       "3     321         360\n",
       "4     631         920\n",
       "5      34          15"
      ]
     },
     "execution_count": 21,
     "metadata": {},
     "output_type": "execute_result"
    }
   ],
   "source": [
    "df[ (df[\"Matemática\"] >= 190) | (df[\"Português\"] >= 100)][[\"Inglês\", \"Matemática\"]]"
   ]
  },
  {
   "cell_type": "markdown",
   "metadata": {},
   "source": [
    "## .loc e iloc\n",
    "\n",
    "Os 2 métodos (eles não são bem métodos, são mais uma espécie de array que tem acesso ao nosso DataFrame) do título servem para encontrar \"fatias\" do nosso DataFrame.<br><br>\n",
    "Comecemos pelo `loc`, a sintaxe dele é basicamente: `loc[indices, colunas]`"
   ]
  },
  {
   "cell_type": "code",
   "execution_count": 22,
   "metadata": {},
   "outputs": [
    {
     "data": {
      "text/plain": [
       "Matemática           90\n",
       "Física e Química     70\n",
       "Português           610\n",
       "Inglês               12\n",
       "Name: 0, dtype: int64"
      ]
     },
     "execution_count": 22,
     "metadata": {},
     "output_type": "execute_result"
    }
   ],
   "source": [
    "df.loc[0]"
   ]
  },
  {
   "cell_type": "markdown",
   "metadata": {},
   "source": [
    "Passando somente o índice 0 ele retorna as colunas (com os devidos valores) da 1ª linha.<br><br>\n",
    "Se quisermos, por exemplo, o valor da coluna Português, na 1ª linha, basta passar a string: \"Português\" - como segundo valor do nosso `loc`"
   ]
  },
  {
   "cell_type": "code",
   "execution_count": 23,
   "metadata": {},
   "outputs": [
    {
     "data": {
      "text/plain": [
       "610"
      ]
     },
     "execution_count": 23,
     "metadata": {},
     "output_type": "execute_result"
    }
   ],
   "source": [
    "df.loc[0, \"Português\"]"
   ]
  },
  {
   "cell_type": "markdown",
   "metadata": {},
   "source": [
    "Também podemos passar uma lista de índices, indicando que queremos múltiplas linhas.<br>\n",
    "Neste caso, vou querer a: 1ª e 3ª linha com o valor de Inglês"
   ]
  },
  {
   "cell_type": "code",
   "execution_count": 24,
   "metadata": {},
   "outputs": [
    {
     "data": {
      "text/plain": [
       "0     12\n",
       "2    123\n",
       "Name: Inglês, dtype: int64"
      ]
     },
     "execution_count": 24,
     "metadata": {},
     "output_type": "execute_result"
    }
   ],
   "source": [
    "df.loc[[0,2], \"Inglês\"]"
   ]
  },
  {
   "cell_type": "markdown",
   "metadata": {},
   "source": [
    "Agora vou querer a: 1ª e 2ª linha com os valores de: Matemática e Português"
   ]
  },
  {
   "cell_type": "code",
   "execution_count": 25,
   "metadata": {},
   "outputs": [
    {
     "data": {
      "text/html": [
       "<div>\n",
       "<style scoped>\n",
       "    .dataframe tbody tr th:only-of-type {\n",
       "        vertical-align: middle;\n",
       "    }\n",
       "\n",
       "    .dataframe tbody tr th {\n",
       "        vertical-align: top;\n",
       "    }\n",
       "\n",
       "    .dataframe thead th {\n",
       "        text-align: right;\n",
       "    }\n",
       "</style>\n",
       "<table border=\"1\" class=\"dataframe\">\n",
       "  <thead>\n",
       "    <tr style=\"text-align: right;\">\n",
       "      <th></th>\n",
       "      <th>Matemática</th>\n",
       "      <th>Português</th>\n",
       "    </tr>\n",
       "  </thead>\n",
       "  <tbody>\n",
       "    <tr>\n",
       "      <th>0</th>\n",
       "      <td>90</td>\n",
       "      <td>610</td>\n",
       "    </tr>\n",
       "    <tr>\n",
       "      <th>1</th>\n",
       "      <td>180</td>\n",
       "      <td>10</td>\n",
       "    </tr>\n",
       "  </tbody>\n",
       "</table>\n",
       "</div>"
      ],
      "text/plain": [
       "   Matemática  Português\n",
       "0          90        610\n",
       "1         180         10"
      ]
     },
     "execution_count": 25,
     "metadata": {},
     "output_type": "execute_result"
    }
   ],
   "source": [
    "df.loc[[0,1], [\"Matemática\", \"Português\"]]"
   ]
  },
  {
   "cell_type": "markdown",
   "metadata": {},
   "source": [
    "Já vimos que o `loc` pode ser bastante útil, mas e o `iloc`, para que serve?<br><br>\n",
    "O \"i\" no `iloc` vem de índice (index), ou seja, este só aceita números para conseguir \"fatias\" do nosso DataFrame.<br><br>\n",
    "Para exemplificar vou passar a 1ª linha (índice 0) e a coluna \"Português\" que tem índice 2."
   ]
  },
  {
   "cell_type": "code",
   "execution_count": 26,
   "metadata": {},
   "outputs": [
    {
     "data": {
      "text/plain": [
       "610"
      ]
     },
     "execution_count": 26,
     "metadata": {},
     "output_type": "execute_result"
    }
   ],
   "source": [
    "df.iloc[0, 2]"
   ]
  },
  {
   "cell_type": "markdown",
   "metadata": {},
   "source": [
    "Retornou o mesmo valor que obtivemos quando rodámos: `df.loc[0, \"Português\"]`<br><br>\n",
    "\n",
    "Também podemos passar \"slices\", ou seja, usar os \":\" para retornar as linhas e/ou colunas começando num índice x e terminando num índice y.<br>\n",
    "No caso, vou retornar todas as linhas, mas somente da 2ª à última coluna."
   ]
  },
  {
   "cell_type": "code",
   "execution_count": 27,
   "metadata": {},
   "outputs": [
    {
     "data": {
      "text/html": [
       "<div>\n",
       "<style scoped>\n",
       "    .dataframe tbody tr th:only-of-type {\n",
       "        vertical-align: middle;\n",
       "    }\n",
       "\n",
       "    .dataframe tbody tr th {\n",
       "        vertical-align: top;\n",
       "    }\n",
       "\n",
       "    .dataframe thead th {\n",
       "        text-align: right;\n",
       "    }\n",
       "</style>\n",
       "<table border=\"1\" class=\"dataframe\">\n",
       "  <thead>\n",
       "    <tr style=\"text-align: right;\">\n",
       "      <th></th>\n",
       "      <th>Física e Química</th>\n",
       "      <th>Português</th>\n",
       "      <th>Inglês</th>\n",
       "    </tr>\n",
       "  </thead>\n",
       "  <tbody>\n",
       "    <tr>\n",
       "      <th>0</th>\n",
       "      <td>70</td>\n",
       "      <td>610</td>\n",
       "      <td>12</td>\n",
       "    </tr>\n",
       "    <tr>\n",
       "      <th>1</th>\n",
       "      <td>120</td>\n",
       "      <td>10</td>\n",
       "      <td>812</td>\n",
       "    </tr>\n",
       "    <tr>\n",
       "      <th>2</th>\n",
       "      <td>160</td>\n",
       "      <td>32</td>\n",
       "      <td>123</td>\n",
       "    </tr>\n",
       "    <tr>\n",
       "      <th>3</th>\n",
       "      <td>360</td>\n",
       "      <td>531</td>\n",
       "      <td>321</td>\n",
       "    </tr>\n",
       "    <tr>\n",
       "      <th>4</th>\n",
       "      <td>420</td>\n",
       "      <td>763</td>\n",
       "      <td>631</td>\n",
       "    </tr>\n",
       "    <tr>\n",
       "      <th>5</th>\n",
       "      <td>87</td>\n",
       "      <td>234</td>\n",
       "      <td>34</td>\n",
       "    </tr>\n",
       "  </tbody>\n",
       "</table>\n",
       "</div>"
      ],
      "text/plain": [
       "   Física e Química  Português  Inglês\n",
       "0                70        610      12\n",
       "1               120         10     812\n",
       "2               160         32     123\n",
       "3               360        531     321\n",
       "4               420        763     631\n",
       "5                87        234      34"
      ]
     },
     "execution_count": 27,
     "metadata": {},
     "output_type": "execute_result"
    }
   ],
   "source": [
    "df.iloc[:, 1:]"
   ]
  },
  {
   "cell_type": "markdown",
   "metadata": {},
   "source": [
    "Agora vou trocar, vou pedir que apenas mostre da 2ª à 3ª linha e mostre todas as colunas."
   ]
  },
  {
   "cell_type": "code",
   "execution_count": 28,
   "metadata": {},
   "outputs": [
    {
     "data": {
      "text/html": [
       "<div>\n",
       "<style scoped>\n",
       "    .dataframe tbody tr th:only-of-type {\n",
       "        vertical-align: middle;\n",
       "    }\n",
       "\n",
       "    .dataframe tbody tr th {\n",
       "        vertical-align: top;\n",
       "    }\n",
       "\n",
       "    .dataframe thead th {\n",
       "        text-align: right;\n",
       "    }\n",
       "</style>\n",
       "<table border=\"1\" class=\"dataframe\">\n",
       "  <thead>\n",
       "    <tr style=\"text-align: right;\">\n",
       "      <th></th>\n",
       "      <th>Matemática</th>\n",
       "      <th>Física e Química</th>\n",
       "      <th>Português</th>\n",
       "      <th>Inglês</th>\n",
       "    </tr>\n",
       "  </thead>\n",
       "  <tbody>\n",
       "    <tr>\n",
       "      <th>1</th>\n",
       "      <td>180</td>\n",
       "      <td>120</td>\n",
       "      <td>10</td>\n",
       "      <td>812</td>\n",
       "    </tr>\n",
       "    <tr>\n",
       "      <th>2</th>\n",
       "      <td>45</td>\n",
       "      <td>160</td>\n",
       "      <td>32</td>\n",
       "      <td>123</td>\n",
       "    </tr>\n",
       "  </tbody>\n",
       "</table>\n",
       "</div>"
      ],
      "text/plain": [
       "   Matemática  Física e Química  Português  Inglês\n",
       "1         180               120         10     812\n",
       "2          45               160         32     123"
      ]
     },
     "execution_count": 28,
     "metadata": {},
     "output_type": "execute_result"
    }
   ],
   "source": [
    "df.iloc[1:3, :]"
   ]
  },
  {
   "cell_type": "markdown",
   "metadata": {},
   "source": [
    "**Nota**: Assim como no Numpy e no Python, quando passamos o ínicio e o fim de uma \"fatia\"/slice, o valor no fim não é contado, ou seja, se o valor do fim for 3, ele irá terminar no 2. Foi isso que aconteceu aqui, eu passei a linha de índice 1 e queria que mostrasse até à linha de índice 2, logo passei índice 3, pois ele só conta até 3-1 = 2"
   ]
  },
  {
   "cell_type": "markdown",
   "metadata": {},
   "source": [
    "## Aritméticas e aplicar funções\n",
    "\n",
    "No pandas nós podemos aplicar as nossas próprias funções ou funções do numpy, para modificar valores em todo o dataframe ou só em colunas específicas.<br><br>\n",
    "Bem vou criar uma função que irá retornar: \"Muito\", \"Mediano\" ou \"Pouco\" - com base nos número de minutos estudados de todas as disciplinas.<br><br>\n",
    "\n",
    "**Nota**: Os valores que passei foram aleatórios então é bem provável que a soma de todos minutos passem de 24h"
   ]
  },
  {
   "cell_type": "code",
   "execution_count": 29,
   "metadata": {},
   "outputs": [],
   "source": [
    "# Primeiro vamos criar uma coluna com somatório de minutos estudados por aluno, ou seja, vamos linha por linha somando\n",
    "df[\"Total de Minutos\"] = df.sum(axis=1)"
   ]
  },
  {
   "cell_type": "code",
   "execution_count": 30,
   "metadata": {},
   "outputs": [
    {
     "data": {
      "text/html": [
       "<div>\n",
       "<style scoped>\n",
       "    .dataframe tbody tr th:only-of-type {\n",
       "        vertical-align: middle;\n",
       "    }\n",
       "\n",
       "    .dataframe tbody tr th {\n",
       "        vertical-align: top;\n",
       "    }\n",
       "\n",
       "    .dataframe thead th {\n",
       "        text-align: right;\n",
       "    }\n",
       "</style>\n",
       "<table border=\"1\" class=\"dataframe\">\n",
       "  <thead>\n",
       "    <tr style=\"text-align: right;\">\n",
       "      <th></th>\n",
       "      <th>Matemática</th>\n",
       "      <th>Física e Química</th>\n",
       "      <th>Português</th>\n",
       "      <th>Inglês</th>\n",
       "      <th>Total de Minutos</th>\n",
       "    </tr>\n",
       "  </thead>\n",
       "  <tbody>\n",
       "    <tr>\n",
       "      <th>0</th>\n",
       "      <td>90</td>\n",
       "      <td>70</td>\n",
       "      <td>610</td>\n",
       "      <td>12</td>\n",
       "      <td>782</td>\n",
       "    </tr>\n",
       "    <tr>\n",
       "      <th>1</th>\n",
       "      <td>180</td>\n",
       "      <td>120</td>\n",
       "      <td>10</td>\n",
       "      <td>812</td>\n",
       "      <td>1122</td>\n",
       "    </tr>\n",
       "    <tr>\n",
       "      <th>2</th>\n",
       "      <td>45</td>\n",
       "      <td>160</td>\n",
       "      <td>32</td>\n",
       "      <td>123</td>\n",
       "      <td>360</td>\n",
       "    </tr>\n",
       "    <tr>\n",
       "      <th>3</th>\n",
       "      <td>360</td>\n",
       "      <td>360</td>\n",
       "      <td>531</td>\n",
       "      <td>321</td>\n",
       "      <td>1572</td>\n",
       "    </tr>\n",
       "    <tr>\n",
       "      <th>4</th>\n",
       "      <td>920</td>\n",
       "      <td>420</td>\n",
       "      <td>763</td>\n",
       "      <td>631</td>\n",
       "      <td>2734</td>\n",
       "    </tr>\n",
       "    <tr>\n",
       "      <th>5</th>\n",
       "      <td>15</td>\n",
       "      <td>87</td>\n",
       "      <td>234</td>\n",
       "      <td>34</td>\n",
       "      <td>370</td>\n",
       "    </tr>\n",
       "  </tbody>\n",
       "</table>\n",
       "</div>"
      ],
      "text/plain": [
       "   Matemática  Física e Química  Português  Inglês  Total de Minutos\n",
       "0          90                70        610      12               782\n",
       "1         180               120         10     812              1122\n",
       "2          45               160         32     123               360\n",
       "3         360               360        531     321              1572\n",
       "4         920               420        763     631              2734\n",
       "5          15                87        234      34               370"
      ]
     },
     "execution_count": 30,
     "metadata": {},
     "output_type": "execute_result"
    }
   ],
   "source": [
    "df"
   ]
  },
  {
   "cell_type": "markdown",
   "metadata": {},
   "source": [
    "Talvez eu tenha feito coisas que vocês nunca tenham visto mas eu vou tentar explicar, antes de partir para o método que aplica a função que vou criar.<br><br>\n",
    "Primeiramente, caso queiram criar uma nova coluna no vosso DataFrame, pode fazê-lo exatamente como eu fiz: `df[\"Nome da Coluna\"]`<br>\n",
    "No caso para preencher essa nova coluna eu fiz o somatório de valores por linha, e é por isso que coloquei: `axis=1`<br><br>\n",
    "Deixem-me explicar o que esse tal de axis significa.<br><br>\n",
    "\n",
    "Na imagem abaixo eu mostro o que é: `axis = 0` - que nada mais é que as linhas nossa tabela."
   ]
  },
  {
   "cell_type": "markdown",
   "metadata": {},
   "source": [
    "<img src=\"img/axis=0.png\"/>"
   ]
  },
  {
   "cell_type": "markdown",
   "metadata": {},
   "source": [
    "Então o nosso: `axis = 1` - deve ser as colunas, certo? Certo, são realmente as colunas.<br>\n",
    "<img src=\"img/axis=1.png\"/>"
   ]
  },
  {
   "cell_type": "markdown",
   "metadata": {},
   "source": [
    "*- Mas então porque escreveste axis=1 no somatório lá de cima?? Não deveria ser axis=0??*<br><br>\n",
    "Essa é uma dúvida que eu tive por muito tempo e ainda hoje me confundo, mas eu usei uma lógica que me ajuda a não me confundir tanto.<br><br>\n",
    "Pensemos, temos 6 alunos (que são as nossas linhas) e nós queremos somar os valores de cada coluna. Se passássemos: `axis=0` - nós estaríamos a dizer: \"Vai linha por linha e soma cada valor com o seu correspondente\" - ou seja, vai na linha 1, 2, 3, 4, 5 e 6 e soma os valores da coluna 1, depois faz o mesmo para a 2 e assim vai ...<br><br>\n",
    "Se passarmos o nosso: `axis = 1` - Estaremos  a dizer: \"Eu quero somar as colunas, portanto vamos linha por linha e somamos todos os valores de cada coluna\"<br><br>\n",
    "Se isto ainda não fizer sentido, deixem-me tentar outra forma:<br>\n",
    "* axis = 0 -> \"Olha, quero somar as linhas, mas as colunas não têm nada a ver com o assunto então NÃO AS JUNTES, só queremos juntar linhas\"\n",
    "* axis = 1 -> \"Olha, soma-me as colunas mas as linhas não têm culpa portanto não as mistures é só as colunas mesmo.\"\n",
    "\n",
    "Se ainda assim estão confusos, deixo-vos imagens"
   ]
  },
  {
   "cell_type": "markdown",
   "metadata": {},
   "source": [
    "axis = 0 <br>\n",
    "<img src=\"img/axis=0-2.png\"/>"
   ]
  },
  {
   "cell_type": "markdown",
   "metadata": {},
   "source": [
    "axis = 1 <br>\n",
    "<img src=\"img/axis=1-2.png\"/>"
   ]
  },
  {
   "cell_type": "markdown",
   "metadata": {},
   "source": [
    "E se continuam sem entender muito bem, é normal isto acaba por ser confuso mesmo, como eu disse eu continuo confundindo-me várias vezes."
   ]
  },
  {
   "cell_type": "markdown",
   "metadata": {},
   "source": [
    "Agora que já expliquei o que fiz, vou criar a função, e como disse estes minutos passam \"ligeiramente\" dos limites, coisa pouca, já que o aluno mais estudioso, estuda 2734 minutos por dia (2734 mins = 45.6 horas). Portanto assumimos que eles vivem num mundo onde 1 dia = 72 horas.<br><br>\n",
    "Vou criar uma função em que quem estuda menos de 800 minutos fica classificado como \"pouco\", entre 801 e 1700 fica \"mediano\" e mais que isso fica \"muito\"."
   ]
  },
  {
   "cell_type": "code",
   "execution_count": 31,
   "metadata": {},
   "outputs": [],
   "source": [
    "def studyClass(x):\n",
    "    if x <= 800:\n",
    "        return \"Pouco\"\n",
    "    elif x > 1700:\n",
    "        return \"Muito\"\n",
    "    \n",
    "    return \"Mediano\""
   ]
  },
  {
   "cell_type": "markdown",
   "metadata": {},
   "source": [
    "Mudei um pouco a lógica só para não ter que criar muitas condições, mas o resultado será o mesmo.<br><br>\n",
    "Agora podemos usar o método `apply()`, no caso só queremos usar os valores da nossa nova coluna \"Total de Minutos\", logo não usaremos o dataframe todo, como verão já de seguida."
   ]
  },
  {
   "cell_type": "code",
   "execution_count": 32,
   "metadata": {},
   "outputs": [
    {
     "data": {
      "text/plain": [
       "0      Pouco\n",
       "1    Mediano\n",
       "2      Pouco\n",
       "3    Mediano\n",
       "4      Muito\n",
       "5      Pouco\n",
       "Name: Total de Minutos, dtype: object"
      ]
     },
     "execution_count": 32,
     "metadata": {},
     "output_type": "execute_result"
    }
   ],
   "source": [
    "df[\"Total de Minutos\"].apply(studyClass)"
   ]
  },
  {
   "cell_type": "markdown",
   "metadata": {},
   "source": [
    "E parece que já temos classificações! No entanto não criámos nenhuma coluna para elas, vamos criar!"
   ]
  },
  {
   "cell_type": "code",
   "execution_count": 33,
   "metadata": {},
   "outputs": [
    {
     "data": {
      "text/html": [
       "<div>\n",
       "<style scoped>\n",
       "    .dataframe tbody tr th:only-of-type {\n",
       "        vertical-align: middle;\n",
       "    }\n",
       "\n",
       "    .dataframe tbody tr th {\n",
       "        vertical-align: top;\n",
       "    }\n",
       "\n",
       "    .dataframe thead th {\n",
       "        text-align: right;\n",
       "    }\n",
       "</style>\n",
       "<table border=\"1\" class=\"dataframe\">\n",
       "  <thead>\n",
       "    <tr style=\"text-align: right;\">\n",
       "      <th></th>\n",
       "      <th>Matemática</th>\n",
       "      <th>Física e Química</th>\n",
       "      <th>Português</th>\n",
       "      <th>Inglês</th>\n",
       "      <th>Total de Minutos</th>\n",
       "      <th>Estuda</th>\n",
       "    </tr>\n",
       "  </thead>\n",
       "  <tbody>\n",
       "    <tr>\n",
       "      <th>0</th>\n",
       "      <td>90</td>\n",
       "      <td>70</td>\n",
       "      <td>610</td>\n",
       "      <td>12</td>\n",
       "      <td>782</td>\n",
       "      <td>Pouco</td>\n",
       "    </tr>\n",
       "    <tr>\n",
       "      <th>1</th>\n",
       "      <td>180</td>\n",
       "      <td>120</td>\n",
       "      <td>10</td>\n",
       "      <td>812</td>\n",
       "      <td>1122</td>\n",
       "      <td>Mediano</td>\n",
       "    </tr>\n",
       "    <tr>\n",
       "      <th>2</th>\n",
       "      <td>45</td>\n",
       "      <td>160</td>\n",
       "      <td>32</td>\n",
       "      <td>123</td>\n",
       "      <td>360</td>\n",
       "      <td>Pouco</td>\n",
       "    </tr>\n",
       "    <tr>\n",
       "      <th>3</th>\n",
       "      <td>360</td>\n",
       "      <td>360</td>\n",
       "      <td>531</td>\n",
       "      <td>321</td>\n",
       "      <td>1572</td>\n",
       "      <td>Mediano</td>\n",
       "    </tr>\n",
       "    <tr>\n",
       "      <th>4</th>\n",
       "      <td>920</td>\n",
       "      <td>420</td>\n",
       "      <td>763</td>\n",
       "      <td>631</td>\n",
       "      <td>2734</td>\n",
       "      <td>Muito</td>\n",
       "    </tr>\n",
       "    <tr>\n",
       "      <th>5</th>\n",
       "      <td>15</td>\n",
       "      <td>87</td>\n",
       "      <td>234</td>\n",
       "      <td>34</td>\n",
       "      <td>370</td>\n",
       "      <td>Pouco</td>\n",
       "    </tr>\n",
       "  </tbody>\n",
       "</table>\n",
       "</div>"
      ],
      "text/plain": [
       "   Matemática  Física e Química  Português  Inglês  Total de Minutos   Estuda\n",
       "0          90                70        610      12               782    Pouco\n",
       "1         180               120         10     812              1122  Mediano\n",
       "2          45               160         32     123               360    Pouco\n",
       "3         360               360        531     321              1572  Mediano\n",
       "4         920               420        763     631              2734    Muito\n",
       "5          15                87        234      34               370    Pouco"
      ]
     },
     "execution_count": 33,
     "metadata": {},
     "output_type": "execute_result"
    }
   ],
   "source": [
    "df[\"Estuda\"] = df[\"Total de Minutos\"].apply(studyClass)\n",
    "\n",
    "df"
   ]
  },
  {
   "cell_type": "markdown",
   "metadata": {},
   "source": [
    "Feito! E pelo que parece estão classificados com base nas condições que tinha definido anteriormente."
   ]
  },
  {
   "cell_type": "markdown",
   "metadata": {},
   "source": [
    "## Agrupar\n",
    "\n",
    "Por vezes é útil podermos agrupar os dados pelos os valores de uma certa coluna e assim aplicarmos algumas operações neles.<br>\n",
    "Por exemplo vou agrupar os alunos pela classificação de estudo que criámos. A partir daí, vou calcular a média de minutos estudados e os desvio-padrão (pensem em desvio-padrão, como uma forma de ver o quanto um certo conjunto de dados varia da média).<br>\n",
    "O método para agrupar chama-se: `groupby` - e devemos passar a coluna pela qual queremos agrupar, convém ter valores repetidos, caso contrário se forem todos valores únicos não faz sentido agrupar."
   ]
  },
  {
   "cell_type": "code",
   "execution_count": 34,
   "metadata": {},
   "outputs": [],
   "source": [
    "group = df.drop(\"Total de Minutos\", axis=1).groupby(\"Estuda\")"
   ]
  },
  {
   "cell_type": "markdown",
   "metadata": {},
   "source": [
    "Ok, eu sei que ainda não ensinei o que é o drop, mas vou explicar agora.<br><br>\n",
    "O método `drop` permite-nos remover linhas e/ou colunas. Neste caso removemos a coluna \"Total de Minutos\", porque passámos o `axis=1`.<br><br>\n",
    "**Nota**: A coluna não foi eliminada do nosso DataFrame (df), para isso teriamos que fazer: `df = df.drop(\"Total de Minutos\", axis=1)`<br><br>\n",
    "No caso foi removida a coluna e o dataframe passado para o groupby foi o dataframe sem essa coluna, que é o que nós queremos, pois não faz sentido aplicar a média nem o desvio padrão nessa coluna."
   ]
  },
  {
   "cell_type": "code",
   "execution_count": 35,
   "metadata": {},
   "outputs": [
    {
     "data": {
      "text/html": [
       "<div>\n",
       "<style scoped>\n",
       "    .dataframe tbody tr th:only-of-type {\n",
       "        vertical-align: middle;\n",
       "    }\n",
       "\n",
       "    .dataframe tbody tr th {\n",
       "        vertical-align: top;\n",
       "    }\n",
       "\n",
       "    .dataframe thead th {\n",
       "        text-align: right;\n",
       "    }\n",
       "</style>\n",
       "<table border=\"1\" class=\"dataframe\">\n",
       "  <thead>\n",
       "    <tr style=\"text-align: right;\">\n",
       "      <th></th>\n",
       "      <th>Matemática</th>\n",
       "      <th>Física e Química</th>\n",
       "      <th>Português</th>\n",
       "      <th>Inglês</th>\n",
       "    </tr>\n",
       "    <tr>\n",
       "      <th>Estuda</th>\n",
       "      <th></th>\n",
       "      <th></th>\n",
       "      <th></th>\n",
       "      <th></th>\n",
       "    </tr>\n",
       "  </thead>\n",
       "  <tbody>\n",
       "    <tr>\n",
       "      <th>Mediano</th>\n",
       "      <td>270.0</td>\n",
       "      <td>240.000000</td>\n",
       "      <td>270.5</td>\n",
       "      <td>566.500000</td>\n",
       "    </tr>\n",
       "    <tr>\n",
       "      <th>Muito</th>\n",
       "      <td>920.0</td>\n",
       "      <td>420.000000</td>\n",
       "      <td>763.0</td>\n",
       "      <td>631.000000</td>\n",
       "    </tr>\n",
       "    <tr>\n",
       "      <th>Pouco</th>\n",
       "      <td>50.0</td>\n",
       "      <td>105.666667</td>\n",
       "      <td>292.0</td>\n",
       "      <td>56.333333</td>\n",
       "    </tr>\n",
       "  </tbody>\n",
       "</table>\n",
       "</div>"
      ],
      "text/plain": [
       "         Matemática  Física e Química  Português      Inglês\n",
       "Estuda                                                      \n",
       "Mediano       270.0        240.000000      270.5  566.500000\n",
       "Muito         920.0        420.000000      763.0  631.000000\n",
       "Pouco          50.0        105.666667      292.0   56.333333"
      ]
     },
     "execution_count": 35,
     "metadata": {},
     "output_type": "execute_result"
    }
   ],
   "source": [
    "# Média que cada classe de estudo, estuda por \"dia\"\n",
    "group.mean()"
   ]
  },
  {
   "cell_type": "code",
   "execution_count": 36,
   "metadata": {},
   "outputs": [
    {
     "data": {
      "text/html": [
       "<div>\n",
       "<style scoped>\n",
       "    .dataframe tbody tr th:only-of-type {\n",
       "        vertical-align: middle;\n",
       "    }\n",
       "\n",
       "    .dataframe tbody tr th {\n",
       "        vertical-align: top;\n",
       "    }\n",
       "\n",
       "    .dataframe thead th {\n",
       "        text-align: right;\n",
       "    }\n",
       "</style>\n",
       "<table border=\"1\" class=\"dataframe\">\n",
       "  <thead>\n",
       "    <tr style=\"text-align: right;\">\n",
       "      <th></th>\n",
       "      <th>Matemática</th>\n",
       "      <th>Física e Química</th>\n",
       "      <th>Português</th>\n",
       "      <th>Inglês</th>\n",
       "    </tr>\n",
       "    <tr>\n",
       "      <th>Estuda</th>\n",
       "      <th></th>\n",
       "      <th></th>\n",
       "      <th></th>\n",
       "      <th></th>\n",
       "    </tr>\n",
       "  </thead>\n",
       "  <tbody>\n",
       "    <tr>\n",
       "      <th>Mediano</th>\n",
       "      <td>90.00000</td>\n",
       "      <td>120.000000</td>\n",
       "      <td>260.500000</td>\n",
       "      <td>245.500000</td>\n",
       "    </tr>\n",
       "    <tr>\n",
       "      <th>Muito</th>\n",
       "      <td>0.00000</td>\n",
       "      <td>0.000000</td>\n",
       "      <td>0.000000</td>\n",
       "      <td>0.000000</td>\n",
       "    </tr>\n",
       "    <tr>\n",
       "      <th>Pouco</th>\n",
       "      <td>30.82207</td>\n",
       "      <td>39.041289</td>\n",
       "      <td>239.505045</td>\n",
       "      <td>47.988425</td>\n",
       "    </tr>\n",
       "  </tbody>\n",
       "</table>\n",
       "</div>"
      ],
      "text/plain": [
       "         Matemática  Física e Química   Português      Inglês\n",
       "Estuda                                                       \n",
       "Mediano    90.00000        120.000000  260.500000  245.500000\n",
       "Muito       0.00000          0.000000    0.000000    0.000000\n",
       "Pouco      30.82207         39.041289  239.505045   47.988425"
      ]
     },
     "execution_count": 36,
     "metadata": {},
     "output_type": "execute_result"
    }
   ],
   "source": [
    "# Desvio-padrão\n",
    "group.std(ddof=0)"
   ]
  },
  {
   "cell_type": "markdown",
   "metadata": {},
   "source": [
    "Aqui já aprendemos que `mean` calcula a média e `std` o desvio-padrão. No entanto, acabei por definir `ddof` como 0, esse parâmetro define os graus de liberdade (se quiserem saber o que é graus de liberdade cliquem <a href=\"https://pt.wikipedia.org/wiki/Graus_de_liberdade\">aqui</a>. Fi-lo porque o desvio-padrão da classe \"Muito\" estava a retornar NaN (Not a Number, que em português siginifica algo como \"Não é um Número\", no caso é como se fosse um NULL)."
   ]
  },
  {
   "cell_type": "markdown",
   "metadata": {},
   "source": [
    "## Set_index\n",
    "\n",
    "Bem nós podemos substituir os índices automáticos das nossas linhas, por os valores de uma coluna."
   ]
  },
  {
   "cell_type": "code",
   "execution_count": 38,
   "metadata": {},
   "outputs": [
    {
     "data": {
      "text/html": [
       "<div>\n",
       "<style scoped>\n",
       "    .dataframe tbody tr th:only-of-type {\n",
       "        vertical-align: middle;\n",
       "    }\n",
       "\n",
       "    .dataframe tbody tr th {\n",
       "        vertical-align: top;\n",
       "    }\n",
       "\n",
       "    .dataframe thead th {\n",
       "        text-align: right;\n",
       "    }\n",
       "</style>\n",
       "<table border=\"1\" class=\"dataframe\">\n",
       "  <thead>\n",
       "    <tr style=\"text-align: right;\">\n",
       "      <th></th>\n",
       "      <th>Matemática</th>\n",
       "      <th>Física e Química</th>\n",
       "      <th>Português</th>\n",
       "      <th>Inglês</th>\n",
       "      <th>Total de Minutos</th>\n",
       "    </tr>\n",
       "    <tr>\n",
       "      <th>Estuda</th>\n",
       "      <th></th>\n",
       "      <th></th>\n",
       "      <th></th>\n",
       "      <th></th>\n",
       "      <th></th>\n",
       "    </tr>\n",
       "  </thead>\n",
       "  <tbody>\n",
       "    <tr>\n",
       "      <th>Pouco</th>\n",
       "      <td>90</td>\n",
       "      <td>70</td>\n",
       "      <td>610</td>\n",
       "      <td>12</td>\n",
       "      <td>782</td>\n",
       "    </tr>\n",
       "    <tr>\n",
       "      <th>Mediano</th>\n",
       "      <td>180</td>\n",
       "      <td>120</td>\n",
       "      <td>10</td>\n",
       "      <td>812</td>\n",
       "      <td>1122</td>\n",
       "    </tr>\n",
       "    <tr>\n",
       "      <th>Pouco</th>\n",
       "      <td>45</td>\n",
       "      <td>160</td>\n",
       "      <td>32</td>\n",
       "      <td>123</td>\n",
       "      <td>360</td>\n",
       "    </tr>\n",
       "    <tr>\n",
       "      <th>Mediano</th>\n",
       "      <td>360</td>\n",
       "      <td>360</td>\n",
       "      <td>531</td>\n",
       "      <td>321</td>\n",
       "      <td>1572</td>\n",
       "    </tr>\n",
       "    <tr>\n",
       "      <th>Muito</th>\n",
       "      <td>920</td>\n",
       "      <td>420</td>\n",
       "      <td>763</td>\n",
       "      <td>631</td>\n",
       "      <td>2734</td>\n",
       "    </tr>\n",
       "    <tr>\n",
       "      <th>Pouco</th>\n",
       "      <td>15</td>\n",
       "      <td>87</td>\n",
       "      <td>234</td>\n",
       "      <td>34</td>\n",
       "      <td>370</td>\n",
       "    </tr>\n",
       "  </tbody>\n",
       "</table>\n",
       "</div>"
      ],
      "text/plain": [
       "         Matemática  Física e Química  Português  Inglês  Total de Minutos\n",
       "Estuda                                                                    \n",
       "Pouco            90                70        610      12               782\n",
       "Mediano         180               120         10     812              1122\n",
       "Pouco            45               160         32     123               360\n",
       "Mediano         360               360        531     321              1572\n",
       "Muito           920               420        763     631              2734\n",
       "Pouco            15                87        234      34               370"
      ]
     },
     "execution_count": 38,
     "metadata": {},
     "output_type": "execute_result"
    }
   ],
   "source": [
    "df.set_index(\"Estuda\")"
   ]
  },
  {
   "cell_type": "markdown",
   "metadata": {},
   "source": [
    "Neste caso não ajudou muito, mas como podemos observar os índices automáticos desapareceram e passaram a ser as classes de estudo, o índice de cada observação.<br>\n",
    "No entanto, estas alterações não foram aplicadas no nosso DataFrame, se eu mostrar ele agora estará com os índices automáticos"
   ]
  },
  {
   "cell_type": "code",
   "execution_count": 39,
   "metadata": {},
   "outputs": [
    {
     "data": {
      "text/html": [
       "<div>\n",
       "<style scoped>\n",
       "    .dataframe tbody tr th:only-of-type {\n",
       "        vertical-align: middle;\n",
       "    }\n",
       "\n",
       "    .dataframe tbody tr th {\n",
       "        vertical-align: top;\n",
       "    }\n",
       "\n",
       "    .dataframe thead th {\n",
       "        text-align: right;\n",
       "    }\n",
       "</style>\n",
       "<table border=\"1\" class=\"dataframe\">\n",
       "  <thead>\n",
       "    <tr style=\"text-align: right;\">\n",
       "      <th></th>\n",
       "      <th>Matemática</th>\n",
       "      <th>Física e Química</th>\n",
       "      <th>Português</th>\n",
       "      <th>Inglês</th>\n",
       "      <th>Total de Minutos</th>\n",
       "      <th>Estuda</th>\n",
       "    </tr>\n",
       "  </thead>\n",
       "  <tbody>\n",
       "    <tr>\n",
       "      <th>0</th>\n",
       "      <td>90</td>\n",
       "      <td>70</td>\n",
       "      <td>610</td>\n",
       "      <td>12</td>\n",
       "      <td>782</td>\n",
       "      <td>Pouco</td>\n",
       "    </tr>\n",
       "    <tr>\n",
       "      <th>1</th>\n",
       "      <td>180</td>\n",
       "      <td>120</td>\n",
       "      <td>10</td>\n",
       "      <td>812</td>\n",
       "      <td>1122</td>\n",
       "      <td>Mediano</td>\n",
       "    </tr>\n",
       "    <tr>\n",
       "      <th>2</th>\n",
       "      <td>45</td>\n",
       "      <td>160</td>\n",
       "      <td>32</td>\n",
       "      <td>123</td>\n",
       "      <td>360</td>\n",
       "      <td>Pouco</td>\n",
       "    </tr>\n",
       "    <tr>\n",
       "      <th>3</th>\n",
       "      <td>360</td>\n",
       "      <td>360</td>\n",
       "      <td>531</td>\n",
       "      <td>321</td>\n",
       "      <td>1572</td>\n",
       "      <td>Mediano</td>\n",
       "    </tr>\n",
       "    <tr>\n",
       "      <th>4</th>\n",
       "      <td>920</td>\n",
       "      <td>420</td>\n",
       "      <td>763</td>\n",
       "      <td>631</td>\n",
       "      <td>2734</td>\n",
       "      <td>Muito</td>\n",
       "    </tr>\n",
       "    <tr>\n",
       "      <th>5</th>\n",
       "      <td>15</td>\n",
       "      <td>87</td>\n",
       "      <td>234</td>\n",
       "      <td>34</td>\n",
       "      <td>370</td>\n",
       "      <td>Pouco</td>\n",
       "    </tr>\n",
       "  </tbody>\n",
       "</table>\n",
       "</div>"
      ],
      "text/plain": [
       "   Matemática  Física e Química  Português  Inglês  Total de Minutos   Estuda\n",
       "0          90                70        610      12               782    Pouco\n",
       "1         180               120         10     812              1122  Mediano\n",
       "2          45               160         32     123               360    Pouco\n",
       "3         360               360        531     321              1572  Mediano\n",
       "4         920               420        763     631              2734    Muito\n",
       "5          15                87        234      34               370    Pouco"
      ]
     },
     "execution_count": 39,
     "metadata": {},
     "output_type": "execute_result"
    }
   ],
   "source": [
    "df"
   ]
  },
  {
   "cell_type": "markdown",
   "metadata": {},
   "source": [
    "Para a alteração ficar permanente no DataFrame precisamos fazer:<br>\n",
    "* `df = df.set_index(\"Estuda\")`<br>\n",
    "OU\n",
    "* `df.set_index(\"Estuda\", inplace=True)`"
   ]
  },
  {
   "cell_type": "markdown",
   "metadata": {},
   "source": [
    "## Concatenar DataFrames\n",
    "\n",
    "Por vezes pode ser útil concatenar DataFrames, o que é possível utilizando o método: `concat`.<br>\n",
    "Primeiramente vamos tentar com DataFrames com o mesmo número de linhas mas com colunas diferentes."
   ]
  },
  {
   "cell_type": "code",
   "execution_count": 50,
   "metadata": {},
   "outputs": [],
   "source": [
    "# Trocar apenas o nome das disciplinas\n",
    "dicionario = {\n",
    "    \"Biologia\": [90, 180, 45, 360, 920, 15],\n",
    "    \"História das Artes\": [70, 120, 160, 360, 420, 87],\n",
    "    \"Geometria\": [610, 10, 32, 531,763, 234],\n",
    "    \"Literatura\": [12, 812, 123, 321, 631, 34]\n",
    "}\n",
    "\n",
    "# Criar um novo dataframe com o novo dicionário\n",
    "df2 = pd.DataFrame(dicionario)"
   ]
  },
  {
   "cell_type": "code",
   "execution_count": 51,
   "metadata": {},
   "outputs": [
    {
     "data": {
      "text/html": [
       "<div>\n",
       "<style scoped>\n",
       "    .dataframe tbody tr th:only-of-type {\n",
       "        vertical-align: middle;\n",
       "    }\n",
       "\n",
       "    .dataframe tbody tr th {\n",
       "        vertical-align: top;\n",
       "    }\n",
       "\n",
       "    .dataframe thead th {\n",
       "        text-align: right;\n",
       "    }\n",
       "</style>\n",
       "<table border=\"1\" class=\"dataframe\">\n",
       "  <thead>\n",
       "    <tr style=\"text-align: right;\">\n",
       "      <th></th>\n",
       "      <th>Matemática</th>\n",
       "      <th>Física e Química</th>\n",
       "      <th>Português</th>\n",
       "      <th>Inglês</th>\n",
       "      <th>Total de Minutos</th>\n",
       "      <th>Estuda</th>\n",
       "      <th>Biologia</th>\n",
       "      <th>História das Artes</th>\n",
       "      <th>Geometria</th>\n",
       "      <th>Literatura</th>\n",
       "    </tr>\n",
       "  </thead>\n",
       "  <tbody>\n",
       "    <tr>\n",
       "      <th>0</th>\n",
       "      <td>90.0</td>\n",
       "      <td>70.0</td>\n",
       "      <td>610.0</td>\n",
       "      <td>12.0</td>\n",
       "      <td>782.0</td>\n",
       "      <td>Pouco</td>\n",
       "      <td>NaN</td>\n",
       "      <td>NaN</td>\n",
       "      <td>NaN</td>\n",
       "      <td>NaN</td>\n",
       "    </tr>\n",
       "    <tr>\n",
       "      <th>1</th>\n",
       "      <td>180.0</td>\n",
       "      <td>120.0</td>\n",
       "      <td>10.0</td>\n",
       "      <td>812.0</td>\n",
       "      <td>1122.0</td>\n",
       "      <td>Mediano</td>\n",
       "      <td>NaN</td>\n",
       "      <td>NaN</td>\n",
       "      <td>NaN</td>\n",
       "      <td>NaN</td>\n",
       "    </tr>\n",
       "    <tr>\n",
       "      <th>2</th>\n",
       "      <td>45.0</td>\n",
       "      <td>160.0</td>\n",
       "      <td>32.0</td>\n",
       "      <td>123.0</td>\n",
       "      <td>360.0</td>\n",
       "      <td>Pouco</td>\n",
       "      <td>NaN</td>\n",
       "      <td>NaN</td>\n",
       "      <td>NaN</td>\n",
       "      <td>NaN</td>\n",
       "    </tr>\n",
       "    <tr>\n",
       "      <th>3</th>\n",
       "      <td>360.0</td>\n",
       "      <td>360.0</td>\n",
       "      <td>531.0</td>\n",
       "      <td>321.0</td>\n",
       "      <td>1572.0</td>\n",
       "      <td>Mediano</td>\n",
       "      <td>NaN</td>\n",
       "      <td>NaN</td>\n",
       "      <td>NaN</td>\n",
       "      <td>NaN</td>\n",
       "    </tr>\n",
       "    <tr>\n",
       "      <th>4</th>\n",
       "      <td>920.0</td>\n",
       "      <td>420.0</td>\n",
       "      <td>763.0</td>\n",
       "      <td>631.0</td>\n",
       "      <td>2734.0</td>\n",
       "      <td>Muito</td>\n",
       "      <td>NaN</td>\n",
       "      <td>NaN</td>\n",
       "      <td>NaN</td>\n",
       "      <td>NaN</td>\n",
       "    </tr>\n",
       "    <tr>\n",
       "      <th>5</th>\n",
       "      <td>15.0</td>\n",
       "      <td>87.0</td>\n",
       "      <td>234.0</td>\n",
       "      <td>34.0</td>\n",
       "      <td>370.0</td>\n",
       "      <td>Pouco</td>\n",
       "      <td>NaN</td>\n",
       "      <td>NaN</td>\n",
       "      <td>NaN</td>\n",
       "      <td>NaN</td>\n",
       "    </tr>\n",
       "    <tr>\n",
       "      <th>0</th>\n",
       "      <td>NaN</td>\n",
       "      <td>NaN</td>\n",
       "      <td>NaN</td>\n",
       "      <td>NaN</td>\n",
       "      <td>NaN</td>\n",
       "      <td>NaN</td>\n",
       "      <td>90.0</td>\n",
       "      <td>70.0</td>\n",
       "      <td>610.0</td>\n",
       "      <td>12.0</td>\n",
       "    </tr>\n",
       "    <tr>\n",
       "      <th>1</th>\n",
       "      <td>NaN</td>\n",
       "      <td>NaN</td>\n",
       "      <td>NaN</td>\n",
       "      <td>NaN</td>\n",
       "      <td>NaN</td>\n",
       "      <td>NaN</td>\n",
       "      <td>180.0</td>\n",
       "      <td>120.0</td>\n",
       "      <td>10.0</td>\n",
       "      <td>812.0</td>\n",
       "    </tr>\n",
       "    <tr>\n",
       "      <th>2</th>\n",
       "      <td>NaN</td>\n",
       "      <td>NaN</td>\n",
       "      <td>NaN</td>\n",
       "      <td>NaN</td>\n",
       "      <td>NaN</td>\n",
       "      <td>NaN</td>\n",
       "      <td>45.0</td>\n",
       "      <td>160.0</td>\n",
       "      <td>32.0</td>\n",
       "      <td>123.0</td>\n",
       "    </tr>\n",
       "    <tr>\n",
       "      <th>3</th>\n",
       "      <td>NaN</td>\n",
       "      <td>NaN</td>\n",
       "      <td>NaN</td>\n",
       "      <td>NaN</td>\n",
       "      <td>NaN</td>\n",
       "      <td>NaN</td>\n",
       "      <td>360.0</td>\n",
       "      <td>360.0</td>\n",
       "      <td>531.0</td>\n",
       "      <td>321.0</td>\n",
       "    </tr>\n",
       "    <tr>\n",
       "      <th>4</th>\n",
       "      <td>NaN</td>\n",
       "      <td>NaN</td>\n",
       "      <td>NaN</td>\n",
       "      <td>NaN</td>\n",
       "      <td>NaN</td>\n",
       "      <td>NaN</td>\n",
       "      <td>920.0</td>\n",
       "      <td>420.0</td>\n",
       "      <td>763.0</td>\n",
       "      <td>631.0</td>\n",
       "    </tr>\n",
       "    <tr>\n",
       "      <th>5</th>\n",
       "      <td>NaN</td>\n",
       "      <td>NaN</td>\n",
       "      <td>NaN</td>\n",
       "      <td>NaN</td>\n",
       "      <td>NaN</td>\n",
       "      <td>NaN</td>\n",
       "      <td>15.0</td>\n",
       "      <td>87.0</td>\n",
       "      <td>234.0</td>\n",
       "      <td>34.0</td>\n",
       "    </tr>\n",
       "  </tbody>\n",
       "</table>\n",
       "</div>"
      ],
      "text/plain": [
       "   Matemática  Física e Química  Português  Inglês  Total de Minutos   Estuda  \\\n",
       "0        90.0              70.0      610.0    12.0             782.0    Pouco   \n",
       "1       180.0             120.0       10.0   812.0            1122.0  Mediano   \n",
       "2        45.0             160.0       32.0   123.0             360.0    Pouco   \n",
       "3       360.0             360.0      531.0   321.0            1572.0  Mediano   \n",
       "4       920.0             420.0      763.0   631.0            2734.0    Muito   \n",
       "5        15.0              87.0      234.0    34.0             370.0    Pouco   \n",
       "0         NaN               NaN        NaN     NaN               NaN      NaN   \n",
       "1         NaN               NaN        NaN     NaN               NaN      NaN   \n",
       "2         NaN               NaN        NaN     NaN               NaN      NaN   \n",
       "3         NaN               NaN        NaN     NaN               NaN      NaN   \n",
       "4         NaN               NaN        NaN     NaN               NaN      NaN   \n",
       "5         NaN               NaN        NaN     NaN               NaN      NaN   \n",
       "\n",
       "   Biologia  História das Artes  Geometria  Literatura  \n",
       "0       NaN                 NaN        NaN         NaN  \n",
       "1       NaN                 NaN        NaN         NaN  \n",
       "2       NaN                 NaN        NaN         NaN  \n",
       "3       NaN                 NaN        NaN         NaN  \n",
       "4       NaN                 NaN        NaN         NaN  \n",
       "5       NaN                 NaN        NaN         NaN  \n",
       "0      90.0                70.0      610.0        12.0  \n",
       "1     180.0               120.0       10.0       812.0  \n",
       "2      45.0               160.0       32.0       123.0  \n",
       "3     360.0               360.0      531.0       321.0  \n",
       "4     920.0               420.0      763.0       631.0  \n",
       "5      15.0                87.0      234.0        34.0  "
      ]
     },
     "execution_count": 51,
     "metadata": {},
     "output_type": "execute_result"
    }
   ],
   "source": [
    "# Agora vamos concatená-los\n",
    "df_concat = pd.concat([df, df2])\n",
    "\n",
    "df_concat"
   ]
  },
  {
   "cell_type": "markdown",
   "metadata": {},
   "source": [
    "Não deu muito certo no caso, o que ele fez foi colocar o df2 logo abaixo do df, ou seja, há várias linhas e colunas que não existem para o df, e acontece o mesmo para o df2. Onde não há valor para uma dada linha e/ou coluna, fica com \"NaN\".\n",
    "<br><br>\n",
    "Vamos agora usar exatamente o mesmo dicionário e criar 2 DataFrames e assim vamos tentar concatená-los."
   ]
  },
  {
   "cell_type": "code",
   "execution_count": 57,
   "metadata": {},
   "outputs": [],
   "source": [
    "dicionario = {\n",
    "    \"Matemática\": [90, 180, 45, 360, 920, 15],\n",
    "    \"Física e Química\": [70, 120, 160, 360, 420, 87],\n",
    "    \"Português\": [610, 10, 32, 531,763, 234],\n",
    "    \"Inglês\": [12, 812, 123, 321, 631, 34]\n",
    "}\n",
    "\n",
    "df2 = pd.DataFrame(dicionario)\n",
    "\n",
    "df_concat = pd.concat([df, df2])"
   ]
  },
  {
   "cell_type": "code",
   "execution_count": 58,
   "metadata": {},
   "outputs": [
    {
     "data": {
      "text/html": [
       "<div>\n",
       "<style scoped>\n",
       "    .dataframe tbody tr th:only-of-type {\n",
       "        vertical-align: middle;\n",
       "    }\n",
       "\n",
       "    .dataframe tbody tr th {\n",
       "        vertical-align: top;\n",
       "    }\n",
       "\n",
       "    .dataframe thead th {\n",
       "        text-align: right;\n",
       "    }\n",
       "</style>\n",
       "<table border=\"1\" class=\"dataframe\">\n",
       "  <thead>\n",
       "    <tr style=\"text-align: right;\">\n",
       "      <th></th>\n",
       "      <th>Matemática</th>\n",
       "      <th>Física e Química</th>\n",
       "      <th>Português</th>\n",
       "      <th>Inglês</th>\n",
       "      <th>Total de Minutos</th>\n",
       "      <th>Estuda</th>\n",
       "    </tr>\n",
       "  </thead>\n",
       "  <tbody>\n",
       "    <tr>\n",
       "      <th>0</th>\n",
       "      <td>90</td>\n",
       "      <td>70</td>\n",
       "      <td>610</td>\n",
       "      <td>12</td>\n",
       "      <td>782.0</td>\n",
       "      <td>Pouco</td>\n",
       "    </tr>\n",
       "    <tr>\n",
       "      <th>1</th>\n",
       "      <td>180</td>\n",
       "      <td>120</td>\n",
       "      <td>10</td>\n",
       "      <td>812</td>\n",
       "      <td>1122.0</td>\n",
       "      <td>Mediano</td>\n",
       "    </tr>\n",
       "    <tr>\n",
       "      <th>2</th>\n",
       "      <td>45</td>\n",
       "      <td>160</td>\n",
       "      <td>32</td>\n",
       "      <td>123</td>\n",
       "      <td>360.0</td>\n",
       "      <td>Pouco</td>\n",
       "    </tr>\n",
       "    <tr>\n",
       "      <th>3</th>\n",
       "      <td>360</td>\n",
       "      <td>360</td>\n",
       "      <td>531</td>\n",
       "      <td>321</td>\n",
       "      <td>1572.0</td>\n",
       "      <td>Mediano</td>\n",
       "    </tr>\n",
       "    <tr>\n",
       "      <th>4</th>\n",
       "      <td>920</td>\n",
       "      <td>420</td>\n",
       "      <td>763</td>\n",
       "      <td>631</td>\n",
       "      <td>2734.0</td>\n",
       "      <td>Muito</td>\n",
       "    </tr>\n",
       "    <tr>\n",
       "      <th>5</th>\n",
       "      <td>15</td>\n",
       "      <td>87</td>\n",
       "      <td>234</td>\n",
       "      <td>34</td>\n",
       "      <td>370.0</td>\n",
       "      <td>Pouco</td>\n",
       "    </tr>\n",
       "    <tr>\n",
       "      <th>0</th>\n",
       "      <td>90</td>\n",
       "      <td>70</td>\n",
       "      <td>610</td>\n",
       "      <td>12</td>\n",
       "      <td>NaN</td>\n",
       "      <td>NaN</td>\n",
       "    </tr>\n",
       "    <tr>\n",
       "      <th>1</th>\n",
       "      <td>180</td>\n",
       "      <td>120</td>\n",
       "      <td>10</td>\n",
       "      <td>812</td>\n",
       "      <td>NaN</td>\n",
       "      <td>NaN</td>\n",
       "    </tr>\n",
       "    <tr>\n",
       "      <th>2</th>\n",
       "      <td>45</td>\n",
       "      <td>160</td>\n",
       "      <td>32</td>\n",
       "      <td>123</td>\n",
       "      <td>NaN</td>\n",
       "      <td>NaN</td>\n",
       "    </tr>\n",
       "    <tr>\n",
       "      <th>3</th>\n",
       "      <td>360</td>\n",
       "      <td>360</td>\n",
       "      <td>531</td>\n",
       "      <td>321</td>\n",
       "      <td>NaN</td>\n",
       "      <td>NaN</td>\n",
       "    </tr>\n",
       "    <tr>\n",
       "      <th>4</th>\n",
       "      <td>920</td>\n",
       "      <td>420</td>\n",
       "      <td>763</td>\n",
       "      <td>631</td>\n",
       "      <td>NaN</td>\n",
       "      <td>NaN</td>\n",
       "    </tr>\n",
       "    <tr>\n",
       "      <th>5</th>\n",
       "      <td>15</td>\n",
       "      <td>87</td>\n",
       "      <td>234</td>\n",
       "      <td>34</td>\n",
       "      <td>NaN</td>\n",
       "      <td>NaN</td>\n",
       "    </tr>\n",
       "  </tbody>\n",
       "</table>\n",
       "</div>"
      ],
      "text/plain": [
       "   Matemática  Física e Química  Português  Inglês  Total de Minutos   Estuda\n",
       "0          90                70        610      12             782.0    Pouco\n",
       "1         180               120         10     812            1122.0  Mediano\n",
       "2          45               160         32     123             360.0    Pouco\n",
       "3         360               360        531     321            1572.0  Mediano\n",
       "4         920               420        763     631            2734.0    Muito\n",
       "5          15                87        234      34             370.0    Pouco\n",
       "0          90                70        610      12               NaN      NaN\n",
       "1         180               120         10     812               NaN      NaN\n",
       "2          45               160         32     123               NaN      NaN\n",
       "3         360               360        531     321               NaN      NaN\n",
       "4         920               420        763     631               NaN      NaN\n",
       "5          15                87        234      34               NaN      NaN"
      ]
     },
     "execution_count": 58,
     "metadata": {},
     "output_type": "execute_result"
    }
   ],
   "source": [
    "df_concat"
   ]
  },
  {
   "cell_type": "markdown",
   "metadata": {},
   "source": [
    "Bem este ficou melhor, apenas ficou NaN nas colunas onde ele não tem valores (pois eu não passei estas colunas no dicionário do 2º DataFrame)."
   ]
  },
  {
   "cell_type": "markdown",
   "metadata": {},
   "source": [
    "O método concat, por defeito, vem com: `axis=0` - por isso que o segundo DataFrame fica abaixo do 1º, vamos tentar novamente utilizar um DataFrame com colunas diferentes e com o mesmo número de linhas, mas vamos colocar: `axis=1`."
   ]
  },
  {
   "cell_type": "code",
   "execution_count": 60,
   "metadata": {},
   "outputs": [
    {
     "data": {
      "text/html": [
       "<div>\n",
       "<style scoped>\n",
       "    .dataframe tbody tr th:only-of-type {\n",
       "        vertical-align: middle;\n",
       "    }\n",
       "\n",
       "    .dataframe tbody tr th {\n",
       "        vertical-align: top;\n",
       "    }\n",
       "\n",
       "    .dataframe thead th {\n",
       "        text-align: right;\n",
       "    }\n",
       "</style>\n",
       "<table border=\"1\" class=\"dataframe\">\n",
       "  <thead>\n",
       "    <tr style=\"text-align: right;\">\n",
       "      <th></th>\n",
       "      <th>Matemática</th>\n",
       "      <th>Física e Química</th>\n",
       "      <th>Português</th>\n",
       "      <th>Inglês</th>\n",
       "      <th>Total de Minutos</th>\n",
       "      <th>Estuda</th>\n",
       "      <th>Biologia</th>\n",
       "      <th>História das Artes</th>\n",
       "      <th>Geometria</th>\n",
       "      <th>Literatura</th>\n",
       "    </tr>\n",
       "  </thead>\n",
       "  <tbody>\n",
       "    <tr>\n",
       "      <th>0</th>\n",
       "      <td>90</td>\n",
       "      <td>70</td>\n",
       "      <td>610</td>\n",
       "      <td>12</td>\n",
       "      <td>782</td>\n",
       "      <td>Pouco</td>\n",
       "      <td>90</td>\n",
       "      <td>70</td>\n",
       "      <td>610</td>\n",
       "      <td>12</td>\n",
       "    </tr>\n",
       "    <tr>\n",
       "      <th>1</th>\n",
       "      <td>180</td>\n",
       "      <td>120</td>\n",
       "      <td>10</td>\n",
       "      <td>812</td>\n",
       "      <td>1122</td>\n",
       "      <td>Mediano</td>\n",
       "      <td>180</td>\n",
       "      <td>120</td>\n",
       "      <td>10</td>\n",
       "      <td>812</td>\n",
       "    </tr>\n",
       "    <tr>\n",
       "      <th>2</th>\n",
       "      <td>45</td>\n",
       "      <td>160</td>\n",
       "      <td>32</td>\n",
       "      <td>123</td>\n",
       "      <td>360</td>\n",
       "      <td>Pouco</td>\n",
       "      <td>45</td>\n",
       "      <td>160</td>\n",
       "      <td>32</td>\n",
       "      <td>123</td>\n",
       "    </tr>\n",
       "    <tr>\n",
       "      <th>3</th>\n",
       "      <td>360</td>\n",
       "      <td>360</td>\n",
       "      <td>531</td>\n",
       "      <td>321</td>\n",
       "      <td>1572</td>\n",
       "      <td>Mediano</td>\n",
       "      <td>360</td>\n",
       "      <td>360</td>\n",
       "      <td>531</td>\n",
       "      <td>321</td>\n",
       "    </tr>\n",
       "    <tr>\n",
       "      <th>4</th>\n",
       "      <td>920</td>\n",
       "      <td>420</td>\n",
       "      <td>763</td>\n",
       "      <td>631</td>\n",
       "      <td>2734</td>\n",
       "      <td>Muito</td>\n",
       "      <td>920</td>\n",
       "      <td>420</td>\n",
       "      <td>763</td>\n",
       "      <td>631</td>\n",
       "    </tr>\n",
       "    <tr>\n",
       "      <th>5</th>\n",
       "      <td>15</td>\n",
       "      <td>87</td>\n",
       "      <td>234</td>\n",
       "      <td>34</td>\n",
       "      <td>370</td>\n",
       "      <td>Pouco</td>\n",
       "      <td>15</td>\n",
       "      <td>87</td>\n",
       "      <td>234</td>\n",
       "      <td>34</td>\n",
       "    </tr>\n",
       "  </tbody>\n",
       "</table>\n",
       "</div>"
      ],
      "text/plain": [
       "   Matemática  Física e Química  Português  Inglês  Total de Minutos   Estuda  \\\n",
       "0          90                70        610      12               782    Pouco   \n",
       "1         180               120         10     812              1122  Mediano   \n",
       "2          45               160         32     123               360    Pouco   \n",
       "3         360               360        531     321              1572  Mediano   \n",
       "4         920               420        763     631              2734    Muito   \n",
       "5          15                87        234      34               370    Pouco   \n",
       "\n",
       "   Biologia  História das Artes  Geometria  Literatura  \n",
       "0        90                  70        610          12  \n",
       "1       180                 120         10         812  \n",
       "2        45                 160         32         123  \n",
       "3       360                 360        531         321  \n",
       "4       920                 420        763         631  \n",
       "5        15                  87        234          34  "
      ]
     },
     "execution_count": 60,
     "metadata": {},
     "output_type": "execute_result"
    }
   ],
   "source": [
    "# Trocar apenas o nome das disciplinas\n",
    "dicionario = {\n",
    "    \"Biologia\": [90, 180, 45, 360, 920, 15],\n",
    "    \"História das Artes\": [70, 120, 160, 360, 420, 87],\n",
    "    \"Geometria\": [610, 10, 32, 531,763, 234],\n",
    "    \"Literatura\": [12, 812, 123, 321, 631, 34]\n",
    "}\n",
    "\n",
    "# Criar um novo dataframe com o novo dicionário\n",
    "df2 = pd.DataFrame(dicionario)\n",
    "\n",
    "df_concat = pd.concat([df, df2], axis=1)\n",
    "\n",
    "df_concat"
   ]
  },
  {
   "cell_type": "markdown",
   "metadata": {},
   "source": [
    "Ah agora já ficou bom! Só precisávamos mesmo de recalcular o número \"Total de Minutos\" e o \"Estuda\"."
   ]
  },
  {
   "cell_type": "markdown",
   "metadata": {},
   "source": [
    "Uma coisa que não tentámos foi usar o parâmetro: `join` - que por defeito vem com o valor \"outter\", que significa manter o primeiro dataset e juntar o segundo a ele, linhas/colunas que não tenham em comum ficam NaN.<br><br>\n",
    "Se em vez de \"outter\" passarmos \"inner\", ele vai concatenar as colunas iguais e vai remover as restantes. Para isso vou novamente criar um dicionário só que desta vez vou manter 2 colunas com o mesmo nome que as do primeiro DataFrame."
   ]
  },
  {
   "cell_type": "code",
   "execution_count": 63,
   "metadata": {},
   "outputs": [
    {
     "data": {
      "text/html": [
       "<div>\n",
       "<style scoped>\n",
       "    .dataframe tbody tr th:only-of-type {\n",
       "        vertical-align: middle;\n",
       "    }\n",
       "\n",
       "    .dataframe tbody tr th {\n",
       "        vertical-align: top;\n",
       "    }\n",
       "\n",
       "    .dataframe thead th {\n",
       "        text-align: right;\n",
       "    }\n",
       "</style>\n",
       "<table border=\"1\" class=\"dataframe\">\n",
       "  <thead>\n",
       "    <tr style=\"text-align: right;\">\n",
       "      <th></th>\n",
       "      <th>Matemática</th>\n",
       "      <th>Inglês</th>\n",
       "    </tr>\n",
       "  </thead>\n",
       "  <tbody>\n",
       "    <tr>\n",
       "      <th>0</th>\n",
       "      <td>90</td>\n",
       "      <td>12</td>\n",
       "    </tr>\n",
       "    <tr>\n",
       "      <th>1</th>\n",
       "      <td>180</td>\n",
       "      <td>812</td>\n",
       "    </tr>\n",
       "    <tr>\n",
       "      <th>2</th>\n",
       "      <td>45</td>\n",
       "      <td>123</td>\n",
       "    </tr>\n",
       "    <tr>\n",
       "      <th>3</th>\n",
       "      <td>360</td>\n",
       "      <td>321</td>\n",
       "    </tr>\n",
       "    <tr>\n",
       "      <th>4</th>\n",
       "      <td>920</td>\n",
       "      <td>631</td>\n",
       "    </tr>\n",
       "    <tr>\n",
       "      <th>5</th>\n",
       "      <td>15</td>\n",
       "      <td>34</td>\n",
       "    </tr>\n",
       "    <tr>\n",
       "      <th>0</th>\n",
       "      <td>90</td>\n",
       "      <td>12</td>\n",
       "    </tr>\n",
       "    <tr>\n",
       "      <th>1</th>\n",
       "      <td>180</td>\n",
       "      <td>812</td>\n",
       "    </tr>\n",
       "    <tr>\n",
       "      <th>2</th>\n",
       "      <td>45</td>\n",
       "      <td>123</td>\n",
       "    </tr>\n",
       "    <tr>\n",
       "      <th>3</th>\n",
       "      <td>360</td>\n",
       "      <td>321</td>\n",
       "    </tr>\n",
       "    <tr>\n",
       "      <th>4</th>\n",
       "      <td>920</td>\n",
       "      <td>631</td>\n",
       "    </tr>\n",
       "    <tr>\n",
       "      <th>5</th>\n",
       "      <td>15</td>\n",
       "      <td>34</td>\n",
       "    </tr>\n",
       "  </tbody>\n",
       "</table>\n",
       "</div>"
      ],
      "text/plain": [
       "   Matemática  Inglês\n",
       "0          90      12\n",
       "1         180     812\n",
       "2          45     123\n",
       "3         360     321\n",
       "4         920     631\n",
       "5          15      34\n",
       "0          90      12\n",
       "1         180     812\n",
       "2          45     123\n",
       "3         360     321\n",
       "4         920     631\n",
       "5          15      34"
      ]
     },
     "execution_count": 63,
     "metadata": {},
     "output_type": "execute_result"
    }
   ],
   "source": [
    "dicionario = {\n",
    "    \"Matemática\": [90, 180, 45, 360, 920, 15],\n",
    "    \"História das Artes\": [70, 120, 160, 360, 420, 87],\n",
    "    \"Geometria\": [610, 10, 32, 531,763, 234],\n",
    "    \"Inglês\": [12, 812, 123, 321, 631, 34]\n",
    "}\n",
    "\n",
    "# Criar um novo dataframe com o novo dicionário\n",
    "df2 = pd.DataFrame(dicionario)\n",
    "\n",
    "df_concat = pd.concat([df, df2], join=\"inner\")\n",
    "\n",
    "df_concat"
   ]
  },
  {
   "cell_type": "markdown",
   "metadata": {},
   "source": [
    "Passou-se exatamente o que tinha dito acima. Como podemos ver, concat é um método com bastantes parâmetros e formas de operar, eu apenas mostrei algumas, sintam-se à vontade para entrar na documentação do <a href=\"https://pandas.pydata.org/pandas-docs/stable/reference/api/pandas.concat.html\">Pandas</a>."
   ]
  },
  {
   "cell_type": "markdown",
   "metadata": {},
   "source": [
    "## Series\n",
    "\n",
    "Vocês já conhecem o que é um DataFrame, e eu agora digo-vos que um DataFrame é composto por várias Series.<br><br>\n",
    "Pensem no DataFrame como uma matriz cheia de arrays dentro dela, esses arrays são as Series."
   ]
  },
  {
   "cell_type": "code",
   "execution_count": 66,
   "metadata": {},
   "outputs": [
    {
     "data": {
      "text/plain": [
       "pandas.core.series.Series"
      ]
     },
     "execution_count": 66,
     "metadata": {},
     "output_type": "execute_result"
    }
   ],
   "source": [
    "serie = pd.Series({\"Teste\": [1,2,3,4]})\n",
    "\n",
    "type(serie)"
   ]
  },
  {
   "cell_type": "markdown",
   "metadata": {},
   "source": [
    "Como veem aqui temos um objeto do tipo Series. Podemos fazer operacções entre Series"
   ]
  },
  {
   "cell_type": "code",
   "execution_count": 72,
   "metadata": {},
   "outputs": [
    {
     "data": {
      "text/plain": [
       "0     6\n",
       "1     8\n",
       "2    10\n",
       "3    12\n",
       "dtype: int64"
      ]
     },
     "execution_count": 72,
     "metadata": {},
     "output_type": "execute_result"
    }
   ],
   "source": [
    "serie = pd.Series([1,2,3,4])\n",
    "serie2 = pd.Series([5,6,7,8])\n",
    "\n",
    "serie + serie2"
   ]
  },
  {
   "cell_type": "markdown",
   "metadata": {},
   "source": [
    "Somamos os valores com o mesmo índice em cada uma das Series. Poderiamos fazer outras aritméticas, e também podemos criar um novo DataFrame com base nestas Series."
   ]
  },
  {
   "cell_type": "code",
   "execution_count": 75,
   "metadata": {},
   "outputs": [
    {
     "data": {
      "text/html": [
       "<div>\n",
       "<style scoped>\n",
       "    .dataframe tbody tr th:only-of-type {\n",
       "        vertical-align: middle;\n",
       "    }\n",
       "\n",
       "    .dataframe tbody tr th {\n",
       "        vertical-align: top;\n",
       "    }\n",
       "\n",
       "    .dataframe thead th {\n",
       "        text-align: right;\n",
       "    }\n",
       "</style>\n",
       "<table border=\"1\" class=\"dataframe\">\n",
       "  <thead>\n",
       "    <tr style=\"text-align: right;\">\n",
       "      <th></th>\n",
       "      <th>0</th>\n",
       "      <th>1</th>\n",
       "      <th>2</th>\n",
       "      <th>3</th>\n",
       "    </tr>\n",
       "  </thead>\n",
       "  <tbody>\n",
       "    <tr>\n",
       "      <th>0</th>\n",
       "      <td>1</td>\n",
       "      <td>2</td>\n",
       "      <td>3</td>\n",
       "      <td>4</td>\n",
       "    </tr>\n",
       "    <tr>\n",
       "      <th>1</th>\n",
       "      <td>5</td>\n",
       "      <td>6</td>\n",
       "      <td>7</td>\n",
       "      <td>8</td>\n",
       "    </tr>\n",
       "  </tbody>\n",
       "</table>\n",
       "</div>"
      ],
      "text/plain": [
       "   0  1  2  3\n",
       "0  1  2  3  4\n",
       "1  5  6  7  8"
      ]
     },
     "execution_count": 75,
     "metadata": {},
     "output_type": "execute_result"
    }
   ],
   "source": [
    "df_novo = pd.DataFrame([serie, serie2])\n",
    "\n",
    "df_novo"
   ]
  },
  {
   "cell_type": "markdown",
   "metadata": {},
   "source": [
    "## Outros métodos úteis\n",
    "\n",
    "Aqui vou mostrar métodos úteis para quando estamos a analisar um conjunto de dados.<br>\n",
    "Neste caso vou utilizar um DataFrame mais realista e completo. Utilizarei o DataFrame de treino da competição do Titanic que está disponível na <a href=\"https://www.kaggle.com/c/titanic\">Kaggle</a>."
   ]
  },
  {
   "cell_type": "code",
   "execution_count": 40,
   "metadata": {},
   "outputs": [],
   "source": [
    "# Importar o Dataset\n",
    "df_titanic = pd.read_csv(\"assets/titanic_train.csv\")"
   ]
  },
  {
   "cell_type": "markdown",
   "metadata": {},
   "source": [
    "Este dataframe tem muitas observações/amostras (mais de 800), não é uma boa ideia tentar mostrar todo DataFrame. Podemos ver um número limitado de amostras com os métodos: `head` e `tail` - o head mostra as X primeiras amostras e o tail as X últimas amostras, em X é o número que passarmos dentro da função."
   ]
  },
  {
   "cell_type": "code",
   "execution_count": 42,
   "metadata": {},
   "outputs": [
    {
     "data": {
      "text/html": [
       "<div>\n",
       "<style scoped>\n",
       "    .dataframe tbody tr th:only-of-type {\n",
       "        vertical-align: middle;\n",
       "    }\n",
       "\n",
       "    .dataframe tbody tr th {\n",
       "        vertical-align: top;\n",
       "    }\n",
       "\n",
       "    .dataframe thead th {\n",
       "        text-align: right;\n",
       "    }\n",
       "</style>\n",
       "<table border=\"1\" class=\"dataframe\">\n",
       "  <thead>\n",
       "    <tr style=\"text-align: right;\">\n",
       "      <th></th>\n",
       "      <th>PassengerId</th>\n",
       "      <th>Survived</th>\n",
       "      <th>Pclass</th>\n",
       "      <th>Name</th>\n",
       "      <th>Sex</th>\n",
       "      <th>Age</th>\n",
       "      <th>SibSp</th>\n",
       "      <th>Parch</th>\n",
       "      <th>Ticket</th>\n",
       "      <th>Fare</th>\n",
       "      <th>Cabin</th>\n",
       "      <th>Embarked</th>\n",
       "    </tr>\n",
       "  </thead>\n",
       "  <tbody>\n",
       "    <tr>\n",
       "      <th>0</th>\n",
       "      <td>1</td>\n",
       "      <td>0</td>\n",
       "      <td>3</td>\n",
       "      <td>Braund, Mr. Owen Harris</td>\n",
       "      <td>male</td>\n",
       "      <td>22.0</td>\n",
       "      <td>1</td>\n",
       "      <td>0</td>\n",
       "      <td>A/5 21171</td>\n",
       "      <td>7.2500</td>\n",
       "      <td>NaN</td>\n",
       "      <td>S</td>\n",
       "    </tr>\n",
       "    <tr>\n",
       "      <th>1</th>\n",
       "      <td>2</td>\n",
       "      <td>1</td>\n",
       "      <td>1</td>\n",
       "      <td>Cumings, Mrs. John Bradley (Florence Briggs Th...</td>\n",
       "      <td>female</td>\n",
       "      <td>38.0</td>\n",
       "      <td>1</td>\n",
       "      <td>0</td>\n",
       "      <td>PC 17599</td>\n",
       "      <td>71.2833</td>\n",
       "      <td>C85</td>\n",
       "      <td>C</td>\n",
       "    </tr>\n",
       "    <tr>\n",
       "      <th>2</th>\n",
       "      <td>3</td>\n",
       "      <td>1</td>\n",
       "      <td>3</td>\n",
       "      <td>Heikkinen, Miss. Laina</td>\n",
       "      <td>female</td>\n",
       "      <td>26.0</td>\n",
       "      <td>0</td>\n",
       "      <td>0</td>\n",
       "      <td>STON/O2. 3101282</td>\n",
       "      <td>7.9250</td>\n",
       "      <td>NaN</td>\n",
       "      <td>S</td>\n",
       "    </tr>\n",
       "    <tr>\n",
       "      <th>3</th>\n",
       "      <td>4</td>\n",
       "      <td>1</td>\n",
       "      <td>1</td>\n",
       "      <td>Futrelle, Mrs. Jacques Heath (Lily May Peel)</td>\n",
       "      <td>female</td>\n",
       "      <td>35.0</td>\n",
       "      <td>1</td>\n",
       "      <td>0</td>\n",
       "      <td>113803</td>\n",
       "      <td>53.1000</td>\n",
       "      <td>C123</td>\n",
       "      <td>S</td>\n",
       "    </tr>\n",
       "    <tr>\n",
       "      <th>4</th>\n",
       "      <td>5</td>\n",
       "      <td>0</td>\n",
       "      <td>3</td>\n",
       "      <td>Allen, Mr. William Henry</td>\n",
       "      <td>male</td>\n",
       "      <td>35.0</td>\n",
       "      <td>0</td>\n",
       "      <td>0</td>\n",
       "      <td>373450</td>\n",
       "      <td>8.0500</td>\n",
       "      <td>NaN</td>\n",
       "      <td>S</td>\n",
       "    </tr>\n",
       "    <tr>\n",
       "      <th>5</th>\n",
       "      <td>6</td>\n",
       "      <td>0</td>\n",
       "      <td>3</td>\n",
       "      <td>Moran, Mr. James</td>\n",
       "      <td>male</td>\n",
       "      <td>NaN</td>\n",
       "      <td>0</td>\n",
       "      <td>0</td>\n",
       "      <td>330877</td>\n",
       "      <td>8.4583</td>\n",
       "      <td>NaN</td>\n",
       "      <td>Q</td>\n",
       "    </tr>\n",
       "    <tr>\n",
       "      <th>6</th>\n",
       "      <td>7</td>\n",
       "      <td>0</td>\n",
       "      <td>1</td>\n",
       "      <td>McCarthy, Mr. Timothy J</td>\n",
       "      <td>male</td>\n",
       "      <td>54.0</td>\n",
       "      <td>0</td>\n",
       "      <td>0</td>\n",
       "      <td>17463</td>\n",
       "      <td>51.8625</td>\n",
       "      <td>E46</td>\n",
       "      <td>S</td>\n",
       "    </tr>\n",
       "    <tr>\n",
       "      <th>7</th>\n",
       "      <td>8</td>\n",
       "      <td>0</td>\n",
       "      <td>3</td>\n",
       "      <td>Palsson, Master. Gosta Leonard</td>\n",
       "      <td>male</td>\n",
       "      <td>2.0</td>\n",
       "      <td>3</td>\n",
       "      <td>1</td>\n",
       "      <td>349909</td>\n",
       "      <td>21.0750</td>\n",
       "      <td>NaN</td>\n",
       "      <td>S</td>\n",
       "    </tr>\n",
       "    <tr>\n",
       "      <th>8</th>\n",
       "      <td>9</td>\n",
       "      <td>1</td>\n",
       "      <td>3</td>\n",
       "      <td>Johnson, Mrs. Oscar W (Elisabeth Vilhelmina Berg)</td>\n",
       "      <td>female</td>\n",
       "      <td>27.0</td>\n",
       "      <td>0</td>\n",
       "      <td>2</td>\n",
       "      <td>347742</td>\n",
       "      <td>11.1333</td>\n",
       "      <td>NaN</td>\n",
       "      <td>S</td>\n",
       "    </tr>\n",
       "    <tr>\n",
       "      <th>9</th>\n",
       "      <td>10</td>\n",
       "      <td>1</td>\n",
       "      <td>2</td>\n",
       "      <td>Nasser, Mrs. Nicholas (Adele Achem)</td>\n",
       "      <td>female</td>\n",
       "      <td>14.0</td>\n",
       "      <td>1</td>\n",
       "      <td>0</td>\n",
       "      <td>237736</td>\n",
       "      <td>30.0708</td>\n",
       "      <td>NaN</td>\n",
       "      <td>C</td>\n",
       "    </tr>\n",
       "  </tbody>\n",
       "</table>\n",
       "</div>"
      ],
      "text/plain": [
       "   PassengerId  Survived  Pclass  \\\n",
       "0            1         0       3   \n",
       "1            2         1       1   \n",
       "2            3         1       3   \n",
       "3            4         1       1   \n",
       "4            5         0       3   \n",
       "5            6         0       3   \n",
       "6            7         0       1   \n",
       "7            8         0       3   \n",
       "8            9         1       3   \n",
       "9           10         1       2   \n",
       "\n",
       "                                                Name     Sex   Age  SibSp  \\\n",
       "0                            Braund, Mr. Owen Harris    male  22.0      1   \n",
       "1  Cumings, Mrs. John Bradley (Florence Briggs Th...  female  38.0      1   \n",
       "2                             Heikkinen, Miss. Laina  female  26.0      0   \n",
       "3       Futrelle, Mrs. Jacques Heath (Lily May Peel)  female  35.0      1   \n",
       "4                           Allen, Mr. William Henry    male  35.0      0   \n",
       "5                                   Moran, Mr. James    male   NaN      0   \n",
       "6                            McCarthy, Mr. Timothy J    male  54.0      0   \n",
       "7                     Palsson, Master. Gosta Leonard    male   2.0      3   \n",
       "8  Johnson, Mrs. Oscar W (Elisabeth Vilhelmina Berg)  female  27.0      0   \n",
       "9                Nasser, Mrs. Nicholas (Adele Achem)  female  14.0      1   \n",
       "\n",
       "   Parch            Ticket     Fare Cabin Embarked  \n",
       "0      0         A/5 21171   7.2500   NaN        S  \n",
       "1      0          PC 17599  71.2833   C85        C  \n",
       "2      0  STON/O2. 3101282   7.9250   NaN        S  \n",
       "3      0            113803  53.1000  C123        S  \n",
       "4      0            373450   8.0500   NaN        S  \n",
       "5      0            330877   8.4583   NaN        Q  \n",
       "6      0             17463  51.8625   E46        S  \n",
       "7      1            349909  21.0750   NaN        S  \n",
       "8      2            347742  11.1333   NaN        S  \n",
       "9      0            237736  30.0708   NaN        C  "
      ]
     },
     "execution_count": 42,
     "metadata": {},
     "output_type": "execute_result"
    }
   ],
   "source": [
    "# Primeiras 10 amostras\n",
    "df_titanic.head(10)"
   ]
  },
  {
   "cell_type": "code",
   "execution_count": 44,
   "metadata": {},
   "outputs": [
    {
     "data": {
      "text/html": [
       "<div>\n",
       "<style scoped>\n",
       "    .dataframe tbody tr th:only-of-type {\n",
       "        vertical-align: middle;\n",
       "    }\n",
       "\n",
       "    .dataframe tbody tr th {\n",
       "        vertical-align: top;\n",
       "    }\n",
       "\n",
       "    .dataframe thead th {\n",
       "        text-align: right;\n",
       "    }\n",
       "</style>\n",
       "<table border=\"1\" class=\"dataframe\">\n",
       "  <thead>\n",
       "    <tr style=\"text-align: right;\">\n",
       "      <th></th>\n",
       "      <th>PassengerId</th>\n",
       "      <th>Survived</th>\n",
       "      <th>Pclass</th>\n",
       "      <th>Name</th>\n",
       "      <th>Sex</th>\n",
       "      <th>Age</th>\n",
       "      <th>SibSp</th>\n",
       "      <th>Parch</th>\n",
       "      <th>Ticket</th>\n",
       "      <th>Fare</th>\n",
       "      <th>Cabin</th>\n",
       "      <th>Embarked</th>\n",
       "    </tr>\n",
       "  </thead>\n",
       "  <tbody>\n",
       "    <tr>\n",
       "      <th>888</th>\n",
       "      <td>889</td>\n",
       "      <td>0</td>\n",
       "      <td>3</td>\n",
       "      <td>Johnston, Miss. Catherine Helen \"Carrie\"</td>\n",
       "      <td>female</td>\n",
       "      <td>NaN</td>\n",
       "      <td>1</td>\n",
       "      <td>2</td>\n",
       "      <td>W./C. 6607</td>\n",
       "      <td>23.45</td>\n",
       "      <td>NaN</td>\n",
       "      <td>S</td>\n",
       "    </tr>\n",
       "    <tr>\n",
       "      <th>889</th>\n",
       "      <td>890</td>\n",
       "      <td>1</td>\n",
       "      <td>1</td>\n",
       "      <td>Behr, Mr. Karl Howell</td>\n",
       "      <td>male</td>\n",
       "      <td>26.0</td>\n",
       "      <td>0</td>\n",
       "      <td>0</td>\n",
       "      <td>111369</td>\n",
       "      <td>30.00</td>\n",
       "      <td>C148</td>\n",
       "      <td>C</td>\n",
       "    </tr>\n",
       "    <tr>\n",
       "      <th>890</th>\n",
       "      <td>891</td>\n",
       "      <td>0</td>\n",
       "      <td>3</td>\n",
       "      <td>Dooley, Mr. Patrick</td>\n",
       "      <td>male</td>\n",
       "      <td>32.0</td>\n",
       "      <td>0</td>\n",
       "      <td>0</td>\n",
       "      <td>370376</td>\n",
       "      <td>7.75</td>\n",
       "      <td>NaN</td>\n",
       "      <td>Q</td>\n",
       "    </tr>\n",
       "  </tbody>\n",
       "</table>\n",
       "</div>"
      ],
      "text/plain": [
       "     PassengerId  Survived  Pclass                                      Name  \\\n",
       "888          889         0       3  Johnston, Miss. Catherine Helen \"Carrie\"   \n",
       "889          890         1       1                     Behr, Mr. Karl Howell   \n",
       "890          891         0       3                       Dooley, Mr. Patrick   \n",
       "\n",
       "        Sex   Age  SibSp  Parch      Ticket   Fare Cabin Embarked  \n",
       "888  female   NaN      1      2  W./C. 6607  23.45   NaN        S  \n",
       "889    male  26.0      0      0      111369  30.00  C148        C  \n",
       "890    male  32.0      0      0      370376   7.75   NaN        Q  "
      ]
     },
     "execution_count": 44,
     "metadata": {},
     "output_type": "execute_result"
    }
   ],
   "source": [
    "# Últimas 3 amostras\n",
    "df_titanic.tail(3)"
   ]
  },
  {
   "cell_type": "markdown",
   "metadata": {},
   "source": [
    "Também há o método: `sample` - este mostra X amostras aleatórias"
   ]
  },
  {
   "cell_type": "code",
   "execution_count": 48,
   "metadata": {},
   "outputs": [
    {
     "data": {
      "text/html": [
       "<div>\n",
       "<style scoped>\n",
       "    .dataframe tbody tr th:only-of-type {\n",
       "        vertical-align: middle;\n",
       "    }\n",
       "\n",
       "    .dataframe tbody tr th {\n",
       "        vertical-align: top;\n",
       "    }\n",
       "\n",
       "    .dataframe thead th {\n",
       "        text-align: right;\n",
       "    }\n",
       "</style>\n",
       "<table border=\"1\" class=\"dataframe\">\n",
       "  <thead>\n",
       "    <tr style=\"text-align: right;\">\n",
       "      <th></th>\n",
       "      <th>PassengerId</th>\n",
       "      <th>Survived</th>\n",
       "      <th>Pclass</th>\n",
       "      <th>Name</th>\n",
       "      <th>Sex</th>\n",
       "      <th>Age</th>\n",
       "      <th>SibSp</th>\n",
       "      <th>Parch</th>\n",
       "      <th>Ticket</th>\n",
       "      <th>Fare</th>\n",
       "      <th>Cabin</th>\n",
       "      <th>Embarked</th>\n",
       "    </tr>\n",
       "  </thead>\n",
       "  <tbody>\n",
       "    <tr>\n",
       "      <th>650</th>\n",
       "      <td>651</td>\n",
       "      <td>0</td>\n",
       "      <td>3</td>\n",
       "      <td>Mitkoff, Mr. Mito</td>\n",
       "      <td>male</td>\n",
       "      <td>NaN</td>\n",
       "      <td>0</td>\n",
       "      <td>0</td>\n",
       "      <td>349221</td>\n",
       "      <td>7.8958</td>\n",
       "      <td>NaN</td>\n",
       "      <td>S</td>\n",
       "    </tr>\n",
       "    <tr>\n",
       "      <th>504</th>\n",
       "      <td>505</td>\n",
       "      <td>1</td>\n",
       "      <td>1</td>\n",
       "      <td>Maioni, Miss. Roberta</td>\n",
       "      <td>female</td>\n",
       "      <td>16.0</td>\n",
       "      <td>0</td>\n",
       "      <td>0</td>\n",
       "      <td>110152</td>\n",
       "      <td>86.5000</td>\n",
       "      <td>B79</td>\n",
       "      <td>S</td>\n",
       "    </tr>\n",
       "    <tr>\n",
       "      <th>220</th>\n",
       "      <td>221</td>\n",
       "      <td>1</td>\n",
       "      <td>3</td>\n",
       "      <td>Sunderland, Mr. Victor Francis</td>\n",
       "      <td>male</td>\n",
       "      <td>16.0</td>\n",
       "      <td>0</td>\n",
       "      <td>0</td>\n",
       "      <td>SOTON/OQ 392089</td>\n",
       "      <td>8.0500</td>\n",
       "      <td>NaN</td>\n",
       "      <td>S</td>\n",
       "    </tr>\n",
       "    <tr>\n",
       "      <th>432</th>\n",
       "      <td>433</td>\n",
       "      <td>1</td>\n",
       "      <td>2</td>\n",
       "      <td>Louch, Mrs. Charles Alexander (Alice Adelaide ...</td>\n",
       "      <td>female</td>\n",
       "      <td>42.0</td>\n",
       "      <td>1</td>\n",
       "      <td>0</td>\n",
       "      <td>SC/AH 3085</td>\n",
       "      <td>26.0000</td>\n",
       "      <td>NaN</td>\n",
       "      <td>S</td>\n",
       "    </tr>\n",
       "  </tbody>\n",
       "</table>\n",
       "</div>"
      ],
      "text/plain": [
       "     PassengerId  Survived  Pclass  \\\n",
       "650          651         0       3   \n",
       "504          505         1       1   \n",
       "220          221         1       3   \n",
       "432          433         1       2   \n",
       "\n",
       "                                                  Name     Sex   Age  SibSp  \\\n",
       "650                                  Mitkoff, Mr. Mito    male   NaN      0   \n",
       "504                              Maioni, Miss. Roberta  female  16.0      0   \n",
       "220                     Sunderland, Mr. Victor Francis    male  16.0      0   \n",
       "432  Louch, Mrs. Charles Alexander (Alice Adelaide ...  female  42.0      1   \n",
       "\n",
       "     Parch           Ticket     Fare Cabin Embarked  \n",
       "650      0           349221   7.8958   NaN        S  \n",
       "504      0           110152  86.5000   B79        S  \n",
       "220      0  SOTON/OQ 392089   8.0500   NaN        S  \n",
       "432      0       SC/AH 3085  26.0000   NaN        S  "
      ]
     },
     "execution_count": 48,
     "metadata": {},
     "output_type": "execute_result"
    }
   ],
   "source": [
    "# Mostrar 4 amostras aleatórias\n",
    "df_titanic.sample(4)"
   ]
  },
  {
   "cell_type": "markdown",
   "metadata": {},
   "source": [
    "Então e se tentarmos mostrar o DataFrame todo, dá?"
   ]
  },
  {
   "cell_type": "code",
   "execution_count": 49,
   "metadata": {},
   "outputs": [
    {
     "data": {
      "text/html": [
       "<div>\n",
       "<style scoped>\n",
       "    .dataframe tbody tr th:only-of-type {\n",
       "        vertical-align: middle;\n",
       "    }\n",
       "\n",
       "    .dataframe tbody tr th {\n",
       "        vertical-align: top;\n",
       "    }\n",
       "\n",
       "    .dataframe thead th {\n",
       "        text-align: right;\n",
       "    }\n",
       "</style>\n",
       "<table border=\"1\" class=\"dataframe\">\n",
       "  <thead>\n",
       "    <tr style=\"text-align: right;\">\n",
       "      <th></th>\n",
       "      <th>PassengerId</th>\n",
       "      <th>Survived</th>\n",
       "      <th>Pclass</th>\n",
       "      <th>Name</th>\n",
       "      <th>Sex</th>\n",
       "      <th>Age</th>\n",
       "      <th>SibSp</th>\n",
       "      <th>Parch</th>\n",
       "      <th>Ticket</th>\n",
       "      <th>Fare</th>\n",
       "      <th>Cabin</th>\n",
       "      <th>Embarked</th>\n",
       "    </tr>\n",
       "  </thead>\n",
       "  <tbody>\n",
       "    <tr>\n",
       "      <th>0</th>\n",
       "      <td>1</td>\n",
       "      <td>0</td>\n",
       "      <td>3</td>\n",
       "      <td>Braund, Mr. Owen Harris</td>\n",
       "      <td>male</td>\n",
       "      <td>22.0</td>\n",
       "      <td>1</td>\n",
       "      <td>0</td>\n",
       "      <td>A/5 21171</td>\n",
       "      <td>7.2500</td>\n",
       "      <td>NaN</td>\n",
       "      <td>S</td>\n",
       "    </tr>\n",
       "    <tr>\n",
       "      <th>1</th>\n",
       "      <td>2</td>\n",
       "      <td>1</td>\n",
       "      <td>1</td>\n",
       "      <td>Cumings, Mrs. John Bradley (Florence Briggs Th...</td>\n",
       "      <td>female</td>\n",
       "      <td>38.0</td>\n",
       "      <td>1</td>\n",
       "      <td>0</td>\n",
       "      <td>PC 17599</td>\n",
       "      <td>71.2833</td>\n",
       "      <td>C85</td>\n",
       "      <td>C</td>\n",
       "    </tr>\n",
       "    <tr>\n",
       "      <th>2</th>\n",
       "      <td>3</td>\n",
       "      <td>1</td>\n",
       "      <td>3</td>\n",
       "      <td>Heikkinen, Miss. Laina</td>\n",
       "      <td>female</td>\n",
       "      <td>26.0</td>\n",
       "      <td>0</td>\n",
       "      <td>0</td>\n",
       "      <td>STON/O2. 3101282</td>\n",
       "      <td>7.9250</td>\n",
       "      <td>NaN</td>\n",
       "      <td>S</td>\n",
       "    </tr>\n",
       "    <tr>\n",
       "      <th>3</th>\n",
       "      <td>4</td>\n",
       "      <td>1</td>\n",
       "      <td>1</td>\n",
       "      <td>Futrelle, Mrs. Jacques Heath (Lily May Peel)</td>\n",
       "      <td>female</td>\n",
       "      <td>35.0</td>\n",
       "      <td>1</td>\n",
       "      <td>0</td>\n",
       "      <td>113803</td>\n",
       "      <td>53.1000</td>\n",
       "      <td>C123</td>\n",
       "      <td>S</td>\n",
       "    </tr>\n",
       "    <tr>\n",
       "      <th>4</th>\n",
       "      <td>5</td>\n",
       "      <td>0</td>\n",
       "      <td>3</td>\n",
       "      <td>Allen, Mr. William Henry</td>\n",
       "      <td>male</td>\n",
       "      <td>35.0</td>\n",
       "      <td>0</td>\n",
       "      <td>0</td>\n",
       "      <td>373450</td>\n",
       "      <td>8.0500</td>\n",
       "      <td>NaN</td>\n",
       "      <td>S</td>\n",
       "    </tr>\n",
       "    <tr>\n",
       "      <th>...</th>\n",
       "      <td>...</td>\n",
       "      <td>...</td>\n",
       "      <td>...</td>\n",
       "      <td>...</td>\n",
       "      <td>...</td>\n",
       "      <td>...</td>\n",
       "      <td>...</td>\n",
       "      <td>...</td>\n",
       "      <td>...</td>\n",
       "      <td>...</td>\n",
       "      <td>...</td>\n",
       "      <td>...</td>\n",
       "    </tr>\n",
       "    <tr>\n",
       "      <th>886</th>\n",
       "      <td>887</td>\n",
       "      <td>0</td>\n",
       "      <td>2</td>\n",
       "      <td>Montvila, Rev. Juozas</td>\n",
       "      <td>male</td>\n",
       "      <td>27.0</td>\n",
       "      <td>0</td>\n",
       "      <td>0</td>\n",
       "      <td>211536</td>\n",
       "      <td>13.0000</td>\n",
       "      <td>NaN</td>\n",
       "      <td>S</td>\n",
       "    </tr>\n",
       "    <tr>\n",
       "      <th>887</th>\n",
       "      <td>888</td>\n",
       "      <td>1</td>\n",
       "      <td>1</td>\n",
       "      <td>Graham, Miss. Margaret Edith</td>\n",
       "      <td>female</td>\n",
       "      <td>19.0</td>\n",
       "      <td>0</td>\n",
       "      <td>0</td>\n",
       "      <td>112053</td>\n",
       "      <td>30.0000</td>\n",
       "      <td>B42</td>\n",
       "      <td>S</td>\n",
       "    </tr>\n",
       "    <tr>\n",
       "      <th>888</th>\n",
       "      <td>889</td>\n",
       "      <td>0</td>\n",
       "      <td>3</td>\n",
       "      <td>Johnston, Miss. Catherine Helen \"Carrie\"</td>\n",
       "      <td>female</td>\n",
       "      <td>NaN</td>\n",
       "      <td>1</td>\n",
       "      <td>2</td>\n",
       "      <td>W./C. 6607</td>\n",
       "      <td>23.4500</td>\n",
       "      <td>NaN</td>\n",
       "      <td>S</td>\n",
       "    </tr>\n",
       "    <tr>\n",
       "      <th>889</th>\n",
       "      <td>890</td>\n",
       "      <td>1</td>\n",
       "      <td>1</td>\n",
       "      <td>Behr, Mr. Karl Howell</td>\n",
       "      <td>male</td>\n",
       "      <td>26.0</td>\n",
       "      <td>0</td>\n",
       "      <td>0</td>\n",
       "      <td>111369</td>\n",
       "      <td>30.0000</td>\n",
       "      <td>C148</td>\n",
       "      <td>C</td>\n",
       "    </tr>\n",
       "    <tr>\n",
       "      <th>890</th>\n",
       "      <td>891</td>\n",
       "      <td>0</td>\n",
       "      <td>3</td>\n",
       "      <td>Dooley, Mr. Patrick</td>\n",
       "      <td>male</td>\n",
       "      <td>32.0</td>\n",
       "      <td>0</td>\n",
       "      <td>0</td>\n",
       "      <td>370376</td>\n",
       "      <td>7.7500</td>\n",
       "      <td>NaN</td>\n",
       "      <td>Q</td>\n",
       "    </tr>\n",
       "  </tbody>\n",
       "</table>\n",
       "<p>891 rows × 12 columns</p>\n",
       "</div>"
      ],
      "text/plain": [
       "     PassengerId  Survived  Pclass  \\\n",
       "0              1         0       3   \n",
       "1              2         1       1   \n",
       "2              3         1       3   \n",
       "3              4         1       1   \n",
       "4              5         0       3   \n",
       "..           ...       ...     ...   \n",
       "886          887         0       2   \n",
       "887          888         1       1   \n",
       "888          889         0       3   \n",
       "889          890         1       1   \n",
       "890          891         0       3   \n",
       "\n",
       "                                                  Name     Sex   Age  SibSp  \\\n",
       "0                              Braund, Mr. Owen Harris    male  22.0      1   \n",
       "1    Cumings, Mrs. John Bradley (Florence Briggs Th...  female  38.0      1   \n",
       "2                               Heikkinen, Miss. Laina  female  26.0      0   \n",
       "3         Futrelle, Mrs. Jacques Heath (Lily May Peel)  female  35.0      1   \n",
       "4                             Allen, Mr. William Henry    male  35.0      0   \n",
       "..                                                 ...     ...   ...    ...   \n",
       "886                              Montvila, Rev. Juozas    male  27.0      0   \n",
       "887                       Graham, Miss. Margaret Edith  female  19.0      0   \n",
       "888           Johnston, Miss. Catherine Helen \"Carrie\"  female   NaN      1   \n",
       "889                              Behr, Mr. Karl Howell    male  26.0      0   \n",
       "890                                Dooley, Mr. Patrick    male  32.0      0   \n",
       "\n",
       "     Parch            Ticket     Fare Cabin Embarked  \n",
       "0        0         A/5 21171   7.2500   NaN        S  \n",
       "1        0          PC 17599  71.2833   C85        C  \n",
       "2        0  STON/O2. 3101282   7.9250   NaN        S  \n",
       "3        0            113803  53.1000  C123        S  \n",
       "4        0            373450   8.0500   NaN        S  \n",
       "..     ...               ...      ...   ...      ...  \n",
       "886      0            211536  13.0000   NaN        S  \n",
       "887      0            112053  30.0000   B42        S  \n",
       "888      2        W./C. 6607  23.4500   NaN        S  \n",
       "889      0            111369  30.0000  C148        C  \n",
       "890      0            370376   7.7500   NaN        Q  \n",
       "\n",
       "[891 rows x 12 columns]"
      ]
     },
     "execution_count": 49,
     "metadata": {},
     "output_type": "execute_result"
    }
   ],
   "source": [
    "df_titanic"
   ]
  },
  {
   "cell_type": "markdown",
   "metadata": {},
   "source": [
    "Nem por isso, se repararem entre o índice 4 e 886 há reticências o que indica que só está a mostrar as 5 primeiras e últimas amostras."
   ]
  },
  {
   "cell_type": "markdown",
   "metadata": {},
   "source": [
    "Um método muito usado e que já nos dá várias coisas é o `describe`."
   ]
  },
  {
   "cell_type": "code",
   "execution_count": 76,
   "metadata": {},
   "outputs": [
    {
     "data": {
      "text/html": [
       "<div>\n",
       "<style scoped>\n",
       "    .dataframe tbody tr th:only-of-type {\n",
       "        vertical-align: middle;\n",
       "    }\n",
       "\n",
       "    .dataframe tbody tr th {\n",
       "        vertical-align: top;\n",
       "    }\n",
       "\n",
       "    .dataframe thead th {\n",
       "        text-align: right;\n",
       "    }\n",
       "</style>\n",
       "<table border=\"1\" class=\"dataframe\">\n",
       "  <thead>\n",
       "    <tr style=\"text-align: right;\">\n",
       "      <th></th>\n",
       "      <th>PassengerId</th>\n",
       "      <th>Survived</th>\n",
       "      <th>Pclass</th>\n",
       "      <th>Age</th>\n",
       "      <th>SibSp</th>\n",
       "      <th>Parch</th>\n",
       "      <th>Fare</th>\n",
       "    </tr>\n",
       "  </thead>\n",
       "  <tbody>\n",
       "    <tr>\n",
       "      <th>count</th>\n",
       "      <td>891.000000</td>\n",
       "      <td>891.000000</td>\n",
       "      <td>891.000000</td>\n",
       "      <td>714.000000</td>\n",
       "      <td>891.000000</td>\n",
       "      <td>891.000000</td>\n",
       "      <td>891.000000</td>\n",
       "    </tr>\n",
       "    <tr>\n",
       "      <th>mean</th>\n",
       "      <td>446.000000</td>\n",
       "      <td>0.383838</td>\n",
       "      <td>2.308642</td>\n",
       "      <td>29.699118</td>\n",
       "      <td>0.523008</td>\n",
       "      <td>0.381594</td>\n",
       "      <td>32.204208</td>\n",
       "    </tr>\n",
       "    <tr>\n",
       "      <th>std</th>\n",
       "      <td>257.353842</td>\n",
       "      <td>0.486592</td>\n",
       "      <td>0.836071</td>\n",
       "      <td>14.526497</td>\n",
       "      <td>1.102743</td>\n",
       "      <td>0.806057</td>\n",
       "      <td>49.693429</td>\n",
       "    </tr>\n",
       "    <tr>\n",
       "      <th>min</th>\n",
       "      <td>1.000000</td>\n",
       "      <td>0.000000</td>\n",
       "      <td>1.000000</td>\n",
       "      <td>0.420000</td>\n",
       "      <td>0.000000</td>\n",
       "      <td>0.000000</td>\n",
       "      <td>0.000000</td>\n",
       "    </tr>\n",
       "    <tr>\n",
       "      <th>25%</th>\n",
       "      <td>223.500000</td>\n",
       "      <td>0.000000</td>\n",
       "      <td>2.000000</td>\n",
       "      <td>20.125000</td>\n",
       "      <td>0.000000</td>\n",
       "      <td>0.000000</td>\n",
       "      <td>7.910400</td>\n",
       "    </tr>\n",
       "    <tr>\n",
       "      <th>50%</th>\n",
       "      <td>446.000000</td>\n",
       "      <td>0.000000</td>\n",
       "      <td>3.000000</td>\n",
       "      <td>28.000000</td>\n",
       "      <td>0.000000</td>\n",
       "      <td>0.000000</td>\n",
       "      <td>14.454200</td>\n",
       "    </tr>\n",
       "    <tr>\n",
       "      <th>75%</th>\n",
       "      <td>668.500000</td>\n",
       "      <td>1.000000</td>\n",
       "      <td>3.000000</td>\n",
       "      <td>38.000000</td>\n",
       "      <td>1.000000</td>\n",
       "      <td>0.000000</td>\n",
       "      <td>31.000000</td>\n",
       "    </tr>\n",
       "    <tr>\n",
       "      <th>max</th>\n",
       "      <td>891.000000</td>\n",
       "      <td>1.000000</td>\n",
       "      <td>3.000000</td>\n",
       "      <td>80.000000</td>\n",
       "      <td>8.000000</td>\n",
       "      <td>6.000000</td>\n",
       "      <td>512.329200</td>\n",
       "    </tr>\n",
       "  </tbody>\n",
       "</table>\n",
       "</div>"
      ],
      "text/plain": [
       "       PassengerId    Survived      Pclass         Age       SibSp  \\\n",
       "count   891.000000  891.000000  891.000000  714.000000  891.000000   \n",
       "mean    446.000000    0.383838    2.308642   29.699118    0.523008   \n",
       "std     257.353842    0.486592    0.836071   14.526497    1.102743   \n",
       "min       1.000000    0.000000    1.000000    0.420000    0.000000   \n",
       "25%     223.500000    0.000000    2.000000   20.125000    0.000000   \n",
       "50%     446.000000    0.000000    3.000000   28.000000    0.000000   \n",
       "75%     668.500000    1.000000    3.000000   38.000000    1.000000   \n",
       "max     891.000000    1.000000    3.000000   80.000000    8.000000   \n",
       "\n",
       "            Parch        Fare  \n",
       "count  891.000000  891.000000  \n",
       "mean     0.381594   32.204208  \n",
       "std      0.806057   49.693429  \n",
       "min      0.000000    0.000000  \n",
       "25%      0.000000    7.910400  \n",
       "50%      0.000000   14.454200  \n",
       "75%      0.000000   31.000000  \n",
       "max      6.000000  512.329200  "
      ]
     },
     "execution_count": 76,
     "metadata": {},
     "output_type": "execute_result"
    }
   ],
   "source": [
    "df_titanic.describe()"
   ]
  },
  {
   "cell_type": "markdown",
   "metadata": {},
   "source": [
    "Bem aqui temos o mínimo e máximo de cada feature numérica, assim como os interquartis (25%-50%-75%), média e desvio-padrão e a contagem de valores numéricos não nulos em cada feature/coluna.<br><br>\n",
    "Todos estes resultados podem ser conseguidos individualmente, inclusive, apenas de uma coluna só."
   ]
  },
  {
   "cell_type": "code",
   "execution_count": 78,
   "metadata": {},
   "outputs": [
    {
     "name": "stdout",
     "output_type": "stream",
     "text": [
      "Média de todas as colunas numéricas do DataFrame\n"
     ]
    },
    {
     "data": {
      "text/plain": [
       "PassengerId    446.000000\n",
       "Survived         0.383838\n",
       "Pclass           2.308642\n",
       "Age             29.699118\n",
       "SibSp            0.523008\n",
       "Parch            0.381594\n",
       "Fare            32.204208\n",
       "dtype: float64"
      ]
     },
     "execution_count": 78,
     "metadata": {},
     "output_type": "execute_result"
    }
   ],
   "source": [
    "print(\"Média de todas as colunas numéricas do DataFrame\")\n",
    "\n",
    "df_titanic.mean()"
   ]
  },
  {
   "cell_type": "code",
   "execution_count": 79,
   "metadata": {},
   "outputs": [
    {
     "name": "stdout",
     "output_type": "stream",
     "text": [
      "Desvio-Padrão de todas as colunas numéricas do DataFrame\n"
     ]
    },
    {
     "data": {
      "text/plain": [
       "PassengerId    257.353842\n",
       "Survived         0.486592\n",
       "Pclass           0.836071\n",
       "Age             14.526497\n",
       "SibSp            1.102743\n",
       "Parch            0.806057\n",
       "Fare            49.693429\n",
       "dtype: float64"
      ]
     },
     "execution_count": 79,
     "metadata": {},
     "output_type": "execute_result"
    }
   ],
   "source": [
    "print(\"Desvio-Padrão de todas as colunas numéricas do DataFrame\")\n",
    "\n",
    "df_titanic.std()"
   ]
  },
  {
   "cell_type": "code",
   "execution_count": 81,
   "metadata": {},
   "outputs": [
    {
     "name": "stdout",
     "output_type": "stream",
     "text": [
      "Contagem de valores de todas as colunas do DataFrame\n"
     ]
    },
    {
     "data": {
      "text/plain": [
       "PassengerId    891\n",
       "Survived       891\n",
       "Pclass         891\n",
       "Name           891\n",
       "Sex            891\n",
       "Age            714\n",
       "SibSp          891\n",
       "Parch          891\n",
       "Ticket         891\n",
       "Fare           891\n",
       "Cabin          204\n",
       "Embarked       889\n",
       "dtype: int64"
      ]
     },
     "execution_count": 81,
     "metadata": {},
     "output_type": "execute_result"
    }
   ],
   "source": [
    "print(\"Contagem de valores de todas as colunas do DataFrame\")\n",
    "\n",
    "df_titanic.count()"
   ]
  },
  {
   "cell_type": "code",
   "execution_count": 84,
   "metadata": {},
   "outputs": [
    {
     "name": "stdout",
     "output_type": "stream",
     "text": [
      "Mínimo de todas as colunas do DataFrame\n"
     ]
    },
    {
     "data": {
      "text/plain": [
       "PassengerId                      1\n",
       "Survived                         0\n",
       "Pclass                           1\n",
       "Name           Abbing, Mr. Anthony\n",
       "Sex                         female\n",
       "Age                           0.42\n",
       "SibSp                            0\n",
       "Parch                            0\n",
       "Ticket                      110152\n",
       "Fare                             0\n",
       "dtype: object"
      ]
     },
     "execution_count": 84,
     "metadata": {},
     "output_type": "execute_result"
    }
   ],
   "source": [
    "print(\"Mínimo de todas as colunas do DataFrame\")\n",
    "df_titanic.min()"
   ]
  },
  {
   "cell_type": "code",
   "execution_count": 85,
   "metadata": {},
   "outputs": [
    {
     "name": "stdout",
     "output_type": "stream",
     "text": [
      "Máximo de todas as colunas do DataFrame\n"
     ]
    },
    {
     "data": {
      "text/plain": [
       "PassengerId                            891\n",
       "Survived                                 1\n",
       "Pclass                                   3\n",
       "Name           van Melkebeke, Mr. Philemon\n",
       "Sex                                   male\n",
       "Age                                     80\n",
       "SibSp                                    8\n",
       "Parch                                    6\n",
       "Ticket                           WE/P 5735\n",
       "Fare                               512.329\n",
       "dtype: object"
      ]
     },
     "execution_count": 85,
     "metadata": {},
     "output_type": "execute_result"
    }
   ],
   "source": [
    "print(\"Máximo de todas as colunas do DataFrame\")\n",
    "df_titanic.max()"
   ]
  },
  {
   "cell_type": "code",
   "execution_count": 91,
   "metadata": {},
   "outputs": [
    {
     "name": "stdout",
     "output_type": "stream",
     "text": [
      "\n",
      "Interquartil (25%)\n",
      "\n",
      " PassengerId    223.5000\n",
      "Survived         0.0000\n",
      "Pclass           2.0000\n",
      "Age             20.1250\n",
      "SibSp            0.0000\n",
      "Parch            0.0000\n",
      "Fare             7.9104\n",
      "Name: 0.25, dtype: float64\n",
      "\n",
      "Interquartil (50%)\n",
      "\n",
      " PassengerId    446.0000\n",
      "Survived         0.0000\n",
      "Pclass           3.0000\n",
      "Age             28.0000\n",
      "SibSp            0.0000\n",
      "Parch            0.0000\n",
      "Fare            14.4542\n",
      "Name: 0.5, dtype: float64\n",
      "\n",
      "Interquartil (75%)\n",
      " PassengerId    668.5\n",
      "Survived         1.0\n",
      "Pclass           3.0\n",
      "Age             38.0\n",
      "SibSp            1.0\n",
      "Parch            0.0\n",
      "Fare            31.0\n",
      "Name: 0.75, dtype: float64\n"
     ]
    }
   ],
   "source": [
    "print( \"\\nInterquartil (25%)\\n\\n\", df_titanic.quantile(q=0.25) )\n",
    "print( \"\\nInterquartil (50%)\\n\\n\", df_titanic.quantile(q=0.5) )\n",
    "print( \"\\nInterquartil (75%)\\n\", df_titanic.quantile(q=0.75) )"
   ]
  },
  {
   "cell_type": "markdown",
   "metadata": {},
   "source": [
    "Tudo isto aqui pode ser aplicado em apenas uma coluna."
   ]
  },
  {
   "cell_type": "code",
   "execution_count": 93,
   "metadata": {},
   "outputs": [
    {
     "name": "stdout",
     "output_type": "stream",
     "text": [
      "Média de idades:  29.69911764705882\n"
     ]
    }
   ],
   "source": [
    "print(\"Média de idades: \", df_titanic[\"Age\"].mean() )"
   ]
  },
  {
   "cell_type": "markdown",
   "metadata": {},
   "source": [
    "Também podemos fazer de múltiplas colunas se passarmos uma lista com nomes das colunas em vez de apenas uma string."
   ]
  },
  {
   "cell_type": "code",
   "execution_count": 95,
   "metadata": {},
   "outputs": [
    {
     "name": "stdout",
     "output_type": "stream",
     "text": [
      "Médias das idades e das pessoas que sobreviveram\n"
     ]
    },
    {
     "data": {
      "text/plain": [
       "Age         29.699118\n",
       "Survived     0.383838\n",
       "dtype: float64"
      ]
     },
     "execution_count": 95,
     "metadata": {},
     "output_type": "execute_result"
    }
   ],
   "source": [
    "print(\"Médias das idades e das pessoas que sobreviveram\")\n",
    "df_titanic[[\"Age\", \"Survived\"]].mean()"
   ]
  },
  {
   "cell_type": "markdown",
   "metadata": {},
   "source": [
    "Outra coisa que podemos calcular é a correlação entre features. Vamos calcular a correlação entre as idades e a sobreviência.<br>\n",
    "Para isso acedemos apenas à coluna \"Age\" (ou seja, podemos chamar da Series \"Age\"), chamamos o método `corr` e passamos como argumento a coluna \"Survived\". "
   ]
  },
  {
   "cell_type": "code",
   "execution_count": 101,
   "metadata": {},
   "outputs": [
    {
     "data": {
      "text/plain": [
       "-0.07722109457217756"
      ]
     },
     "execution_count": 101,
     "metadata": {},
     "output_type": "execute_result"
    }
   ],
   "source": [
    "df_titanic[\"Age\"].corr(df_titanic[\"Survived\"])"
   ]
  },
  {
   "cell_type": "markdown",
   "metadata": {},
   "source": [
    "Pode passar o parâmetro `method` para especificarmos o método de correlação que queremos usar, temos:<br>\n",
    "* Pearson, conhecido como Coeficiente de Correlação de Pearson\n",
    "* Spearman, conhecido como Coeficiente de correlação de postos de Spearman\n",
    "* Kendall Tau\n",
    "\n",
    "Provavelmente, nos apontamentos de \"Análise de Dados\", ensinarei a calcular manual alguns desde métodos, e quando é preferível usar um ou outro."
   ]
  },
  {
   "cell_type": "markdown",
   "metadata": {},
   "source": [
    "2 métodos muito importantes são os: `fillna` e `dropna` - O primeiro substitui todos os NaN por um valor especificado, já o segundo remove todas as amostras que tenham algum valor NaN."
   ]
  },
  {
   "cell_type": "code",
   "execution_count": 104,
   "metadata": {},
   "outputs": [
    {
     "name": "stdout",
     "output_type": "stream",
     "text": [
      "Número de valores que não são Nan:  714\n",
      "Número de valores que não são Nan:  891\n"
     ]
    }
   ],
   "source": [
    "# Vamos substituir todas as idades que têm NaN por 0\n",
    "\n",
    "print(\"Número de valores que não são Nan: \", df_titanic[\"Age\"].count())\n",
    "\n",
    "df_titanic[\"Age\"].fillna(0, inplace=True)\n",
    "\n",
    "print(\"Número de valores que não são Nan: \", df_titanic[\"Age\"].count())"
   ]
  },
  {
   "cell_type": "markdown",
   "metadata": {},
   "source": [
    "Devido a ter passsado `inplace=True`, ele aplicou as modificações permanentemente no DataFrame. E como podemos ver o tamanho de valores que são NaNs aumentou (891 é o número de amostras total deste DataFrame, portanto agora todos os valores são numéricos)"
   ]
  },
  {
   "cell_type": "markdown",
   "metadata": {},
   "source": [
    "Agora vamos testar o `fillna`, vamos remover todas as amostras que não tiverem valor (NaN) na coluna \"Cabin\"."
   ]
  },
  {
   "cell_type": "code",
   "execution_count": 109,
   "metadata": {},
   "outputs": [
    {
     "name": "stdout",
     "output_type": "stream",
     "text": [
      "Número de amostras antes de remover os NaNs da Cabin:  891\n",
      "Número de amostras depois de remover os NaNs da Cabin:  204\n"
     ]
    }
   ],
   "source": [
    "print(\"Número de amostras antes de remover os NaNs da Cabin: \", df_titanic.shape[0])\n",
    "df_titanic.dropna(subset=[\"Cabin\"], inplace=True)\n",
    "print(\"Número de amostras depois de remover os NaNs da Cabin: \", df_titanic.shape[0])"
   ]
  },
  {
   "cell_type": "markdown",
   "metadata": {},
   "source": [
    "Bem passámos de 891 linhas/amostras/observações para 204, havia pouca gente com informação da \"Cabin\" neste dataset!"
   ]
  },
  {
   "cell_type": "markdown",
   "metadata": {},
   "source": [
    "Uma coisa que também pode ser útil é contar o número de valores únicos que ocorrem dentro de uma coluna. Para isso usamos o `value_counts`."
   ]
  },
  {
   "cell_type": "code",
   "execution_count": 110,
   "metadata": {},
   "outputs": [
    {
     "data": {
      "text/plain": [
       "male      107\n",
       "female     97\n",
       "Name: Sex, dtype: int64"
      ]
     },
     "execution_count": 110,
     "metadata": {},
     "output_type": "execute_result"
    }
   ],
   "source": [
    "df_titanic[\"Sex\"].value_counts()"
   ]
  },
  {
   "cell_type": "markdown",
   "metadata": {},
   "source": [
    "Para contarmos o número de valores únicos, utilizamos o método `nunique`"
   ]
  },
  {
   "cell_type": "code",
   "execution_count": 112,
   "metadata": {},
   "outputs": [
    {
     "data": {
      "text/plain": [
       "2"
      ]
     },
     "execution_count": 112,
     "metadata": {},
     "output_type": "execute_result"
    }
   ],
   "source": [
    "df_titanic[\"Sex\"].nunique()"
   ]
  },
  {
   "cell_type": "markdown",
   "metadata": {},
   "source": [
    "Também temos o método `unique` que retorna os valores únicos dentro de um numpy array."
   ]
  },
  {
   "cell_type": "code",
   "execution_count": 114,
   "metadata": {},
   "outputs": [
    {
     "data": {
      "text/plain": [
       "array(['female', 'male'], dtype=object)"
      ]
     },
     "execution_count": 114,
     "metadata": {},
     "output_type": "execute_result"
    }
   ],
   "source": [
    "df_titanic[\"Sex\"].unique()"
   ]
  },
  {
   "cell_type": "markdown",
   "metadata": {},
   "source": [
    "## Multi indexação\n",
    "\n",
    "Este é um tema que eu sei que existe e que é bastante útil, já que ele permite nós termos vários níveis de indexação. No entanto, além de eu não utilizar muito (por enquanto), eu não tenho experiência suficiente para poder tentar vos ensinar e a entender como ele funciona.<br><br>\n",
    "Talvez num futuro eu adicione no lugar disto uma explicação e exemplos de multi indexação."
   ]
  },
  {
   "cell_type": "markdown",
   "metadata": {},
   "source": [
    "## Gráficos com Pandas\n",
    "\n",
    "Sim, o Pandas até permite nós criarmos certos gráficos com ele!! Porém, para isso acontecer teremos que importar uma biblioteca chamada `Matplitlib`, eu falarei dela nos apontamentos de Matplotlib. Ela basicamente permite-nos criar gráficos de vários tipos. Ensinarei a instalar nos próximos apontamentos de matplotlib, mas não é nada demais é só correr: `pip install matplotlib`<br>\n",
    "No caso de usar conda, substituia o pip pelo conda."
   ]
  },
  {
   "cell_type": "code",
   "execution_count": 118,
   "metadata": {},
   "outputs": [],
   "source": [
    "#Importar matplotlib\n",
    "import matplotlib.pyplot as plt\n",
    "\n",
    "# Este comando só é para ser executado caso estejam num Jupyer Notebook\n",
    "%matplotlib inline"
   ]
  },
  {
   "cell_type": "markdown",
   "metadata": {},
   "source": [
    "Podemos por exemplo criar o histograma de uma coluna"
   ]
  },
  {
   "cell_type": "code",
   "execution_count": 123,
   "metadata": {},
   "outputs": [
    {
     "data": {
      "text/plain": [
       "<AxesSubplot:ylabel='Frequency'>"
      ]
     },
     "execution_count": 123,
     "metadata": {},
     "output_type": "execute_result"
    },
    {
     "data": {
      "image/png": "[encoded data removed]",
      "text/plain": [
       "<Figure size 432x288 with 1 Axes>"
      ]
     },
     "metadata": {
      "needs_background": "light"
     },
     "output_type": "display_data"
    }
   ],
   "source": [
    "# Histograma da coluna \"Age\"\n",
    "df_titanic[\"Age\"].plot.hist()"
   ]
  },
  {
   "cell_type": "markdown",
   "metadata": {},
   "source": [
    "Mas também podemos fazer um histograma de todas as colunas/features numéricas, teriamos era que permeiramente fazer um drop de cada feature não numérica."
   ]
  },
  {
   "cell_type": "markdown",
   "metadata": {},
   "source": [
    "Podemos mostrar as amostras com base em 2 colunas. Vamos fazer a \"Fare\" (y) em função da \"Age\" (x)."
   ]
  },
  {
   "cell_type": "code",
   "execution_count": 125,
   "metadata": {},
   "outputs": [
    {
     "data": {
      "text/plain": [
       "<AxesSubplot:xlabel='Age', ylabel='Fare'>"
      ]
     },
     "execution_count": 125,
     "metadata": {},
     "output_type": "execute_result"
    },
    {
     "data": {
      "image/png": "[encoded data removed]",
      "text/plain": [
       "<Figure size 432x288 with 1 Axes>"
      ]
     },
     "metadata": {
      "needs_background": "light"
     },
     "output_type": "display_data"
    }
   ],
   "source": [
    "df_titanic.plot.scatter(\"Age\", \"Fare\")"
   ]
  },
  {
   "cell_type": "markdown",
   "metadata": {},
   "source": [
    "Tem várias coisa que dão para fazer, mas eu prefiro usar diretamente o Matplotlib e outra biblioteca que eu falarei depois.<br>\n",
    "No entanto queria mostrar que o Pandas tem algumas funcionalidades gráficas já embutidas."
   ]
  },
  {
   "cell_type": "markdown",
   "metadata": {},
   "source": [
    "# Conclusão\n",
    "\n",
    "Este capítulo em comparação ao de Numpy, foi mais prático devido ao Pandas ser mais para manipulação de Datasets do que propriamente para aplicação de matemática como acontece no Numpy.<br><br>\n",
    "Queria recomendar um cursinho de Pandas que o <a href=\"https://www.twitch.tv/teomewhy\">teomewhy</a> fez. Por vezes ajuda ver explicações de outras pessoas para entender certos conceitos, logo sem demoras clique <a href=\"https://github.com/TeoCalvo/PandasToTeo\">aqui</a>.<br><br>\n",
    "Lembro que ainda vamos ver mais coisas acerca do Pandas nos apontamentos de \"Análise de Dados\", mas estão todos à vontade para pedir para eu adicionar ou remover coisas daqui. Qualquer dúvida ou opinião podem mandar em alguma das minhas redes sociais (links abaixo) ou abram uma Issue aqui no Github."
   ]
  },
  {
   "cell_type": "markdown",
   "metadata": {},
   "source": [
    "# Contactos\n",
    "[Twitter](https://twitter.com/iN127pkt)<br>\n",
    "[Instagram](https://www.instagram.com/t_1g4_x/)<br>\n",
    "[Email](tiagodeha@protonmail.com)<br>"
   ]
  },
  {
   "cell_type": "code",
   "execution_count": null,
   "metadata": {},
   "outputs": [],
   "source": []
  }
 ],
 "metadata": {
  "kernelspec": {
   "display_name": "Python 3",
   "language": "python",
   "name": "python3"
  },
  "language_info": {
   "codemirror_mode": {
    "name": "ipython",
    "version": 3
   },
   "file_extension": ".py",
   "mimetype": "text/x-python",
   "name": "python",
   "nbconvert_exporter": "python",
   "pygments_lexer": "ipython3",
   "version": "3.8.2"
  }
 },
 "nbformat": 4,
 "nbformat_minor": 4
}
